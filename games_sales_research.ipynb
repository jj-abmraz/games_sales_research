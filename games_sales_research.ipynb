{
 "cells": [
  {
   "cell_type": "markdown",
   "metadata": {},
   "source": [
    "# Исследование продаж игр интернет-магазина «Стримчик»\n",
    "___\n",
    "**Описание исследования**\n",
    "\n",
    "В нашем распоряжении данные о продажах компьютерных игр до 2016 года в интернет-магазине. Данные содержат информацию о продажах игр, оценки пользователей и экспертов, жанры и платформы (например, Xbox или PlayStation). Нам необходимо провести исследования для выявления закономерностей успешности игры. Это позволит сделать ставку на потенциально популярный продукт и спланировать рекламные кампании.\n",
    "___\n",
    "**Цель исследования**\n",
    "\n",
    "Провести анализ данных для выявления закономерностей успешности игры, благодаря чему интернет-магазин сможет заранее определить потенциально успешную игру, провести успешную маркетинговую кампанию и, как итог, повысить показатели продаж.\n",
    "___\n",
    "**Задачи исследования**\n",
    "\n",
    "- изучение исходных данных;\n",
    "- предобработка данных;\n",
    "- провести исследовательских анализ данных;\n",
    "- провести статистический анализ данных;\n",
    "- проверка гипотез;\n",
    "- общий вывод.\n",
    "___\n",
    "**Исходные данные**\n",
    "\n",
    "Заказчик предоставил нам 1 датасет, в котором собрана необходимая для исследования информация. Исходные данные насчитывают 16715 объектов и 11 признаков.\n",
    "___\n",
    "**Данное исследование разделим на несколько частей**\n",
    "\n",
    "***Часть 1. <a href='#section1'>Изучим общую информации</a>:***\n",
    "- <a href='#section1.1'>загрузим используемые библиотеки</a>;\n",
    "- <a href='#section1.2'>загрузим датасет и изучим общую информацию предоставленных данных</a>;\n",
    "- <a href='#section1.3'>вывод по части №1</a>.\n",
    "\n",
    "***Часть 2. <a href='#section2'>Предобработка данных</a>:***\n",
    "- <a href='#section2.1'>приведем наименования столбцов к стилю `snake_case`</a>;\n",
    "- <a href='#section2.2'>обработаем пропущенные значения</a>;\n",
    "- <a href='#section2.3'>изменим тип данных столбцов, где необходимо</a>;\n",
    "- <a href='#section2.4'>сгенерируем дополнительные признаки</a>;\n",
    "- <a href='#section2.5'>обработаем дубликаты</a>;\n",
    "- <a href='#section2.6'>вывод по части №2</a>.\n",
    "\n",
    "***Часть 3. <a href='#section3'>Исследовательский анализ данных (EDA)</a>:***\n",
    "- <a href='#section3.1'>проанализируем количество игр по годам</a>;\n",
    "- <a href='#section3.2'>проанализируем суммарные продажи игр для различных платформ</a>;\n",
    "- <a href='#section3.3'>рассмотрим распределение продаж для топ-10 платформ</a>;\n",
    "- <a href='#section3.4'>строим распределение продаж для топ-10 платформ за актуальный период (2014-2016 гг.)</a>;\n",
    "- <a href='#section3.5'>посмотрим как влияют на продажи отзывы пользователей и критиков</a>;\n",
    "- <a href='#section3.6'>распределение игр по жанрам</a>;\n",
    "- <a href='#section3.7'>вывод по части №3</a>.\n",
    "\n",
    "***Часть 4. <a href='#section4'>Составление портрета пользователя</a>:***\n",
    "- <a href='#section4.1'>определим топ-5 платформ</a>;\n",
    "- <a href='#section4.2'>определим топ-5 жанров</a>;\n",
    "- <a href='#section4.3'>влияние ESRB-рейтинга на продажи</a>.\n",
    "\n",
    "***Часть 5. <a href='#section5'> Проверка гипотез</a>:***\n",
    "- <a href='#section5.1'>гипотеза: средние пользовательские рейтинги платформ Xbox One и PC одинаковы</a>;\n",
    "- <a href='#section5.2'>гипотеза: средние пользовательские рейтинги жанров `Action` и `Sports` разные</a>.\n",
    "\n",
    "***Часть 6. <a href='#section6'>Общий вывод по проекту</a>.***\n"
   ]
  },
  {
   "cell_type": "markdown",
   "metadata": {},
   "source": [
    "<a id='section1.1'></a>\n",
    "#### Загрузим, используемые в проекте, библиотеки:"
   ]
  },
  {
   "cell_type": "code",
   "execution_count": 1,
   "metadata": {},
   "outputs": [],
   "source": [
    "import os\n",
    "\n",
    "import pandas as pd\n",
    "import matplotlib.pyplot as plt\n",
    "import seaborn as sns\n",
    "from IPython.display import display\n",
    "from scipy import stats as st"
   ]
  },
  {
   "cell_type": "markdown",
   "metadata": {},
   "source": [
    "<a id='section1'></a>\n",
    "### Изучение общей информации."
   ]
  },
  {
   "cell_type": "markdown",
   "metadata": {},
   "source": [
    "<a id='section1.2'></a>\n",
    "#### Откроем `csv` файл с данными и сохраним датасет в переменную `data`"
   ]
  },
  {
   "cell_type": "code",
   "execution_count": 2,
   "metadata": {},
   "outputs": [
    {
     "name": "stdout",
     "output_type": "stream",
     "text": [
      "<class 'pandas.core.frame.DataFrame'>\n",
      "RangeIndex: 16715 entries, 0 to 16714\n",
      "Data columns (total 11 columns):\n",
      " #   Column           Non-Null Count  Dtype  \n",
      "---  ------           --------------  -----  \n",
      " 0   Name             16713 non-null  object \n",
      " 1   Platform         16715 non-null  object \n",
      " 2   Year_of_Release  16446 non-null  float64\n",
      " 3   Genre            16713 non-null  object \n",
      " 4   NA_sales         16715 non-null  float64\n",
      " 5   EU_sales         16715 non-null  float64\n",
      " 6   JP_sales         16715 non-null  float64\n",
      " 7   Other_sales      16715 non-null  float64\n",
      " 8   Critic_Score     8137 non-null   float64\n",
      " 9   User_Score       10014 non-null  object \n",
      " 10  Rating           9949 non-null   object \n",
      "dtypes: float64(6), object(5)\n",
      "memory usage: 1.4+ MB\n"
     ]
    }
   ],
   "source": [
    "# серверный путь\n",
    "pth1 = '/datasets/'\n",
    "# локальный путь\n",
    "pth2 = 'D:/dev/data_science/datasets/'\n",
    "\n",
    "# откроем и сохраним датафрейм в переменную `data`\n",
    "try:\n",
    "    if os.path.exists(pth1):\n",
    "        data = pd.read_csv(pth1+'games.csv')\n",
    "    elif os.path.exists(pth2):\n",
    "        data = pd.read_csv(pth2+'games.csv')\n",
    "except FileNotFoundError:\n",
    "    print('Path does not exist. Check path')\n",
    "    \n",
    "# выведем общую информацию о таблице\n",
    "data.info()"
   ]
  },
  {
   "cell_type": "markdown",
   "metadata": {},
   "source": [
    "Перед нами таблица из 11 столбцов и 16715 строк. Сразу обращаем внимание на то, что названия столбцов нужно привести к стилю `snale_case`. Также видим наличие пропущенных значений в некоторых столбцах. С типами данных, на первый взгляд, есть некоторые проблемы, но наверняка убедимся в этом чуть позже."
   ]
  },
  {
   "cell_type": "markdown",
   "metadata": {},
   "source": [
    "Выведем на экран первые 10 строк датасет:"
   ]
  },
  {
   "cell_type": "code",
   "execution_count": 3,
   "metadata": {},
   "outputs": [
    {
     "data": {
      "text/html": [
       "<div>\n",
       "<style scoped>\n",
       "    .dataframe tbody tr th:only-of-type {\n",
       "        vertical-align: middle;\n",
       "    }\n",
       "\n",
       "    .dataframe tbody tr th {\n",
       "        vertical-align: top;\n",
       "    }\n",
       "\n",
       "    .dataframe thead th {\n",
       "        text-align: right;\n",
       "    }\n",
       "</style>\n",
       "<table border=\"1\" class=\"dataframe\">\n",
       "  <thead>\n",
       "    <tr style=\"text-align: right;\">\n",
       "      <th></th>\n",
       "      <th>Name</th>\n",
       "      <th>Platform</th>\n",
       "      <th>Year_of_Release</th>\n",
       "      <th>Genre</th>\n",
       "      <th>NA_sales</th>\n",
       "      <th>EU_sales</th>\n",
       "      <th>JP_sales</th>\n",
       "      <th>Other_sales</th>\n",
       "      <th>Critic_Score</th>\n",
       "      <th>User_Score</th>\n",
       "      <th>Rating</th>\n",
       "    </tr>\n",
       "  </thead>\n",
       "  <tbody>\n",
       "    <tr>\n",
       "      <th>0</th>\n",
       "      <td>Wii Sports</td>\n",
       "      <td>Wii</td>\n",
       "      <td>2006.0</td>\n",
       "      <td>Sports</td>\n",
       "      <td>41.36</td>\n",
       "      <td>28.96</td>\n",
       "      <td>3.77</td>\n",
       "      <td>8.45</td>\n",
       "      <td>76.0</td>\n",
       "      <td>8</td>\n",
       "      <td>E</td>\n",
       "    </tr>\n",
       "    <tr>\n",
       "      <th>1</th>\n",
       "      <td>Super Mario Bros.</td>\n",
       "      <td>NES</td>\n",
       "      <td>1985.0</td>\n",
       "      <td>Platform</td>\n",
       "      <td>29.08</td>\n",
       "      <td>3.58</td>\n",
       "      <td>6.81</td>\n",
       "      <td>0.77</td>\n",
       "      <td>NaN</td>\n",
       "      <td>NaN</td>\n",
       "      <td>NaN</td>\n",
       "    </tr>\n",
       "    <tr>\n",
       "      <th>2</th>\n",
       "      <td>Mario Kart Wii</td>\n",
       "      <td>Wii</td>\n",
       "      <td>2008.0</td>\n",
       "      <td>Racing</td>\n",
       "      <td>15.68</td>\n",
       "      <td>12.76</td>\n",
       "      <td>3.79</td>\n",
       "      <td>3.29</td>\n",
       "      <td>82.0</td>\n",
       "      <td>8.3</td>\n",
       "      <td>E</td>\n",
       "    </tr>\n",
       "    <tr>\n",
       "      <th>3</th>\n",
       "      <td>Wii Sports Resort</td>\n",
       "      <td>Wii</td>\n",
       "      <td>2009.0</td>\n",
       "      <td>Sports</td>\n",
       "      <td>15.61</td>\n",
       "      <td>10.93</td>\n",
       "      <td>3.28</td>\n",
       "      <td>2.95</td>\n",
       "      <td>80.0</td>\n",
       "      <td>8</td>\n",
       "      <td>E</td>\n",
       "    </tr>\n",
       "    <tr>\n",
       "      <th>4</th>\n",
       "      <td>Pokemon Red/Pokemon Blue</td>\n",
       "      <td>GB</td>\n",
       "      <td>1996.0</td>\n",
       "      <td>Role-Playing</td>\n",
       "      <td>11.27</td>\n",
       "      <td>8.89</td>\n",
       "      <td>10.22</td>\n",
       "      <td>1.00</td>\n",
       "      <td>NaN</td>\n",
       "      <td>NaN</td>\n",
       "      <td>NaN</td>\n",
       "    </tr>\n",
       "    <tr>\n",
       "      <th>5</th>\n",
       "      <td>Tetris</td>\n",
       "      <td>GB</td>\n",
       "      <td>1989.0</td>\n",
       "      <td>Puzzle</td>\n",
       "      <td>23.20</td>\n",
       "      <td>2.26</td>\n",
       "      <td>4.22</td>\n",
       "      <td>0.58</td>\n",
       "      <td>NaN</td>\n",
       "      <td>NaN</td>\n",
       "      <td>NaN</td>\n",
       "    </tr>\n",
       "    <tr>\n",
       "      <th>6</th>\n",
       "      <td>New Super Mario Bros.</td>\n",
       "      <td>DS</td>\n",
       "      <td>2006.0</td>\n",
       "      <td>Platform</td>\n",
       "      <td>11.28</td>\n",
       "      <td>9.14</td>\n",
       "      <td>6.50</td>\n",
       "      <td>2.88</td>\n",
       "      <td>89.0</td>\n",
       "      <td>8.5</td>\n",
       "      <td>E</td>\n",
       "    </tr>\n",
       "    <tr>\n",
       "      <th>7</th>\n",
       "      <td>Wii Play</td>\n",
       "      <td>Wii</td>\n",
       "      <td>2006.0</td>\n",
       "      <td>Misc</td>\n",
       "      <td>13.96</td>\n",
       "      <td>9.18</td>\n",
       "      <td>2.93</td>\n",
       "      <td>2.84</td>\n",
       "      <td>58.0</td>\n",
       "      <td>6.6</td>\n",
       "      <td>E</td>\n",
       "    </tr>\n",
       "    <tr>\n",
       "      <th>8</th>\n",
       "      <td>New Super Mario Bros. Wii</td>\n",
       "      <td>Wii</td>\n",
       "      <td>2009.0</td>\n",
       "      <td>Platform</td>\n",
       "      <td>14.44</td>\n",
       "      <td>6.94</td>\n",
       "      <td>4.70</td>\n",
       "      <td>2.24</td>\n",
       "      <td>87.0</td>\n",
       "      <td>8.4</td>\n",
       "      <td>E</td>\n",
       "    </tr>\n",
       "    <tr>\n",
       "      <th>9</th>\n",
       "      <td>Duck Hunt</td>\n",
       "      <td>NES</td>\n",
       "      <td>1984.0</td>\n",
       "      <td>Shooter</td>\n",
       "      <td>26.93</td>\n",
       "      <td>0.63</td>\n",
       "      <td>0.28</td>\n",
       "      <td>0.47</td>\n",
       "      <td>NaN</td>\n",
       "      <td>NaN</td>\n",
       "      <td>NaN</td>\n",
       "    </tr>\n",
       "  </tbody>\n",
       "</table>\n",
       "</div>"
      ],
      "text/plain": [
       "                        Name Platform  Year_of_Release         Genre  \\\n",
       "0                 Wii Sports      Wii           2006.0        Sports   \n",
       "1          Super Mario Bros.      NES           1985.0      Platform   \n",
       "2             Mario Kart Wii      Wii           2008.0        Racing   \n",
       "3          Wii Sports Resort      Wii           2009.0        Sports   \n",
       "4   Pokemon Red/Pokemon Blue       GB           1996.0  Role-Playing   \n",
       "5                     Tetris       GB           1989.0        Puzzle   \n",
       "6      New Super Mario Bros.       DS           2006.0      Platform   \n",
       "7                   Wii Play      Wii           2006.0          Misc   \n",
       "8  New Super Mario Bros. Wii      Wii           2009.0      Platform   \n",
       "9                  Duck Hunt      NES           1984.0       Shooter   \n",
       "\n",
       "   NA_sales  EU_sales  JP_sales  Other_sales  Critic_Score User_Score Rating  \n",
       "0     41.36     28.96      3.77         8.45          76.0          8      E  \n",
       "1     29.08      3.58      6.81         0.77           NaN        NaN    NaN  \n",
       "2     15.68     12.76      3.79         3.29          82.0        8.3      E  \n",
       "3     15.61     10.93      3.28         2.95          80.0          8      E  \n",
       "4     11.27      8.89     10.22         1.00           NaN        NaN    NaN  \n",
       "5     23.20      2.26      4.22         0.58           NaN        NaN    NaN  \n",
       "6     11.28      9.14      6.50         2.88          89.0        8.5      E  \n",
       "7     13.96      9.18      2.93         2.84          58.0        6.6      E  \n",
       "8     14.44      6.94      4.70         2.24          87.0        8.4      E  \n",
       "9     26.93      0.63      0.28         0.47           NaN        NaN    NaN  "
      ]
     },
     "execution_count": 3,
     "metadata": {},
     "output_type": "execute_result"
    }
   ],
   "source": [
    "data.head(10)"
   ]
  },
  {
   "cell_type": "markdown",
   "metadata": {},
   "source": [
    "<a id='section1.3'></a>\n",
    "### **Вывод по изучению данных**\n",
    "\n",
    "В таблице `data`:\n",
    "- 11 столбцов;\n",
    "- 16715 вхождений (строк);\n",
    "- в некоторых столбцах имеются пропуски;\n",
    "- несколько столбцов имеют неверный тип данных;\n",
    "- каждый столбец не удовлетворяет стилю `snake_case`."
   ]
  },
  {
   "cell_type": "markdown",
   "metadata": {},
   "source": [
    "## <a id='section2'></a>Предобработка данных"
   ]
  },
  {
   "cell_type": "markdown",
   "metadata": {},
   "source": [
    "<a id='section2.1'></a>\n",
    "### Приведем названия столбцов в соответствие со стилем `snake_case`"
   ]
  },
  {
   "cell_type": "code",
   "execution_count": 4,
   "metadata": {},
   "outputs": [
    {
     "data": {
      "text/plain": [
       "Index(['name', 'platform', 'year_of_release', 'genre', 'na_sales', 'eu_sales',\n",
       "       'jp_sales', 'other_sales', 'critic_score', 'user_score', 'rating'],\n",
       "      dtype='object')"
      ]
     },
     "execution_count": 4,
     "metadata": {},
     "output_type": "execute_result"
    }
   ],
   "source": [
    "# применим к столбцам `data` метод `str.lower()`\n",
    "data.columns = data.columns.str.lower()\n",
    "# проверим результат\n",
    "data.columns"
   ]
  },
  {
   "cell_type": "markdown",
   "metadata": {},
   "source": [
    "Теперь каждый столбец обозван так, как того требует стиль `snake_case`"
   ]
  },
  {
   "cell_type": "markdown",
   "metadata": {},
   "source": [
    "<a id='section2.2'></a>\n",
    "### Обработаем пропуски\n",
    "\n",
    "Перед выполнением последующих преобразований сделаем копию текущего датасета. Все изменения будем производить именно с копией (`df`):"
   ]
  },
  {
   "cell_type": "code",
   "execution_count": 5,
   "metadata": {},
   "outputs": [
    {
     "data": {
      "text/plain": [
       "(16715, 11)"
      ]
     },
     "execution_count": 5,
     "metadata": {},
     "output_type": "execute_result"
    }
   ],
   "source": [
    "df = data.copy()\n",
    "df.shape"
   ]
  },
  {
   "cell_type": "markdown",
   "metadata": {},
   "source": [
    "Из общей информации следует, что пропуски имеются во всех столбцах, кроме столбцов с информацией о платформе игры и о продажах.\n",
    "\n",
    "**Причиной** же возникновения пропусков с большей долей вероятности является ошибка при выгрузке данных с ресурса (данные спарсились не должным образом), либо отсутствие этих данных на самом ресурсе. Игры могут быть экзотичными (малоизвестными), из-за чего информация о них могла попросту не дойти до ресурса. Из числа прочих возможных причин можно упомянуть человеческую невнимательность: при подготовке датасета можно по ошибке \"выбросить\" часть данных. Маловероятно, но правдоподобно.\n",
    "\n",
    "Заполнить пропуски не представляется логичным ни в одном из столбцов: заполнение пропущенных значений в столбце `critic_score` средним или медианным значениями лишь исказит данные и никак не поможет в нашем исследовании, ровно как и в столбцах `year_of_release`, `user_score`, `rating`.\n",
    "\n",
    "Столбец `rating` довольно специфичный, каждой игре огранизация Entertainment Software Rating Board (ESRB) присваивает определенный возрастной рейтинг на основе содержимого игры, поэтому мы не вправе заполнять пропущенные значения (а если и заполним неким значением, то это лишь, опять же, исказит данные).\n",
    "\n",
    "В `name` и `genre` имеются 2 пропуска, давайте посмотрим на них:"
   ]
  },
  {
   "cell_type": "code",
   "execution_count": 6,
   "metadata": {},
   "outputs": [
    {
     "data": {
      "text/html": [
       "<div>\n",
       "<style scoped>\n",
       "    .dataframe tbody tr th:only-of-type {\n",
       "        vertical-align: middle;\n",
       "    }\n",
       "\n",
       "    .dataframe tbody tr th {\n",
       "        vertical-align: top;\n",
       "    }\n",
       "\n",
       "    .dataframe thead th {\n",
       "        text-align: right;\n",
       "    }\n",
       "</style>\n",
       "<table border=\"1\" class=\"dataframe\">\n",
       "  <thead>\n",
       "    <tr style=\"text-align: right;\">\n",
       "      <th></th>\n",
       "      <th>name</th>\n",
       "      <th>platform</th>\n",
       "      <th>year_of_release</th>\n",
       "      <th>genre</th>\n",
       "      <th>na_sales</th>\n",
       "      <th>eu_sales</th>\n",
       "      <th>jp_sales</th>\n",
       "      <th>other_sales</th>\n",
       "      <th>critic_score</th>\n",
       "      <th>user_score</th>\n",
       "      <th>rating</th>\n",
       "    </tr>\n",
       "  </thead>\n",
       "  <tbody>\n",
       "    <tr>\n",
       "      <th>659</th>\n",
       "      <td>NaN</td>\n",
       "      <td>GEN</td>\n",
       "      <td>1993.0</td>\n",
       "      <td>NaN</td>\n",
       "      <td>1.78</td>\n",
       "      <td>0.53</td>\n",
       "      <td>0.00</td>\n",
       "      <td>0.08</td>\n",
       "      <td>NaN</td>\n",
       "      <td>NaN</td>\n",
       "      <td>NaN</td>\n",
       "    </tr>\n",
       "    <tr>\n",
       "      <th>14244</th>\n",
       "      <td>NaN</td>\n",
       "      <td>GEN</td>\n",
       "      <td>1993.0</td>\n",
       "      <td>NaN</td>\n",
       "      <td>0.00</td>\n",
       "      <td>0.00</td>\n",
       "      <td>0.03</td>\n",
       "      <td>0.00</td>\n",
       "      <td>NaN</td>\n",
       "      <td>NaN</td>\n",
       "      <td>NaN</td>\n",
       "    </tr>\n",
       "  </tbody>\n",
       "</table>\n",
       "</div>"
      ],
      "text/plain": [
       "      name platform  year_of_release genre  na_sales  eu_sales  jp_sales  \\\n",
       "659    NaN      GEN           1993.0   NaN      1.78      0.53      0.00   \n",
       "14244  NaN      GEN           1993.0   NaN      0.00      0.00      0.03   \n",
       "\n",
       "       other_sales  critic_score user_score rating  \n",
       "659           0.08           NaN        NaN    NaN  \n",
       "14244         0.00           NaN        NaN    NaN  "
      ]
     },
     "execution_count": 6,
     "metadata": {},
     "output_type": "execute_result"
    }
   ],
   "source": [
    "df[df['name'].isna()]"
   ]
  },
  {
   "cell_type": "markdown",
   "metadata": {},
   "source": [
    "Это объекты с годом выпуска 1993 для платформы GEN. Информация о продажах, платформе и годе релиза не даст нам полной картины об успешности игр. С другой стороны, строка 14244 предельно ясно \"говорит\" о полном провале игры. А вот строка 659 наоборот показывает весьма успешные продажи игры. Вероятно, рейтинг данной игры был не самым плохим. Но с этими двумя строчками кашу сварить не получится, поэтому просто оставим их на обочине исследования (удалим эти строки из датасета), но перед этим посмотрим при помощи метода `shape` размерность всего датафрейма:"
   ]
  },
  {
   "cell_type": "code",
   "execution_count": 7,
   "metadata": {},
   "outputs": [
    {
     "data": {
      "text/plain": [
       "(16715, 11)"
      ]
     },
     "execution_count": 7,
     "metadata": {},
     "output_type": "execute_result"
    }
   ],
   "source": [
    "df.shape"
   ]
  },
  {
   "cell_type": "markdown",
   "metadata": {},
   "source": [
    "И теперь избавимся от двух строк."
   ]
  },
  {
   "cell_type": "code",
   "execution_count": 8,
   "metadata": {},
   "outputs": [
    {
     "data": {
      "text/plain": [
       "(16713, 11)"
      ]
     },
     "execution_count": 8,
     "metadata": {},
     "output_type": "execute_result"
    }
   ],
   "source": [
    "# обновим содержимое датасета, убрав строки без имени\n",
    "df = df[df['name'].notna()].reset_index(drop=True)\n",
    "# убедимся, что лишь 2 строки были удалены\n",
    "df.shape"
   ]
  },
  {
   "cell_type": "markdown",
   "metadata": {},
   "source": [
    "На очереди столбец с годом выпуска игры `year_of_release`. Посмотрим какую долю от общего числа записей составляют записи с пропущенным значением в данном столбце:"
   ]
  },
  {
   "cell_type": "code",
   "execution_count": 9,
   "metadata": {},
   "outputs": [
    {
     "data": {
      "text/plain": [
       "0.016095255190570215"
      ]
     },
     "execution_count": 9,
     "metadata": {},
     "output_type": "execute_result"
    }
   ],
   "source": [
    "df[df['year_of_release'].isna()].shape[0] / df.shape[0]"
   ]
  },
  {
   "cell_type": "markdown",
   "metadata": {},
   "source": [
    "Пропусков менее 2% от общего числа записей. Посмотрим на описание этих строк при помощи методов `describe()` и `info`."
   ]
  },
  {
   "cell_type": "code",
   "execution_count": 10,
   "metadata": {},
   "outputs": [
    {
     "data": {
      "text/html": [
       "<div>\n",
       "<style scoped>\n",
       "    .dataframe tbody tr th:only-of-type {\n",
       "        vertical-align: middle;\n",
       "    }\n",
       "\n",
       "    .dataframe tbody tr th {\n",
       "        vertical-align: top;\n",
       "    }\n",
       "\n",
       "    .dataframe thead th {\n",
       "        text-align: right;\n",
       "    }\n",
       "</style>\n",
       "<table border=\"1\" class=\"dataframe\">\n",
       "  <thead>\n",
       "    <tr style=\"text-align: right;\">\n",
       "      <th></th>\n",
       "      <th>year_of_release</th>\n",
       "      <th>na_sales</th>\n",
       "      <th>eu_sales</th>\n",
       "      <th>jp_sales</th>\n",
       "      <th>other_sales</th>\n",
       "      <th>critic_score</th>\n",
       "    </tr>\n",
       "  </thead>\n",
       "  <tbody>\n",
       "    <tr>\n",
       "      <th>count</th>\n",
       "      <td>0.0</td>\n",
       "      <td>269.000000</td>\n",
       "      <td>269.000000</td>\n",
       "      <td>269.000000</td>\n",
       "      <td>269.000000</td>\n",
       "      <td>154.000000</td>\n",
       "    </tr>\n",
       "    <tr>\n",
       "      <th>mean</th>\n",
       "      <td>NaN</td>\n",
       "      <td>0.219888</td>\n",
       "      <td>0.090929</td>\n",
       "      <td>0.024907</td>\n",
       "      <td>0.032007</td>\n",
       "      <td>67.584416</td>\n",
       "    </tr>\n",
       "    <tr>\n",
       "      <th>std</th>\n",
       "      <td>NaN</td>\n",
       "      <td>0.424907</td>\n",
       "      <td>0.207933</td>\n",
       "      <td>0.090160</td>\n",
       "      <td>0.075546</td>\n",
       "      <td>14.828740</td>\n",
       "    </tr>\n",
       "    <tr>\n",
       "      <th>min</th>\n",
       "      <td>NaN</td>\n",
       "      <td>0.000000</td>\n",
       "      <td>0.000000</td>\n",
       "      <td>0.000000</td>\n",
       "      <td>0.000000</td>\n",
       "      <td>22.000000</td>\n",
       "    </tr>\n",
       "    <tr>\n",
       "      <th>25%</th>\n",
       "      <td>NaN</td>\n",
       "      <td>0.010000</td>\n",
       "      <td>0.000000</td>\n",
       "      <td>0.000000</td>\n",
       "      <td>0.000000</td>\n",
       "      <td>57.000000</td>\n",
       "    </tr>\n",
       "    <tr>\n",
       "      <th>50%</th>\n",
       "      <td>NaN</td>\n",
       "      <td>0.090000</td>\n",
       "      <td>0.020000</td>\n",
       "      <td>0.000000</td>\n",
       "      <td>0.010000</td>\n",
       "      <td>70.000000</td>\n",
       "    </tr>\n",
       "    <tr>\n",
       "      <th>75%</th>\n",
       "      <td>NaN</td>\n",
       "      <td>0.240000</td>\n",
       "      <td>0.100000</td>\n",
       "      <td>0.000000</td>\n",
       "      <td>0.030000</td>\n",
       "      <td>78.000000</td>\n",
       "    </tr>\n",
       "    <tr>\n",
       "      <th>max</th>\n",
       "      <td>NaN</td>\n",
       "      <td>4.260000</td>\n",
       "      <td>2.360000</td>\n",
       "      <td>0.770000</td>\n",
       "      <td>0.710000</td>\n",
       "      <td>94.000000</td>\n",
       "    </tr>\n",
       "  </tbody>\n",
       "</table>\n",
       "</div>"
      ],
      "text/plain": [
       "       year_of_release    na_sales    eu_sales    jp_sales  other_sales  \\\n",
       "count              0.0  269.000000  269.000000  269.000000   269.000000   \n",
       "mean               NaN    0.219888    0.090929    0.024907     0.032007   \n",
       "std                NaN    0.424907    0.207933    0.090160     0.075546   \n",
       "min                NaN    0.000000    0.000000    0.000000     0.000000   \n",
       "25%                NaN    0.010000    0.000000    0.000000     0.000000   \n",
       "50%                NaN    0.090000    0.020000    0.000000     0.010000   \n",
       "75%                NaN    0.240000    0.100000    0.000000     0.030000   \n",
       "max                NaN    4.260000    2.360000    0.770000     0.710000   \n",
       "\n",
       "       critic_score  \n",
       "count    154.000000  \n",
       "mean      67.584416  \n",
       "std       14.828740  \n",
       "min       22.000000  \n",
       "25%       57.000000  \n",
       "50%       70.000000  \n",
       "75%       78.000000  \n",
       "max       94.000000  "
      ]
     },
     "execution_count": 10,
     "metadata": {},
     "output_type": "execute_result"
    }
   ],
   "source": [
    "df[df['year_of_release'].isna()].describe()"
   ]
  },
  {
   "cell_type": "code",
   "execution_count": 11,
   "metadata": {},
   "outputs": [
    {
     "name": "stdout",
     "output_type": "stream",
     "text": [
      "<class 'pandas.core.frame.DataFrame'>\n",
      "Int64Index: 269 entries, 183 to 16520\n",
      "Data columns (total 11 columns):\n",
      " #   Column           Non-Null Count  Dtype  \n",
      "---  ------           --------------  -----  \n",
      " 0   name             269 non-null    object \n",
      " 1   platform         269 non-null    object \n",
      " 2   year_of_release  0 non-null      float64\n",
      " 3   genre            269 non-null    object \n",
      " 4   na_sales         269 non-null    float64\n",
      " 5   eu_sales         269 non-null    float64\n",
      " 6   jp_sales         269 non-null    float64\n",
      " 7   other_sales      269 non-null    float64\n",
      " 8   critic_score     154 non-null    float64\n",
      " 9   user_score       175 non-null    object \n",
      " 10  rating           181 non-null    object \n",
      "dtypes: float64(6), object(5)\n",
      "memory usage: 25.2+ KB\n"
     ]
    }
   ],
   "source": [
    "df[df['year_of_release'].isna()].info()"
   ]
  },
  {
   "cell_type": "markdown",
   "metadata": {},
   "source": [
    "У нас имеется 269 объектов с пропущенным годом выпуска. Однако, у этих записей полностью имеются данные о названии, платформе, жанре и продажах. Это важные признаки для исследование, но признаки с рейтингом не менее важны, но у некоторых объектов имеются пропуски в этих столбцах. Заполнить их средним значением - не выход, истинность данных будет нарушена."
   ]
  },
  {
   "cell_type": "markdown",
   "metadata": {},
   "source": [
    "В данных с пропущенным годом имеются довольно приличные объекты (относительно продаж и рейтинга). Но заполнить пропуски, не нарушая достоверность, не представляется возможным (разве что в ручную находить каждую игру и вносить значение), поэтому примем решение удалить эти строки из датасета.\n",
    "\n",
    "Перед удалением вызовем метод `shape` для понимания того, сколько строк в действительности удалено."
   ]
  },
  {
   "cell_type": "code",
   "execution_count": 12,
   "metadata": {},
   "outputs": [
    {
     "data": {
      "text/plain": [
       "16713"
      ]
     },
     "execution_count": 12,
     "metadata": {},
     "output_type": "execute_result"
    }
   ],
   "source": [
    "df.shape[0]"
   ]
  },
  {
   "cell_type": "markdown",
   "metadata": {},
   "source": [
    "И наконец, удаляем строки с пропущенным годом. По завершению данной операции вызовем метод `shape` для проверки удаления верного количества строк. Напомню, должно быть удалено 269 строк."
   ]
  },
  {
   "cell_type": "code",
   "execution_count": 13,
   "metadata": {},
   "outputs": [
    {
     "data": {
      "text/plain": [
       "16444"
      ]
     },
     "execution_count": 13,
     "metadata": {},
     "output_type": "execute_result"
    }
   ],
   "source": [
    "df = df[df['year_of_release'].notna()].reset_index(drop=True)\n",
    "df.shape[0]"
   ]
  },
  {
   "cell_type": "markdown",
   "metadata": {},
   "source": [
    "Получилось. Было удалено ровно 269 строк."
   ]
  },
  {
   "cell_type": "markdown",
   "metadata": {},
   "source": [
    "Заранее нам стало известно о том, что в столбце `user_score` кроется некое значение `tbd` (to be determined, с англ. \"будет определено позднее\"). Проверим это:"
   ]
  },
  {
   "cell_type": "code",
   "execution_count": 14,
   "metadata": {},
   "outputs": [
    {
     "data": {
      "text/html": [
       "<div>\n",
       "<style scoped>\n",
       "    .dataframe tbody tr th:only-of-type {\n",
       "        vertical-align: middle;\n",
       "    }\n",
       "\n",
       "    .dataframe tbody tr th {\n",
       "        vertical-align: top;\n",
       "    }\n",
       "\n",
       "    .dataframe thead th {\n",
       "        text-align: right;\n",
       "    }\n",
       "</style>\n",
       "<table border=\"1\" class=\"dataframe\">\n",
       "  <thead>\n",
       "    <tr style=\"text-align: right;\">\n",
       "      <th></th>\n",
       "      <th>name</th>\n",
       "      <th>platform</th>\n",
       "      <th>year_of_release</th>\n",
       "      <th>genre</th>\n",
       "      <th>na_sales</th>\n",
       "      <th>eu_sales</th>\n",
       "      <th>jp_sales</th>\n",
       "      <th>other_sales</th>\n",
       "      <th>critic_score</th>\n",
       "      <th>user_score</th>\n",
       "      <th>rating</th>\n",
       "    </tr>\n",
       "  </thead>\n",
       "  <tbody>\n",
       "    <tr>\n",
       "      <th>119</th>\n",
       "      <td>Zumba Fitness</td>\n",
       "      <td>Wii</td>\n",
       "      <td>2010.0</td>\n",
       "      <td>Sports</td>\n",
       "      <td>3.45</td>\n",
       "      <td>2.59</td>\n",
       "      <td>0.0</td>\n",
       "      <td>0.66</td>\n",
       "      <td>NaN</td>\n",
       "      <td>tbd</td>\n",
       "      <td>E</td>\n",
       "    </tr>\n",
       "    <tr>\n",
       "      <th>300</th>\n",
       "      <td>Namco Museum: 50th Anniversary</td>\n",
       "      <td>PS2</td>\n",
       "      <td>2005.0</td>\n",
       "      <td>Misc</td>\n",
       "      <td>2.08</td>\n",
       "      <td>1.35</td>\n",
       "      <td>0.0</td>\n",
       "      <td>0.54</td>\n",
       "      <td>61.0</td>\n",
       "      <td>tbd</td>\n",
       "      <td>E10+</td>\n",
       "    </tr>\n",
       "    <tr>\n",
       "      <th>516</th>\n",
       "      <td>Zumba Fitness 2</td>\n",
       "      <td>Wii</td>\n",
       "      <td>2011.0</td>\n",
       "      <td>Sports</td>\n",
       "      <td>1.51</td>\n",
       "      <td>1.03</td>\n",
       "      <td>0.0</td>\n",
       "      <td>0.27</td>\n",
       "      <td>NaN</td>\n",
       "      <td>tbd</td>\n",
       "      <td>T</td>\n",
       "    </tr>\n",
       "    <tr>\n",
       "      <th>639</th>\n",
       "      <td>uDraw Studio</td>\n",
       "      <td>Wii</td>\n",
       "      <td>2010.0</td>\n",
       "      <td>Misc</td>\n",
       "      <td>1.65</td>\n",
       "      <td>0.57</td>\n",
       "      <td>0.0</td>\n",
       "      <td>0.20</td>\n",
       "      <td>71.0</td>\n",
       "      <td>tbd</td>\n",
       "      <td>E</td>\n",
       "    </tr>\n",
       "    <tr>\n",
       "      <th>709</th>\n",
       "      <td>Just Dance Kids</td>\n",
       "      <td>Wii</td>\n",
       "      <td>2010.0</td>\n",
       "      <td>Misc</td>\n",
       "      <td>1.52</td>\n",
       "      <td>0.54</td>\n",
       "      <td>0.0</td>\n",
       "      <td>0.18</td>\n",
       "      <td>NaN</td>\n",
       "      <td>tbd</td>\n",
       "      <td>E</td>\n",
       "    </tr>\n",
       "  </tbody>\n",
       "</table>\n",
       "</div>"
      ],
      "text/plain": [
       "                               name platform  year_of_release   genre  \\\n",
       "119                   Zumba Fitness      Wii           2010.0  Sports   \n",
       "300  Namco Museum: 50th Anniversary      PS2           2005.0    Misc   \n",
       "516                 Zumba Fitness 2      Wii           2011.0  Sports   \n",
       "639                    uDraw Studio      Wii           2010.0    Misc   \n",
       "709                 Just Dance Kids      Wii           2010.0    Misc   \n",
       "\n",
       "     na_sales  eu_sales  jp_sales  other_sales  critic_score user_score rating  \n",
       "119      3.45      2.59       0.0         0.66           NaN        tbd      E  \n",
       "300      2.08      1.35       0.0         0.54          61.0        tbd   E10+  \n",
       "516      1.51      1.03       0.0         0.27           NaN        tbd      T  \n",
       "639      1.65      0.57       0.0         0.20          71.0        tbd      E  \n",
       "709      1.52      0.54       0.0         0.18           NaN        tbd      E  "
      ]
     },
     "execution_count": 14,
     "metadata": {},
     "output_type": "execute_result"
    }
   ],
   "source": [
    "df[df['user_score'] == 'tbd'].head()"
   ]
  },
  {
   "cell_type": "markdown",
   "metadata": {},
   "source": [
    "Действительно, такое значение присутствует в `user_score`. А сколько строк с этим значением?"
   ]
  },
  {
   "cell_type": "code",
   "execution_count": 15,
   "metadata": {},
   "outputs": [
    {
     "data": {
      "text/plain": [
       "2376"
      ]
     },
     "execution_count": 15,
     "metadata": {},
     "output_type": "execute_result"
    }
   ],
   "source": [
    "df[df['user_score'] == 'tbd'].shape[0]"
   ]
  },
  {
   "cell_type": "markdown",
   "metadata": {},
   "source": [
    "Весьма немало... Но такое значение для нас равносильно пропущенному значению.\n",
    "\n",
    "А есть ли еще нечисловые значения в этом столбце? Проверим:"
   ]
  },
  {
   "cell_type": "code",
   "execution_count": 16,
   "metadata": {},
   "outputs": [
    {
     "data": {
      "text/plain": [
       "array(['8', nan, '8.3', '8.5', '6.6', '8.4', '8.6', '7.7', '6.3', '7.4',\n",
       "       '8.2', '9', '7.9', '8.1', '8.7', '7.1', '3.4', '5.3', '4.8', '3.2',\n",
       "       '8.9', '6.4', '7.8', '7.5', '2.6', '7.2', '9.2', '7', '7.3', '4.3',\n",
       "       '7.6', '5.7', '5', '9.1', '6.5', 'tbd', '8.8', '6.9', '9.4', '6.8',\n",
       "       '6.1', '6.7', '5.4', '4', '4.9', '4.5', '9.3', '6.2', '4.2', '6',\n",
       "       '3.7', '4.1', '5.8', '5.6', '5.5', '4.4', '4.6', '5.9', '3.9',\n",
       "       '3.1', '2.9', '5.2', '3.3', '4.7', '5.1', '3.5', '2.5', '1.9', '3',\n",
       "       '2.7', '2.2', '2', '9.5', '2.1', '3.6', '2.8', '1.8', '3.8', '0',\n",
       "       '1.6', '9.6', '2.4', '1.7', '1.1', '0.3', '1.5', '0.7', '1.2',\n",
       "       '2.3', '0.5', '1.3', '0.2', '0.6', '1.4', '0.9', '1', '9.7'],\n",
       "      dtype=object)"
      ]
     },
     "execution_count": 16,
     "metadata": {},
     "output_type": "execute_result"
    }
   ],
   "source": [
    "df['user_score'].unique()"
   ]
  },
  {
   "cell_type": "markdown",
   "metadata": {},
   "source": [
    "Нет, видим, что кроме `nan` и `tbd` все остальные значения являются положительными числовыми.\n",
    "\n",
    "Приведем столбец `user_score` к числовому типу данных с помощью метода `pd.to_numeric`, передав параметру `errors` (обработчик ошибок) значение `coerce`. Таким образом, любое значение, которое метод не может привести к числовому значению, автоматически будет меняться на `NaN`."
   ]
  },
  {
   "cell_type": "code",
   "execution_count": 17,
   "metadata": {},
   "outputs": [
    {
     "name": "stdout",
     "output_type": "stream",
     "text": [
      "<class 'pandas.core.frame.DataFrame'>\n",
      "RangeIndex: 16444 entries, 0 to 16443\n",
      "Data columns (total 11 columns):\n",
      " #   Column           Non-Null Count  Dtype  \n",
      "---  ------           --------------  -----  \n",
      " 0   name             16444 non-null  object \n",
      " 1   platform         16444 non-null  object \n",
      " 2   year_of_release  16444 non-null  float64\n",
      " 3   genre            16444 non-null  object \n",
      " 4   na_sales         16444 non-null  float64\n",
      " 5   eu_sales         16444 non-null  float64\n",
      " 6   jp_sales         16444 non-null  float64\n",
      " 7   other_sales      16444 non-null  float64\n",
      " 8   critic_score     7983 non-null   float64\n",
      " 9   user_score       7463 non-null   float64\n",
      " 10  rating           9768 non-null   object \n",
      "dtypes: float64(7), object(4)\n",
      "memory usage: 1.4+ MB\n"
     ]
    }
   ],
   "source": [
    "df['user_score'] = pd.to_numeric(df['user_score'], errors='coerce')\n",
    "df.info()"
   ]
  },
  {
   "cell_type": "markdown",
   "metadata": {},
   "source": [
    "Видим, что `user_score` имеет корректный тип данных.\n",
    "\n",
    "На очереди столбец `rating`. ESRB-рейтинг показывает к какой категории относится игра: игра для всех (`E`), игра для взрослых (`M`) и так далее. Посмотрим на все уникальные значения в этом столбце:"
   ]
  },
  {
   "cell_type": "code",
   "execution_count": 18,
   "metadata": {},
   "outputs": [
    {
     "data": {
      "text/plain": [
       "NaN     6676\n",
       "E       3921\n",
       "T       2905\n",
       "M       1536\n",
       "E10+    1393\n",
       "EC         8\n",
       "K-A        3\n",
       "RP         1\n",
       "AO         1\n",
       "Name: rating, dtype: int64"
      ]
     },
     "execution_count": 18,
     "metadata": {},
     "output_type": "execute_result"
    }
   ],
   "source": [
    "df['rating'].value_counts(dropna=False)"
   ]
  },
  {
   "cell_type": "markdown",
   "metadata": {},
   "source": [
    "6676 игр без рейтинга. Причин, по которой у игр нет рейтинга, несколько. Сам по себе аггрегатор ESRB предоставляет американскую модель оценки игры. Условно, в той же Японии существует своя модель оценки. Согласно информации [статьи](https://dtf.ru/gamedev/122994-kak-poluchit-vozrastnoy-reyting-v-yaponii-opyt-izdatelya-nekki) Entertainment Software Rating Board (ESRB) — выдаёт рейтинги в Америке и Канаде, Мексике. Поэтому этот рейтинг и не может распространяться на японские игры в Японии. Логичной заменой считаю определить все пропуски как игры без рейтинга, или же `No Rating`."
   ]
  },
  {
   "cell_type": "code",
   "execution_count": 19,
   "metadata": {},
   "outputs": [
    {
     "data": {
      "text/plain": [
       "(16444, 11)"
      ]
     },
     "execution_count": 19,
     "metadata": {},
     "output_type": "execute_result"
    }
   ],
   "source": [
    "# размерность перед вычислениями\n",
    "df.shape"
   ]
  },
  {
   "cell_type": "code",
   "execution_count": 20,
   "metadata": {},
   "outputs": [
    {
     "data": {
      "text/plain": [
       "(16444, 11)"
      ]
     },
     "execution_count": 20,
     "metadata": {},
     "output_type": "execute_result"
    }
   ],
   "source": [
    "df.loc[df['rating'].isna(), 'rating'] = 'No Rating'\n",
    "# размерность после вычислений\n",
    "df.shape"
   ]
  },
  {
   "cell_type": "markdown",
   "metadata": {},
   "source": [
    "Удостоверимся в замене:"
   ]
  },
  {
   "cell_type": "code",
   "execution_count": 21,
   "metadata": {},
   "outputs": [
    {
     "data": {
      "text/plain": [
       "No Rating    6676\n",
       "E            3921\n",
       "T            2905\n",
       "M            1536\n",
       "E10+         1393\n",
       "EC              8\n",
       "K-A             3\n",
       "RP              1\n",
       "AO              1\n",
       "Name: rating, dtype: int64"
      ]
     },
     "execution_count": 21,
     "metadata": {},
     "output_type": "execute_result"
    }
   ],
   "source": [
    "df['rating'].value_counts(dropna=False)"
   ]
  },
  {
   "cell_type": "markdown",
   "metadata": {},
   "source": [
    "Все пропущенные значения обработаны и теперь имеем 6676 игр, которые не имеют рейтинга (игры без рейтинга).\n",
    "\n",
    "Взглянем на актуальное количество пропусков в нашей таблице:"
   ]
  },
  {
   "cell_type": "code",
   "execution_count": 22,
   "metadata": {},
   "outputs": [
    {
     "name": "stdout",
     "output_type": "stream",
     "text": [
      "<class 'pandas.core.frame.DataFrame'>\n",
      "RangeIndex: 16444 entries, 0 to 16443\n",
      "Data columns (total 11 columns):\n",
      " #   Column           Non-Null Count  Dtype  \n",
      "---  ------           --------------  -----  \n",
      " 0   name             16444 non-null  object \n",
      " 1   platform         16444 non-null  object \n",
      " 2   year_of_release  16444 non-null  float64\n",
      " 3   genre            16444 non-null  object \n",
      " 4   na_sales         16444 non-null  float64\n",
      " 5   eu_sales         16444 non-null  float64\n",
      " 6   jp_sales         16444 non-null  float64\n",
      " 7   other_sales      16444 non-null  float64\n",
      " 8   critic_score     7983 non-null   float64\n",
      " 9   user_score       7463 non-null   float64\n",
      " 10  rating           16444 non-null  object \n",
      "dtypes: float64(7), object(4)\n",
      "memory usage: 1.4+ MB\n"
     ]
    }
   ],
   "source": [
    "df.info()"
   ]
  },
  {
   "cell_type": "markdown",
   "metadata": {},
   "source": [
    "Дальнейшая замена пропущенных значений (в столбцах `critic_score` и `user_score`) не представляется возможным. Замена медианным значением (или же средним) исказит статистику (распределение). Поэтому оставим эти значения в таком виде и продолжим работу.\n",
    "\n",
    "**Промежуточный вывод:** нам удалось избавиться от некоторый пропущенных значений в датасете. В столбцах `critic_score`, `user_score` и `rating` таится большое число пропусков, но логичной замены для них нет, поэтому пропущенные значения остаются в нашей датасете."
   ]
  },
  {
   "cell_type": "markdown",
   "metadata": {},
   "source": [
    "<a id='section2.3'></a>\n",
    "### Изменим тип данных в столбцах, где это необходимо\n",
    "\n",
    "Так как признак `user_score` мы уже привели к корректному типу данных, то осталось изменить тип лишь в столбце `year_of_release`."
   ]
  },
  {
   "cell_type": "code",
   "execution_count": 23,
   "metadata": {},
   "outputs": [
    {
     "name": "stdout",
     "output_type": "stream",
     "text": [
      "<class 'pandas.core.frame.DataFrame'>\n",
      "RangeIndex: 16444 entries, 0 to 16443\n",
      "Data columns (total 11 columns):\n",
      " #   Column           Non-Null Count  Dtype  \n",
      "---  ------           --------------  -----  \n",
      " 0   name             16444 non-null  object \n",
      " 1   platform         16444 non-null  object \n",
      " 2   year_of_release  16444 non-null  int64  \n",
      " 3   genre            16444 non-null  object \n",
      " 4   na_sales         16444 non-null  float64\n",
      " 5   eu_sales         16444 non-null  float64\n",
      " 6   jp_sales         16444 non-null  float64\n",
      " 7   other_sales      16444 non-null  float64\n",
      " 8   critic_score     7983 non-null   float64\n",
      " 9   user_score       7463 non-null   float64\n",
      " 10  rating           16444 non-null  object \n",
      "dtypes: float64(6), int64(1), object(4)\n",
      "memory usage: 1.4+ MB\n"
     ]
    }
   ],
   "source": [
    "df['year_of_release'] = df['year_of_release'].astype('int64')\n",
    "df.info()"
   ]
  },
  {
   "cell_type": "markdown",
   "metadata": {},
   "source": [
    "Теперь все признаки имеют корректный тип данных. Исследуем дальше)"
   ]
  },
  {
   "cell_type": "markdown",
   "metadata": {},
   "source": [
    "<a id='section2.4'></a>\n",
    "### Запишем суммарные продажи игр в отдельный столбец `total_sales`"
   ]
  },
  {
   "cell_type": "code",
   "execution_count": 24,
   "metadata": {},
   "outputs": [
    {
     "data": {
      "text/html": [
       "<div>\n",
       "<style scoped>\n",
       "    .dataframe tbody tr th:only-of-type {\n",
       "        vertical-align: middle;\n",
       "    }\n",
       "\n",
       "    .dataframe tbody tr th {\n",
       "        vertical-align: top;\n",
       "    }\n",
       "\n",
       "    .dataframe thead th {\n",
       "        text-align: right;\n",
       "    }\n",
       "</style>\n",
       "<table border=\"1\" class=\"dataframe\">\n",
       "  <thead>\n",
       "    <tr style=\"text-align: right;\">\n",
       "      <th></th>\n",
       "      <th>name</th>\n",
       "      <th>platform</th>\n",
       "      <th>year_of_release</th>\n",
       "      <th>genre</th>\n",
       "      <th>na_sales</th>\n",
       "      <th>eu_sales</th>\n",
       "      <th>jp_sales</th>\n",
       "      <th>other_sales</th>\n",
       "      <th>critic_score</th>\n",
       "      <th>user_score</th>\n",
       "      <th>rating</th>\n",
       "      <th>total_sales</th>\n",
       "    </tr>\n",
       "  </thead>\n",
       "  <tbody>\n",
       "    <tr>\n",
       "      <th>0</th>\n",
       "      <td>Wii Sports</td>\n",
       "      <td>Wii</td>\n",
       "      <td>2006</td>\n",
       "      <td>Sports</td>\n",
       "      <td>41.36</td>\n",
       "      <td>28.96</td>\n",
       "      <td>3.77</td>\n",
       "      <td>8.45</td>\n",
       "      <td>76.0</td>\n",
       "      <td>8.0</td>\n",
       "      <td>E</td>\n",
       "      <td>82.54</td>\n",
       "    </tr>\n",
       "    <tr>\n",
       "      <th>1</th>\n",
       "      <td>Super Mario Bros.</td>\n",
       "      <td>NES</td>\n",
       "      <td>1985</td>\n",
       "      <td>Platform</td>\n",
       "      <td>29.08</td>\n",
       "      <td>3.58</td>\n",
       "      <td>6.81</td>\n",
       "      <td>0.77</td>\n",
       "      <td>NaN</td>\n",
       "      <td>NaN</td>\n",
       "      <td>No Rating</td>\n",
       "      <td>40.24</td>\n",
       "    </tr>\n",
       "    <tr>\n",
       "      <th>2</th>\n",
       "      <td>Mario Kart Wii</td>\n",
       "      <td>Wii</td>\n",
       "      <td>2008</td>\n",
       "      <td>Racing</td>\n",
       "      <td>15.68</td>\n",
       "      <td>12.76</td>\n",
       "      <td>3.79</td>\n",
       "      <td>3.29</td>\n",
       "      <td>82.0</td>\n",
       "      <td>8.3</td>\n",
       "      <td>E</td>\n",
       "      <td>35.52</td>\n",
       "    </tr>\n",
       "    <tr>\n",
       "      <th>3</th>\n",
       "      <td>Wii Sports Resort</td>\n",
       "      <td>Wii</td>\n",
       "      <td>2009</td>\n",
       "      <td>Sports</td>\n",
       "      <td>15.61</td>\n",
       "      <td>10.93</td>\n",
       "      <td>3.28</td>\n",
       "      <td>2.95</td>\n",
       "      <td>80.0</td>\n",
       "      <td>8.0</td>\n",
       "      <td>E</td>\n",
       "      <td>32.77</td>\n",
       "    </tr>\n",
       "    <tr>\n",
       "      <th>4</th>\n",
       "      <td>Pokemon Red/Pokemon Blue</td>\n",
       "      <td>GB</td>\n",
       "      <td>1996</td>\n",
       "      <td>Role-Playing</td>\n",
       "      <td>11.27</td>\n",
       "      <td>8.89</td>\n",
       "      <td>10.22</td>\n",
       "      <td>1.00</td>\n",
       "      <td>NaN</td>\n",
       "      <td>NaN</td>\n",
       "      <td>No Rating</td>\n",
       "      <td>31.38</td>\n",
       "    </tr>\n",
       "  </tbody>\n",
       "</table>\n",
       "</div>"
      ],
      "text/plain": [
       "                       name platform  year_of_release         genre  na_sales  \\\n",
       "0                Wii Sports      Wii             2006        Sports     41.36   \n",
       "1         Super Mario Bros.      NES             1985      Platform     29.08   \n",
       "2            Mario Kart Wii      Wii             2008        Racing     15.68   \n",
       "3         Wii Sports Resort      Wii             2009        Sports     15.61   \n",
       "4  Pokemon Red/Pokemon Blue       GB             1996  Role-Playing     11.27   \n",
       "\n",
       "   eu_sales  jp_sales  other_sales  critic_score  user_score     rating  \\\n",
       "0     28.96      3.77         8.45          76.0         8.0          E   \n",
       "1      3.58      6.81         0.77           NaN         NaN  No Rating   \n",
       "2     12.76      3.79         3.29          82.0         8.3          E   \n",
       "3     10.93      3.28         2.95          80.0         8.0          E   \n",
       "4      8.89     10.22         1.00           NaN         NaN  No Rating   \n",
       "\n",
       "   total_sales  \n",
       "0        82.54  \n",
       "1        40.24  \n",
       "2        35.52  \n",
       "3        32.77  \n",
       "4        31.38  "
      ]
     },
     "execution_count": 24,
     "metadata": {},
     "output_type": "execute_result"
    }
   ],
   "source": [
    "# Найдем значения признаков `na_sales`, `eu_sales`,\n",
    "# `jp_sales`, `other_sales` для каждого объекта и сложим эти значения\n",
    "df['total_sales'] = df[['na_sales', 'eu_sales', 'jp_sales', 'other_sales']].sum(axis=1)\n",
    "df.head()"
   ]
  },
  {
   "cell_type": "markdown",
   "metadata": {},
   "source": [
    "Как итог, имеем новый признак `total_sales`, где записано общее количество проданных экземпляров для каждой игры.\n",
    "\n",
    "<a id='section2.5'></a>\n",
    "### Займемся поиском дубликатов\n",
    "\n",
    "Для начала разберемся, есть ли в датасете явные дубликаты с помощью метода `duplicated()`, а метод `sum()` поможет найти количество таких строк."
   ]
  },
  {
   "cell_type": "code",
   "execution_count": 25,
   "metadata": {},
   "outputs": [
    {
     "data": {
      "text/plain": [
       "0"
      ]
     },
     "execution_count": 25,
     "metadata": {},
     "output_type": "execute_result"
    }
   ],
   "source": [
    "# найдем число строк-дубликатов\n",
    "df.duplicated().sum()"
   ]
  },
  {
   "cell_type": "markdown",
   "metadata": {},
   "source": [
    "Явные дубликаты отсутствуют. Но что насчет неявных? Самым практичным способом будет поиск по связке название-платформа (`name`-`platform`), так как поиск исключительно по названию выдаст множество строк с одинаковым названием, но, как на известно, игры зачастую выпускаются на несколько платформ одновременно."
   ]
  },
  {
   "cell_type": "code",
   "execution_count": 26,
   "metadata": {
    "scrolled": true
   },
   "outputs": [
    {
     "data": {
      "text/html": [
       "<div>\n",
       "<style scoped>\n",
       "    .dataframe tbody tr th:only-of-type {\n",
       "        vertical-align: middle;\n",
       "    }\n",
       "\n",
       "    .dataframe tbody tr th {\n",
       "        vertical-align: top;\n",
       "    }\n",
       "\n",
       "    .dataframe thead th {\n",
       "        text-align: right;\n",
       "    }\n",
       "</style>\n",
       "<table border=\"1\" class=\"dataframe\">\n",
       "  <thead>\n",
       "    <tr style=\"text-align: right;\">\n",
       "      <th></th>\n",
       "      <th>name</th>\n",
       "      <th>platform</th>\n",
       "      <th>year_of_release</th>\n",
       "      <th>genre</th>\n",
       "      <th>na_sales</th>\n",
       "      <th>eu_sales</th>\n",
       "      <th>jp_sales</th>\n",
       "      <th>other_sales</th>\n",
       "      <th>critic_score</th>\n",
       "      <th>user_score</th>\n",
       "      <th>rating</th>\n",
       "      <th>total_sales</th>\n",
       "    </tr>\n",
       "  </thead>\n",
       "  <tbody>\n",
       "    <tr>\n",
       "      <th>600</th>\n",
       "      <td>Madden NFL 13</td>\n",
       "      <td>PS3</td>\n",
       "      <td>2012</td>\n",
       "      <td>Sports</td>\n",
       "      <td>2.11</td>\n",
       "      <td>0.22</td>\n",
       "      <td>0.00</td>\n",
       "      <td>0.23</td>\n",
       "      <td>83.0</td>\n",
       "      <td>5.5</td>\n",
       "      <td>E</td>\n",
       "      <td>2.56</td>\n",
       "    </tr>\n",
       "    <tr>\n",
       "      <th>1177</th>\n",
       "      <td>Need for Speed: Most Wanted</td>\n",
       "      <td>X360</td>\n",
       "      <td>2012</td>\n",
       "      <td>Racing</td>\n",
       "      <td>0.62</td>\n",
       "      <td>0.78</td>\n",
       "      <td>0.01</td>\n",
       "      <td>0.15</td>\n",
       "      <td>83.0</td>\n",
       "      <td>8.5</td>\n",
       "      <td>T</td>\n",
       "      <td>1.56</td>\n",
       "    </tr>\n",
       "    <tr>\n",
       "      <th>1574</th>\n",
       "      <td>Need for Speed: Most Wanted</td>\n",
       "      <td>X360</td>\n",
       "      <td>2005</td>\n",
       "      <td>Racing</td>\n",
       "      <td>1.00</td>\n",
       "      <td>0.13</td>\n",
       "      <td>0.02</td>\n",
       "      <td>0.10</td>\n",
       "      <td>83.0</td>\n",
       "      <td>8.5</td>\n",
       "      <td>T</td>\n",
       "      <td>1.25</td>\n",
       "    </tr>\n",
       "    <tr>\n",
       "      <th>5883</th>\n",
       "      <td>Need for Speed: Most Wanted</td>\n",
       "      <td>PC</td>\n",
       "      <td>2005</td>\n",
       "      <td>Racing</td>\n",
       "      <td>0.02</td>\n",
       "      <td>0.23</td>\n",
       "      <td>0.00</td>\n",
       "      <td>0.04</td>\n",
       "      <td>82.0</td>\n",
       "      <td>8.5</td>\n",
       "      <td>T</td>\n",
       "      <td>0.29</td>\n",
       "    </tr>\n",
       "    <tr>\n",
       "      <th>11534</th>\n",
       "      <td>Need for Speed: Most Wanted</td>\n",
       "      <td>PC</td>\n",
       "      <td>2012</td>\n",
       "      <td>Racing</td>\n",
       "      <td>0.00</td>\n",
       "      <td>0.06</td>\n",
       "      <td>0.00</td>\n",
       "      <td>0.02</td>\n",
       "      <td>82.0</td>\n",
       "      <td>8.5</td>\n",
       "      <td>T</td>\n",
       "      <td>0.08</td>\n",
       "    </tr>\n",
       "    <tr>\n",
       "      <th>15969</th>\n",
       "      <td>Madden NFL 13</td>\n",
       "      <td>PS3</td>\n",
       "      <td>2012</td>\n",
       "      <td>Sports</td>\n",
       "      <td>0.00</td>\n",
       "      <td>0.01</td>\n",
       "      <td>0.00</td>\n",
       "      <td>0.00</td>\n",
       "      <td>83.0</td>\n",
       "      <td>5.5</td>\n",
       "      <td>E</td>\n",
       "      <td>0.01</td>\n",
       "    </tr>\n",
       "  </tbody>\n",
       "</table>\n",
       "</div>"
      ],
      "text/plain": [
       "                              name platform  year_of_release   genre  \\\n",
       "600                  Madden NFL 13      PS3             2012  Sports   \n",
       "1177   Need for Speed: Most Wanted     X360             2012  Racing   \n",
       "1574   Need for Speed: Most Wanted     X360             2005  Racing   \n",
       "5883   Need for Speed: Most Wanted       PC             2005  Racing   \n",
       "11534  Need for Speed: Most Wanted       PC             2012  Racing   \n",
       "15969                Madden NFL 13      PS3             2012  Sports   \n",
       "\n",
       "       na_sales  eu_sales  jp_sales  other_sales  critic_score  user_score  \\\n",
       "600        2.11      0.22      0.00         0.23          83.0         5.5   \n",
       "1177       0.62      0.78      0.01         0.15          83.0         8.5   \n",
       "1574       1.00      0.13      0.02         0.10          83.0         8.5   \n",
       "5883       0.02      0.23      0.00         0.04          82.0         8.5   \n",
       "11534      0.00      0.06      0.00         0.02          82.0         8.5   \n",
       "15969      0.00      0.01      0.00         0.00          83.0         5.5   \n",
       "\n",
       "      rating  total_sales  \n",
       "600        E         2.56  \n",
       "1177       T         1.56  \n",
       "1574       T         1.25  \n",
       "5883       T         0.29  \n",
       "11534      T         0.08  \n",
       "15969      E         0.01  "
      ]
     },
     "execution_count": 26,
     "metadata": {},
     "output_type": "execute_result"
    }
   ],
   "source": [
    "df[df.duplicated(subset=['name', 'platform'], keep=False)]"
   ]
  },
  {
   "cell_type": "markdown",
   "metadata": {},
   "source": [
    "В таблице присутствует 3 пары строк, которые имеют одинаковое название и одну платформу. \n",
    "\n",
    "Начнем с игры `Need for Speed: Most Wanted`: у этих строк действительно одинаковые название и платформы, но год выпуска отличается. При помощи простого поиска в интернете выясняем, что [осенью 2012 года студия Criterion Games выпустила одноименный ремейк](https://ru.wikipedia.org/wiki/Need_for_Speed:_Most_Wanted#%D0%92%D0%BB%D0%B8%D1%8F%D0%BD%D0%B8%D0%B5'), на 2 платформы (ПК и XBOX360). Соответственно, не имеем права как-либо обрабатывать данный неявный дубликат, так как это отдельная игра."
   ]
  },
  {
   "cell_type": "markdown",
   "metadata": {},
   "source": [
    "Теперь смотрим на 'Madden NFL 13': в данном случае год выпуска (year_of_release), пользовательский (user_score) и рейтинг критиков (critic_score), а также ESRB-рейтинг (rating) одинаковы. Очень похоже на то, что строка с индексом 15969 является дополнительной строкой к строке с индексом 600 и просто дополняет информацию. Но также нельзя исключать, что строка с индексом 15969 является уже учтенной в строке с индексом 600. Сумма продаж во 2-й строке всего 0.01, не так уж много. Стоит ли вмешиваться и складывать значение продаж этих строк? На самом деле, я не менял бы строку 600 и просто избавился от строки 15969. Но перед этим посмотрим количество строк в датафрейме."
   ]
  },
  {
   "cell_type": "code",
   "execution_count": 27,
   "metadata": {},
   "outputs": [
    {
     "data": {
      "text/plain": [
       "16444"
      ]
     },
     "execution_count": 27,
     "metadata": {},
     "output_type": "execute_result"
    }
   ],
   "source": [
    "df.shape[0]"
   ]
  },
  {
   "cell_type": "markdown",
   "metadata": {},
   "source": [
    "Зафиксировали это число и удаляем 1 строку."
   ]
  },
  {
   "cell_type": "code",
   "execution_count": 28,
   "metadata": {},
   "outputs": [
    {
     "data": {
      "text/plain": [
       "16443"
      ]
     },
     "execution_count": 28,
     "metadata": {},
     "output_type": "execute_result"
    }
   ],
   "source": [
    "df = df.drop(index=15969).reset_index(drop=True)\n",
    "df.shape[0]"
   ]
  },
  {
   "cell_type": "markdown",
   "metadata": {},
   "source": [
    "Как видим, ровно одна строка по конкретному индексу исчезла из нашей таблицы. На этом поиск дубликатов можно считать завершенным.\n",
    "\n",
    "<a id='section2.6'></a>\n",
    "### Вывод по предобработке данных\n",
    "\n",
    "Мы провели предобработку данных, было выполнено следующее:\n",
    "- избавились от пропусков в столбцах `year_of_release`, `name`, `genre`;\n",
    "- изменили тип данных в столбцах, где это было необходимо;\n",
    "- добавили в датафрейм новый столбец `total_sales`, куда поместили значение суммы всех столбцов, демонстрирующих количество продаж. Благодаря этому столбцу в дальнейшем исследовательском анализе мы сможем строить графики по распределению продаж, основываясь на общих продажах игры без дополнительных вычислений;\n",
    "- нашли дубликаты, выяснили их природу и обработали так, как того требует ситуация."
   ]
  },
  {
   "cell_type": "markdown",
   "metadata": {},
   "source": [
    "<a id='section3'></a>\n",
    "## Проведем исследовательский анализ данных\n",
    "\n",
    "Для начала посмотрим сколько игр выпускалось в разные года.\n",
    "\n",
    "Построим график количества выпущенных видеоигр в разные годы.\n",
    "\n",
    "Для того, чтобы построить график количества выпущенных видеоигр по годам необходимо учесть тот факт, что игры зачастую выпускаются одновременно на несколько платформ, но порт на платформу (или же специализированная разработка под платформу) полноценным релизом назвать не получается. Понятием 'title' / '1 игра' будем считать выпуск игры в определенный год без учета его портов на другие платформы. Если кратко: 1 игра = 1 название (другие платформы не учитываем). Если игра вышла эксклюзивно на 1 платформу - тут все просто. Если игра вышла на несколько платформ - берем для графика только первое упоминание игры.\n",
    "\n",
    "Для этого найдем и уберем дубликаты игр из датафрейма (оставлять будем первое вхождение `keep='first`), используя поиск по связке название-год, результат передадим переменной `unique_games`:"
   ]
  },
  {
   "cell_type": "code",
   "execution_count": 29,
   "metadata": {
    "scrolled": true
   },
   "outputs": [
    {
     "data": {
      "text/plain": [
       "(12195, 12)"
      ]
     },
     "execution_count": 29,
     "metadata": {},
     "output_type": "execute_result"
    }
   ],
   "source": [
    "unique_games = df.drop_duplicates(subset=['name', 'year_of_release'], keep='first')\n",
    "unique_games.shape"
   ]
  },
  {
   "cell_type": "markdown",
   "metadata": {},
   "source": [
    "Видим, что более 4-х тысяч строк были убраны. Проверим еще раз, действительно ли все дубликаты были убраны."
   ]
  },
  {
   "cell_type": "code",
   "execution_count": 30,
   "metadata": {},
   "outputs": [
    {
     "data": {
      "text/plain": [
       "0"
      ]
     },
     "execution_count": 30,
     "metadata": {},
     "output_type": "execute_result"
    }
   ],
   "source": [
    "unique_games[unique_games.duplicated(subset=['name', 'year_of_release'])].shape[0]"
   ]
  },
  {
   "cell_type": "markdown",
   "metadata": {},
   "source": [
    "Да, дубликатов более нет. Теперь можем строить график выпущенных игр по годам.\n",
    "<a id='section3.1'></a>"
   ]
  },
  {
   "cell_type": "code",
   "execution_count": 31,
   "metadata": {},
   "outputs": [
    {
     "data": {
      "image/png": "[encoded data removed]",
      "text/plain": [
       "<Figure size 1080x576 with 1 Axes>"
      ]
     },
     "metadata": {
      "needs_background": "light"
     },
     "output_type": "display_data"
    }
   ],
   "source": [
    "unique_games.groupby('year_of_release')['name'].count().plot(\n",
    "    kind='bar',\n",
    "    figsize=(15, 8),\n",
    "    rot=45,\n",
    "    title='Количество выпущенных игр по годам',\n",
    "    xlabel='Год',\n",
    "    ylabel='Количество игр, шт.'\n",
    ");"
   ]
  },
  {
   "cell_type": "markdown",
   "metadata": {},
   "source": [
    "Видим по графику, что данные содержат игры, выпущенные с 1980 года по 2016 год. Планку в 200 выпущенных игр превысили в 1995 году, что совпадает с датой выхода PlayStation 1 (декабрь 1994 года). С 2004 года в индустрии наблюдалось ежегодное увеличение выпущенных игр, вплоть до 2008 года, который и является рекордсменом (более 1000 игр за год). Далее следует падение, вероятно, виной этому стал кризис 2008 года. Всё это повлияло на дальнейшую индустрию, как мы видим самый настоящий кризис пришелся на период 2011-2012 гг. В целом, по количеству выпущенных игр индустрия устоялась на уровне 2013 года (когда по некоторым данным большинство стран смогли справиться с фазами кризиса 2008 года)."
   ]
  },
  {
   "cell_type": "markdown",
   "metadata": {},
   "source": [
    "Посмотрим на распределение продаж по платформам:\n",
    "<a id='section3.2'></a>"
   ]
  },
  {
   "cell_type": "code",
   "execution_count": 32,
   "metadata": {},
   "outputs": [
    {
     "data": {
      "image/png": "[encoded data removed]",
      "text/plain": [
       "<Figure size 1080x576 with 1 Axes>"
      ]
     },
     "metadata": {
      "needs_background": "light"
     },
     "output_type": "display_data"
    }
   ],
   "source": [
    "df[['total_sales'] + ['platform']].groupby('platform').sum().plot(\n",
    "    kind='bar', \n",
    "    figsize=(15, 8),\n",
    "    title='Суммарные продажи игр по платформам',\n",
    "    xlabel='Название платформы',\n",
    "    ylabel='Количество проданных игр, млн.'\n",
    ");"
   ]
  },
  {
   "cell_type": "markdown",
   "metadata": {},
   "source": [
    "Видим, что безоговорочным лидером среди платформ является `PS2`, следом идет `X360` и далее `PS3` с `Wii`. Лидер в лице `PS2` вполне объясним тем, что количество выпускаемых игр было на пике как раз в те годы, когда платформа `PS2` была актуальна на рынке.\n",
    "\n",
    "Есть 7 платформ (обойдемся без перечисления), у которых \"bar\" вовсе отсутствует на графике. \n",
    "\n",
    "Теперь отобразим распределение продаж по годам, относительно 10 самых успешных платформ. Для этого определим переменную `top_10`, которой передадим таблицу, состоящую из столбцов `total_sales` и `platform`, после чего сгруппируем полученную таблицу по столбцу `platform`, а к `total_sales` применим метод `sum()` для отображения общей суммы продаж по каждой платформе. И наконец, для отображения 10 лучших платформ отсортируем `top_10` по столбцу `total_sales` (по умолчанию сортировка по возрастанию) и возьмем последние 10 индексов."
   ]
  },
  {
   "cell_type": "code",
   "execution_count": 33,
   "metadata": {},
   "outputs": [
    {
     "data": {
      "text/plain": [
       "Index(['3DS', 'PSP', 'GBA', 'PS4', 'PS', 'DS', 'Wii', 'PS3', 'X360', 'PS2'], dtype='object', name='platform')"
      ]
     },
     "execution_count": 33,
     "metadata": {},
     "output_type": "execute_result"
    }
   ],
   "source": [
    "top_10 = df[['total_sales'] + ['platform']].groupby('platform').sum().sort_values(by='total_sales')[-10:]\n",
    "top_10.index"
   ]
  },
  {
   "cell_type": "markdown",
   "metadata": {},
   "source": [
    "Следующим шагом будет определение переменной `platform_sales`, которой передадим сводную таблицу от `df`: индексами будут годы выпусков `year_of_release`, столбцами - наименования платформ `platform`, сводным значением - суммарное значение продаж `total_sales`:"
   ]
  },
  {
   "cell_type": "code",
   "execution_count": 34,
   "metadata": {},
   "outputs": [
    {
     "name": "stdout",
     "output_type": "stream",
     "text": [
      "<class 'pandas.core.frame.DataFrame'>\n",
      "Int64Index: 37 entries, 1980 to 2016\n",
      "Data columns (total 31 columns):\n",
      " #   Column  Non-Null Count  Dtype  \n",
      "---  ------  --------------  -----  \n",
      " 0   2600    10 non-null     float64\n",
      " 1   3DO     2 non-null      float64\n",
      " 2   3DS     6 non-null      float64\n",
      " 3   DC      7 non-null      float64\n",
      " 4   DS      11 non-null     float64\n",
      " 5   GB      13 non-null     float64\n",
      " 6   GBA     8 non-null      float64\n",
      " 7   GC      7 non-null      float64\n",
      " 8   GEN     5 non-null      float64\n",
      " 9   GG      1 non-null      float64\n",
      " 10  N64     7 non-null      float64\n",
      " 11  NES     12 non-null     float64\n",
      " 12  NG      4 non-null      float64\n",
      " 13  PC      26 non-null     float64\n",
      " 14  PCFX    1 non-null      float64\n",
      " 15  PS      10 non-null     float64\n",
      " 16  PS2     12 non-null     float64\n",
      " 17  PS3     11 non-null     float64\n",
      " 18  PS4     4 non-null      float64\n",
      " 19  PSP     12 non-null     float64\n",
      " 20  PSV     6 non-null      float64\n",
      " 21  SAT     6 non-null      float64\n",
      " 22  SCD     2 non-null      float64\n",
      " 23  SNES    10 non-null     float64\n",
      " 24  TG16    1 non-null      float64\n",
      " 25  WS      3 non-null      float64\n",
      " 26  Wii     11 non-null     float64\n",
      " 27  WiiU    5 non-null      float64\n",
      " 28  X360    12 non-null     float64\n",
      " 29  XB      9 non-null      float64\n",
      " 30  XOne    4 non-null      float64\n",
      "dtypes: float64(31)\n",
      "memory usage: 9.2 KB\n"
     ]
    }
   ],
   "source": [
    "platform_sales = df.pivot_table(\n",
    "    index='year_of_release',\n",
    "    columns='platform',\n",
    "    values='total_sales',\n",
    "    aggfunc='sum'\n",
    ")\n",
    "platform_sales.info()"
   ]
  },
  {
   "cell_type": "markdown",
   "metadata": {},
   "source": [
    "И теперь для сводной таблицы `platform_sales` в качестве столбцов оставим только столбцы из `top_10`:\n",
    "<a id='section3.3'></a>"
   ]
  },
  {
   "cell_type": "code",
   "execution_count": 35,
   "metadata": {
    "scrolled": false
   },
   "outputs": [
    {
     "data": {
      "image/png": "[encoded data removed]",
      "text/plain": [
       "<Figure size 1080x576 with 1 Axes>"
      ]
     },
     "metadata": {
      "needs_background": "light"
     },
     "output_type": "display_data"
    }
   ],
   "source": [
    "# оставим только значения из `top_10`\n",
    "platform_sales = platform_sales[[col for col in top_10.index]]\n",
    "# строим график\n",
    "platform_sales.plot(\n",
    "    figsize=(15,8),\n",
    "    title='Распределение продаж для платформ по годам',\n",
    "    xlabel='Год',\n",
    "    ylabel='Объем продаж, млн.'\n",
    ");"
   ]
  },
  {
   "cell_type": "markdown",
   "metadata": {},
   "source": [
    "Судя по графику выше, цикл жизни успешной платформы находится в пределах от 5 до 10 лет. После, к ним на замену приходят платформы следующего поколения. Так, `PS2` была крайне популярна с самого своего появления (2000), после пика в 2004 году популярность (или же скорее её актуальность) начала угасать и недождавшись полного отказа рынка от данной платформы разработчики выпускают замену в виде `PS3` в конце 2006 года.\n",
    "\n",
    "Игровая индустрия - вещь стремительная, которая следуя мировому прогрессу лишь набирает темпы и обороты (будь то выпуск игр, увеличение аудитории, а также выпуск консолей новых поколений). Пожалуй, исключительно глобальный катаклизм и мировой финансовый кризисы способны этому помешать. Так или иначе, производители не дожидаются полной деактуализации своих платформ и стараются сделать смену поколений наиболее сглаженной, не доводя объем выручки (объем продаж) до критичного значения.\n",
    "\n",
    "В связи с вышеизложенным, определим **актуальный период** с 2014 года по 2016.\n",
    "\n",
    "Так, оставим в нашей таблице данные исключительно за этот временной промежуток:"
   ]
  },
  {
   "cell_type": "code",
   "execution_count": 36,
   "metadata": {},
   "outputs": [
    {
     "data": {
      "text/plain": [
       "1689"
      ]
     },
     "execution_count": 36,
     "metadata": {},
     "output_type": "execute_result"
    }
   ],
   "source": [
    "data_after2014 = df[df['year_of_release'] >= 2014]\n",
    "data_after2014.shape[0]"
   ]
  },
  {
   "cell_type": "markdown",
   "metadata": {},
   "source": [
    "В итоге, за актуальный период имеем 1689 записей."
   ]
  },
  {
   "cell_type": "markdown",
   "metadata": {},
   "source": [
    "Посмотрим как теперь распологаются общие продажи по каждой платформе:\n",
    "<a id='section3.4'></a>"
   ]
  },
  {
   "cell_type": "code",
   "execution_count": 37,
   "metadata": {
    "scrolled": false
   },
   "outputs": [
    {
     "data": {
      "image/png": "[encoded data removed]",
      "text/plain": [
       "<Figure size 1080x720 with 1 Axes>"
      ]
     },
     "metadata": {
      "needs_background": "light"
     },
     "output_type": "display_data"
    }
   ],
   "source": [
    "# определим топ-10 платформ по общим продажам\n",
    "sample_top_10 = data_after2014[['total_sales'] + ['platform']].groupby('platform').sum().sort_values(by='total_sales')[-10:]\n",
    "# делаем сводную таблицу\n",
    "plat_sales_after2014 = data_after2014.pivot_table(\n",
    "    index='year_of_release', columns='platform',\n",
    "    values='total_sales', aggfunc='sum'\n",
    ")\n",
    "# оставим в сводной таб. данные о топ-10 платформах\n",
    "plat_sales_after2014 = plat_sales_after2014[[col for col in sample_top_10.index]]\n",
    "# строим график\n",
    "plat_sales_after2014.plot(\n",
    "    figsize=(15,10),\n",
    "    title='Распределние глобальных продаж топ-10 платформ за 2014-2015 гг.',\n",
    "    xlabel='Год',\n",
    "    ylabel='Объем продаж, млн.'\n",
    ");"
   ]
  },
  {
   "cell_type": "markdown",
   "metadata": {},
   "source": [
    "По этому графику с уверенностью можем определить лидирующую актуальную платформу - `PS4`. На момент конца 2015 года растущей тенденцией обладает и `PS4` и `XOne`, но видим, что прирост объема продаж за 1 год (с 2014 по 2015) у `PS4` несколько больше, чем у `XOne` . Определим актуальные платформы - это `PS4`, `XONE`, `PC` и `3DS`.\n",
    "\n",
    "Лидерами продаж однозначно назовем `PS4`, `XONE` и `3DS`. Соответственно, вся перспектива потенциала прибыли ложится на плечи этих 'гигантов' индустрии.\n",
    "\n",
    "Построим boxplot (\"ящик с усами\") для глобальных продаж, разбитый по платформам:"
   ]
  },
  {
   "cell_type": "code",
   "execution_count": 38,
   "metadata": {},
   "outputs": [
    {
     "data": {
      "image/png": "[encoded data removed]",
      "text/plain": [
       "<Figure size 1080x576 with 1 Axes>"
      ]
     },
     "metadata": {
      "needs_background": "light"
     },
     "output_type": "display_data"
    }
   ],
   "source": [
    "plat_sales_after2014.boxplot(figsize=(15,8))\n",
    "plt.ylabel('Объем продаж, млн.')\n",
    "plt.title('Boxplot суммарных продаж для топ-10 платформ');"
   ]
  },
  {
   "cell_type": "markdown",
   "metadata": {},
   "source": [
    "Первое, что бросается в глаза - отсутствие выбросов у платформ. У `PS4` наблюдается наиболее размашистое распределение продаж, с медианой в районе 100 млн. продаж. Самая большая медиана также у платформы `PS4` (~100 млн.). Рассмотрим боксплот с `PS4` подробнее. Продажи 25% наиболее популярных игр расположены в диапазоне от ~110 млн. до ~ 119 млн. - шикарный результат для этого периода! Наименее популярные игры (1-й квартиль) расположены в границах от 70 до ~83 млн. Ни одна из платформ не может продемонстрировать результат, хотя бы близко похожий на этот.\n",
    "\n",
    "У `XOne` ситуация лучше, чем у остальных платформ (за исключением `PS4`, разумеется). Медиана ~53-54 млн., 4-й квартиль расположен весьма кучно.\n",
    "\n",
    "Посмотрим как влияют на продажи отзывы пользователей и критиков внутри неактуальной, но популярной платформы `PS3`. Построим диаграммы рассеяния:\n",
    "<a id='section3.5'></a>"
   ]
  },
  {
   "cell_type": "code",
   "execution_count": 39,
   "metadata": {},
   "outputs": [
    {
     "data": {
      "image/png": "[encoded data removed]",
      "text/plain": [
       "<Figure size 1080x576 with 1 Axes>"
      ]
     },
     "metadata": {
      "needs_background": "light"
     },
     "output_type": "display_data"
    }
   ],
   "source": [
    "# Построим диаграмму рассеяния `total_sales` и `critic_score` для платформы `PS3`\n",
    "df[df['platform'] == 'PS3'].plot(\n",
    "    x = 'critic_score',\n",
    "    y = 'total_sales',\n",
    "    figsize = (15, 8),\n",
    "    alpha = 0.4,\n",
    "    kind = 'scatter',\n",
    "    title = 'Диаграмма рассеяния глобальных продаж и рейтинга критиков для PS3',\n",
    "    xlabel = 'Рейтинг критиков',\n",
    "    ylabel = 'Глобальные продажи, млн.'\n",
    ");"
   ]
  },
  {
   "cell_type": "markdown",
   "metadata": {},
   "source": [
    "Видим, что игры с рейтингом, приближенным к 100 имеют более высокие продажи, по сравнению с играми, чей рейтинг меньше, но такая тенденция соблюдается не всегда. Иными словами, чем больше рейтинг игры, тем больше вероятность выброса.\n",
    "\n",
    "С помощью метода `corr()` определим значение корреляции `total_sales` от `critic_score`:"
   ]
  },
  {
   "cell_type": "code",
   "execution_count": 40,
   "metadata": {},
   "outputs": [
    {
     "data": {
      "text/plain": [
       "0.43371246722331125"
      ]
     },
     "execution_count": 40,
     "metadata": {},
     "output_type": "execute_result"
    }
   ],
   "source": [
    "df.loc[df['platform'] == 'PS3', 'total_sales'].corr(\n",
    "    df.loc[df['platform'] == 'PS3', 'critic_score']\n",
    ")"
   ]
  },
  {
   "cell_type": "markdown",
   "metadata": {},
   "source": [
    "Корреляция в 0.43 говорит о слабой связи, но не о её отсутствии. Увеличение рейтинга от критика приводит к увеличенным продажам, но далеко не всегда.\n",
    "\n",
    "**На очереди признак `user_score`**. Строим диаграмму рассеяния:"
   ]
  },
  {
   "cell_type": "code",
   "execution_count": 41,
   "metadata": {},
   "outputs": [
    {
     "data": {
      "image/png": "[encoded data removed]",
      "text/plain": [
       "<Figure size 1080x576 with 1 Axes>"
      ]
     },
     "metadata": {
      "needs_background": "light"
     },
     "output_type": "display_data"
    }
   ],
   "source": [
    "df[df['platform'] == 'PS3'].plot(\n",
    "    x = 'user_score',\n",
    "    y = 'total_sales',\n",
    "    figsize = (15, 8),\n",
    "    alpha = 0.4,\n",
    "    kind = 'scatter',\n",
    "    title = 'Диаграмма рассеяния глобальных продаж и рейтинга пользователей для PS3',\n",
    "    xlabel = 'Пользовательский рейтинг',\n",
    "    ylabel = 'Глобальные продажи, млн.'\n",
    ");"
   ]
  },
  {
   "cell_type": "markdown",
   "metadata": {},
   "source": [
    "Ситуация несколько схожа с диаграммой рассеяния продаж и рейтинга критиков, но с оговоркой. На этой диаграмме видим больше выбросов, которые никак не зависят от рейтинга. Так, например, игра с пользовательским рейтинг чуть ниже 3 имеет продажи в несколько раз больше, чем большинство игр с рейтинг 8 и большей.\n",
    "\n",
    "Предположим, что значение корреляции меньше, чем с критиками, но стоит в этом убедиться:"
   ]
  },
  {
   "cell_type": "code",
   "execution_count": 42,
   "metadata": {},
   "outputs": [
    {
     "data": {
      "text/plain": [
       "0.12792603540158226"
      ]
     },
     "execution_count": 42,
     "metadata": {},
     "output_type": "execute_result"
    }
   ],
   "source": [
    "df.loc[df['platform'] == 'PS3', 'total_sales'].corr(\n",
    "    df.loc[df['platform'] == 'PS3', 'user_score']\n",
    ")"
   ]
  },
  {
   "cell_type": "markdown",
   "metadata": {},
   "source": [
    "Корреляция в 0.128 говорит о крайне слабой связи. Это говорит нам о том, что высокий пользовательский рейтинг не гарантирует высокие продажи. Но при этом бОльшие показатели продаж у игр с высоким пользовательским рейтингом. **Как итог**: большая оценка от аудитории - не панацея от низких продаж.\n",
    "\n",
    "Но может такая ситуация сохраняется исключительно в отношении `PS3`? Давайте проверим коэффициент корреляции этих же признаков но для других платформ.\n",
    "\n",
    "**Возьмем 'вечную' платформу `PC`**. Построим диаграму рассеяния продаж и рейтинга критиков:"
   ]
  },
  {
   "cell_type": "code",
   "execution_count": 43,
   "metadata": {},
   "outputs": [
    {
     "data": {
      "image/png": "[encoded data removed]",
      "text/plain": [
       "<Figure size 1080x576 with 1 Axes>"
      ]
     },
     "metadata": {
      "needs_background": "light"
     },
     "output_type": "display_data"
    }
   ],
   "source": [
    "df[df['platform'] == 'PC'].plot(\n",
    "    x = 'critic_score',\n",
    "    y = 'total_sales',\n",
    "    figsize = (15, 8),\n",
    "    alpha = 0.4,\n",
    "    kind = 'scatter',\n",
    "    title = 'Диаграмма рассеяния глобальных продаж и рейтинга критиков для PC',\n",
    "    xlabel = 'Рейтинг критиков',\n",
    "    ylabel = 'Глобальные продажи, млн.'\n",
    ");"
   ]
  },
  {
   "cell_type": "markdown",
   "metadata": {},
   "source": [
    "В целом, выбросов больше, чем для подобной выборки но для `PS3`, но тенденция схожа: показатель продаж (а также количество выбросов) тем больше, чем больше рейтинг критиков."
   ]
  },
  {
   "cell_type": "markdown",
   "metadata": {},
   "source": [
    "Рассчитаем коэффициент корреляции:"
   ]
  },
  {
   "cell_type": "code",
   "execution_count": 44,
   "metadata": {},
   "outputs": [
    {
     "data": {
      "text/plain": [
       "0.25739471840098505"
      ]
     },
     "execution_count": 44,
     "metadata": {},
     "output_type": "execute_result"
    }
   ],
   "source": [
    "df.loc[df['platform'] == 'PC', 'total_sales'].corr(\n",
    "    df.loc[df['platform'] == 'PC', 'critic_score']\n",
    ")"
   ]
  },
  {
   "cell_type": "markdown",
   "metadata": {},
   "source": [
    "Результат показывает более слабую связь, чем в случае с `PS3`.\n",
    "\n",
    "А что на счет пользовательского рейтинга? Строим диаграмму рассеяния"
   ]
  },
  {
   "cell_type": "code",
   "execution_count": 45,
   "metadata": {},
   "outputs": [
    {
     "data": {
      "image/png": "[encoded data removed]",
      "text/plain": [
       "<Figure size 1080x576 with 1 Axes>"
      ]
     },
     "metadata": {
      "needs_background": "light"
     },
     "output_type": "display_data"
    }
   ],
   "source": [
    "df[df['platform'] == 'PC'].plot(\n",
    "    x = 'user_score',\n",
    "    y = 'total_sales',\n",
    "    figsize = (15, 8),\n",
    "    alpha = 0.4,\n",
    "    kind = 'scatter',\n",
    "    title = 'Диаграмма рассеяния глобальных продаж и рейтинга пользователей для PC',\n",
    "    xlabel = 'Пользовательский рейтинг',\n",
    "    ylabel = 'Глобальные продажи, млн.'\n",
    ");"
   ]
  },
  {
   "cell_type": "markdown",
   "metadata": {},
   "source": [
    "Также, как и с диаграммой рассеяния пользовательского рейтинга для `PS3`, диаграмма для `PC` показывает отсутствие сильной линейной зависимости от пользовательского рейтинга. Выбросы имеются практически для любого рейтинга."
   ]
  },
  {
   "cell_type": "markdown",
   "metadata": {},
   "source": [
    "Считаем коэффициент корреляции"
   ]
  },
  {
   "cell_type": "code",
   "execution_count": 46,
   "metadata": {},
   "outputs": [
    {
     "data": {
      "text/plain": [
       "0.012904741611451175"
      ]
     },
     "execution_count": 46,
     "metadata": {},
     "output_type": "execute_result"
    }
   ],
   "source": [
    "df.loc[df['platform'] == 'PC', 'total_sales'].corr(\n",
    "    df.loc[df['platform'] == 'PC', 'user_score']\n",
    ")"
   ]
  },
  {
   "cell_type": "markdown",
   "metadata": {},
   "source": [
    "Тут ситуация схожа с платформой `PS3`, но всё еще очень неубедительно, линейная зависимость практически отсутствует.\n",
    "\n",
    "**Рассмотрим `XOne`**. Строим диаграмму рассеяния глобальных продаж и рейтинга критиков:"
   ]
  },
  {
   "cell_type": "code",
   "execution_count": 47,
   "metadata": {},
   "outputs": [
    {
     "data": {
      "image/png": "[encoded data removed]",
      "text/plain": [
       "<Figure size 1080x576 with 1 Axes>"
      ]
     },
     "metadata": {
      "needs_background": "light"
     },
     "output_type": "display_data"
    }
   ],
   "source": [
    "df[df['platform'] == 'XOne'].plot(\n",
    "    x = 'critic_score',\n",
    "    y = 'total_sales',\n",
    "    figsize = (15, 8),\n",
    "    alpha = 0.4,\n",
    "    kind = 'scatter',\n",
    "    title = 'Диаграмма рассеяния глобальных продаж и рейтинга критиков для XOne',\n",
    "    xlabel = 'Рейтинг критиков',\n",
    "    ylabel = 'Глобальные продажи, млн.'\n",
    ");"
   ]
  },
  {
   "cell_type": "markdown",
   "metadata": {},
   "source": [
    "Рассеяние в данном примере несколько кучнее при высоком рейтинге. Однако, для `XOne` высокий рейтинг это в бОльшей мере означает необычайно высокие продажи, чем для `PC`."
   ]
  },
  {
   "cell_type": "markdown",
   "metadata": {},
   "source": [
    "Считаем коэффициент корреляции"
   ]
  },
  {
   "cell_type": "code",
   "execution_count": 48,
   "metadata": {},
   "outputs": [
    {
     "data": {
      "text/plain": [
       "0.41699832800840175"
      ]
     },
     "execution_count": 48,
     "metadata": {},
     "output_type": "execute_result"
    }
   ],
   "source": [
    "df.loc[df['platform'] == 'XOne', 'total_sales'].corr(\n",
    "    df.loc[df['platform'] == 'XOne', 'critic_score']\n",
    ")"
   ]
  },
  {
   "cell_type": "markdown",
   "metadata": {},
   "source": [
    "0.417 - коэффициент схож с результатами `PS3`. Но все ещё далеко от линейной зависимости.\n",
    "\n",
    "Строим диаграмму рассеяния для пользовательского рейтинга:"
   ]
  },
  {
   "cell_type": "code",
   "execution_count": 49,
   "metadata": {},
   "outputs": [
    {
     "data": {
      "image/png": "[encoded data removed]",
      "text/plain": [
       "<Figure size 1080x576 with 1 Axes>"
      ]
     },
     "metadata": {
      "needs_background": "light"
     },
     "output_type": "display_data"
    }
   ],
   "source": [
    "df[df['platform'] == 'XOne'].plot(\n",
    "    x = 'user_score',\n",
    "    y = 'total_sales',\n",
    "    figsize = (15, 8),\n",
    "    alpha = 0.4,\n",
    "    kind = 'scatter',\n",
    "    title = 'Диаграмма рассеяния глобальных продаж и рейтинга пользователей',\n",
    "    xlabel = 'Пользовательский рейтинг',\n",
    "    ylabel = 'Глобальные продажи, млн.'\n",
    ");"
   ]
  },
  {
   "cell_type": "markdown",
   "metadata": {},
   "source": [
    "Коэффициент корреляции можно было бы и не считать, уже прекрасно виден весь хаос, который имеется в данных и ни о какой линейной зависимости говорить не стоит, но всё равно рассчитаем значение:"
   ]
  },
  {
   "cell_type": "code",
   "execution_count": 50,
   "metadata": {},
   "outputs": [
    {
     "data": {
      "text/plain": [
       "0.012904741611451175"
      ]
     },
     "execution_count": 50,
     "metadata": {},
     "output_type": "execute_result"
    }
   ],
   "source": [
    "df.loc[df['platform'] == 'PC', 'total_sales'].corr(\n",
    "    df.loc[df['platform'] == 'PC', 'user_score']\n",
    ")"
   ]
  },
  {
   "cell_type": "markdown",
   "metadata": {},
   "source": [
    "Всё так. Даже тут, линейной зависимостью и не пахнет.\n",
    "\n",
    "Как итог, имеем понимание того, что рейтинг (будь то пользовательский рейтинг или оценка критика) не является однозначным средством для роста продаж игры.\n",
    "\n",
    "С другими платформами ситуация, вероятно, складывается похожим образом, где-то уровень корреляции будет чуть больше, где-то чуть меньше, но, повторюсь, линейной зависимости продаж от рейтингов нет. Соответственно, плохой пользовательский рейтинг игры это еще далеко не приговор, как показывают наши данные, даже с рейтингом 3 можно получить шикарные продажи игры."
   ]
  },
  {
   "cell_type": "markdown",
   "metadata": {},
   "source": [
    "Посмотрим на общее распределение игр по жанрам в актуальный период, но для этого избавимся от дубликатов (как в случае с графиком общего числа выпущенных игр по годам). И тут нам поможет датафрейм `unique_games`. Просто оставим данные за 2014 год и позднее построим график распределения игр по жанрам:\n",
    "<a id='section3.6'></a>"
   ]
  },
  {
   "cell_type": "code",
   "execution_count": 51,
   "metadata": {},
   "outputs": [
    {
     "data": {
      "image/png": "[encoded data removed]",
      "text/plain": [
       "<Figure size 1080x576 with 1 Axes>"
      ]
     },
     "metadata": {
      "needs_background": "light"
     },
     "output_type": "display_data"
    }
   ],
   "source": [
    "# оставим данные за актуальные период\n",
    "data_after2014_unique = unique_games[unique_games['year_of_release'] >= 2014]\n",
    "# строим график\n",
    "data_after2014_unique[['name'] + ['genre']].groupby('genre').count().plot(\n",
    "    kind = 'bar',\n",
    "    figsize = (15, 8),\n",
    "    rot = 45,\n",
    "    title = 'Распределение игр по жанрам, выпущенных после 2013 года',\n",
    "    xlabel = 'Название жанра',\n",
    "    ylabel = 'Количество игр, шт.'\n",
    ");"
   ]
  },
  {
   "cell_type": "markdown",
   "metadata": {},
   "source": [
    "Игр жанра `Action` в **актуальный период** выпущено чуть менее 350. Это безусловный лидер среди жанров, 2 место занимают ролевые (`Role-Playing`) игры, 3 место досталось приключенческим играм (`Adventure`), игры жанров `Misc` (другое) и `Sports` замыкают топ-5 жанров.\n",
    "\n",
    "Для того, чтобы оценить прибыльность жанра необходимо взглянуть на распределение продаж игр, учитывая медианное (или среднее) значение количества проданных копий. Общее число продаж не скажет нам о прибыльности (очевидно, что если выпущено 350 игр в жанре экшн, то и продаж у этих игр должно быть больше, по сравнению с 50 играми жанра `Shooter`). Таким образом мы получим портрет \"типичной\" игры для каждого жанра:"
   ]
  },
  {
   "cell_type": "code",
   "execution_count": 52,
   "metadata": {},
   "outputs": [
    {
     "data": {
      "image/png": "[encoded data removed]",
      "text/plain": [
       "<Figure size 1080x576 with 1 Axes>"
      ]
     },
     "metadata": {
      "needs_background": "light"
     },
     "output_type": "display_data"
    }
   ],
   "source": [
    "data_after2014[['genre'] + ['total_sales']].groupby('genre').median().plot(\n",
    "    kind='bar',\n",
    "    figsize = (15, 8),\n",
    "    rot = 45,\n",
    "    title='Медианные продажи игр по жанрам (в актуальные период)',\n",
    "    xlabel='Название жанра',\n",
    "    ylabel='Глобальные продажи, млн.'\n",
    ");"
   ]
  },
  {
   "cell_type": "markdown",
   "metadata": {},
   "source": [
    "У нас имеется безоговорочный лидер в актуальный период - игры жанра `Shooter`.\n",
    "\n",
    "Заодно посмотрим эту же информацию в виде сгруппированной таблицы, чтобы увидеть целочисленные значения."
   ]
  },
  {
   "cell_type": "code",
   "execution_count": 53,
   "metadata": {
    "scrolled": false
   },
   "outputs": [
    {
     "data": {
      "text/html": [
       "<div>\n",
       "<style scoped>\n",
       "    .dataframe tbody tr th:only-of-type {\n",
       "        vertical-align: middle;\n",
       "    }\n",
       "\n",
       "    .dataframe tbody tr th {\n",
       "        vertical-align: top;\n",
       "    }\n",
       "\n",
       "    .dataframe thead th {\n",
       "        text-align: right;\n",
       "    }\n",
       "</style>\n",
       "<table border=\"1\" class=\"dataframe\">\n",
       "  <thead>\n",
       "    <tr style=\"text-align: right;\">\n",
       "      <th></th>\n",
       "      <th>total_sales</th>\n",
       "    </tr>\n",
       "    <tr>\n",
       "      <th>genre</th>\n",
       "      <th></th>\n",
       "    </tr>\n",
       "  </thead>\n",
       "  <tbody>\n",
       "    <tr>\n",
       "      <th>Adventure</th>\n",
       "      <td>0.030</td>\n",
       "    </tr>\n",
       "    <tr>\n",
       "      <th>Puzzle</th>\n",
       "      <td>0.045</td>\n",
       "    </tr>\n",
       "    <tr>\n",
       "      <th>Strategy</th>\n",
       "      <td>0.060</td>\n",
       "    </tr>\n",
       "    <tr>\n",
       "      <th>Action</th>\n",
       "      <td>0.090</td>\n",
       "    </tr>\n",
       "    <tr>\n",
       "      <th>Misc</th>\n",
       "      <td>0.090</td>\n",
       "    </tr>\n",
       "    <tr>\n",
       "      <th>Racing</th>\n",
       "      <td>0.090</td>\n",
       "    </tr>\n",
       "    <tr>\n",
       "      <th>Simulation</th>\n",
       "      <td>0.100</td>\n",
       "    </tr>\n",
       "    <tr>\n",
       "      <th>Role-Playing</th>\n",
       "      <td>0.110</td>\n",
       "    </tr>\n",
       "    <tr>\n",
       "      <th>Fighting</th>\n",
       "      <td>0.125</td>\n",
       "    </tr>\n",
       "    <tr>\n",
       "      <th>Platform</th>\n",
       "      <td>0.140</td>\n",
       "    </tr>\n",
       "    <tr>\n",
       "      <th>Sports</th>\n",
       "      <td>0.180</td>\n",
       "    </tr>\n",
       "    <tr>\n",
       "      <th>Shooter</th>\n",
       "      <td>0.515</td>\n",
       "    </tr>\n",
       "  </tbody>\n",
       "</table>\n",
       "</div>"
      ],
      "text/plain": [
       "              total_sales\n",
       "genre                    \n",
       "Adventure           0.030\n",
       "Puzzle              0.045\n",
       "Strategy            0.060\n",
       "Action              0.090\n",
       "Misc                0.090\n",
       "Racing              0.090\n",
       "Simulation          0.100\n",
       "Role-Playing        0.110\n",
       "Fighting            0.125\n",
       "Platform            0.140\n",
       "Sports              0.180\n",
       "Shooter             0.515"
      ]
     },
     "execution_count": 53,
     "metadata": {},
     "output_type": "execute_result"
    }
   ],
   "source": [
    "data_after2014[['genre'] + ['total_sales']].groupby('genre').median().sort_values(by='total_sales')"
   ]
  },
  {
   "cell_type": "markdown",
   "metadata": {},
   "source": [
    "Видим, что `Action` даже не в топ-5 по прибыльности по медианному значению. Самым прибыльным по данному критерию является жанр `Shooter`, игры жанра (`Sports`) на второй позиции. Платформеры (`Platform`) в тройке. Файтинги (`Fighting`) и ролевые игры (`Role-Playing`) расположились на 4 и 5 местах, соответственно. И лишь на 7-м месте расположись игры жанра `Action`.\n",
    "\n",
    "А вот приключения (`Adventure`) анти-лидеры по прибыльности. Стратегии (`Strategy`) и головоломки (`Puzzle`) имеют чуть лучшее положение, но до \"топов\" далеко.\n",
    "\n",
    "Безусловно, нельзя судить о прибыльности игры, не зная сколько компания-разработчик вложила средств для создания продукта. Данная метрика показывает скорее предпочтения пользователей.\n",
    "\n",
    "**Краткий вывод:** в процессе исследовательского анализа данных смогли определить средний цикл жизни платформы (5-10 лет), благодаря этому определили актуальный период (2014-2016 гг.), по которому вели дальнейшее исследование. Установили актуальные платформы, которые обладают потенциалом на несколько последующих лет. Установили уровень корреляции количества глобальных продаж от рейтинга (пользователей и критиков) - **линейная зависимость не обнаружена**. Финальным шагом в исследовательском анализе определили наиболее прибыльные жанры: `Shooter` (шутеры), `Sports` (спортивные симуляторы) и `Platform` (платформеры).\n",
    "<a id='section3.7'></a>"
   ]
  },
  {
   "cell_type": "markdown",
   "metadata": {},
   "source": [
    "<a id='section4'></a>\n",
    "## Составим портреты пользователей для каждого из регионов (NA, EU, JP)\n",
    "\n",
    "### Определим самые популярные платформы (топ-5)\n",
    "<a id='section4.1'></a>"
   ]
  },
  {
   "cell_type": "code",
   "execution_count": 54,
   "metadata": {},
   "outputs": [
    {
     "name": "stdout",
     "output_type": "stream",
     "text": [
      "Топ-5 популярных платформ для региона Северная Америка:\n"
     ]
    },
    {
     "data": {
      "text/html": [
       "<div>\n",
       "<style scoped>\n",
       "    .dataframe tbody tr th:only-of-type {\n",
       "        vertical-align: middle;\n",
       "    }\n",
       "\n",
       "    .dataframe tbody tr th {\n",
       "        vertical-align: top;\n",
       "    }\n",
       "\n",
       "    .dataframe thead th {\n",
       "        text-align: right;\n",
       "    }\n",
       "</style>\n",
       "<table border=\"1\" class=\"dataframe\">\n",
       "  <thead>\n",
       "    <tr style=\"text-align: right;\">\n",
       "      <th></th>\n",
       "      <th>na_sales</th>\n",
       "    </tr>\n",
       "    <tr>\n",
       "      <th>platform</th>\n",
       "      <th></th>\n",
       "    </tr>\n",
       "  </thead>\n",
       "  <tbody>\n",
       "    <tr>\n",
       "      <th>X360</th>\n",
       "      <td>602.47</td>\n",
       "    </tr>\n",
       "    <tr>\n",
       "      <th>PS2</th>\n",
       "      <td>583.84</td>\n",
       "    </tr>\n",
       "    <tr>\n",
       "      <th>Wii</th>\n",
       "      <td>496.90</td>\n",
       "    </tr>\n",
       "    <tr>\n",
       "      <th>PS3</th>\n",
       "      <td>393.49</td>\n",
       "    </tr>\n",
       "    <tr>\n",
       "      <th>DS</th>\n",
       "      <td>382.40</td>\n",
       "    </tr>\n",
       "  </tbody>\n",
       "</table>\n",
       "</div>"
      ],
      "text/plain": [
       "          na_sales\n",
       "platform          \n",
       "X360        602.47\n",
       "PS2         583.84\n",
       "Wii         496.90\n",
       "PS3         393.49\n",
       "DS          382.40"
      ]
     },
     "metadata": {},
     "output_type": "display_data"
    },
    {
     "name": "stdout",
     "output_type": "stream",
     "text": [
      "\n",
      "Топ-5 популярных платформ для региона Европа:\n"
     ]
    },
    {
     "data": {
      "text/html": [
       "<div>\n",
       "<style scoped>\n",
       "    .dataframe tbody tr th:only-of-type {\n",
       "        vertical-align: middle;\n",
       "    }\n",
       "\n",
       "    .dataframe tbody tr th {\n",
       "        vertical-align: top;\n",
       "    }\n",
       "\n",
       "    .dataframe thead th {\n",
       "        text-align: right;\n",
       "    }\n",
       "</style>\n",
       "<table border=\"1\" class=\"dataframe\">\n",
       "  <thead>\n",
       "    <tr style=\"text-align: right;\">\n",
       "      <th></th>\n",
       "      <th>eu_sales</th>\n",
       "    </tr>\n",
       "    <tr>\n",
       "      <th>platform</th>\n",
       "      <th></th>\n",
       "    </tr>\n",
       "  </thead>\n",
       "  <tbody>\n",
       "    <tr>\n",
       "      <th>PS2</th>\n",
       "      <td>339.29</td>\n",
       "    </tr>\n",
       "    <tr>\n",
       "      <th>PS3</th>\n",
       "      <td>330.29</td>\n",
       "    </tr>\n",
       "    <tr>\n",
       "      <th>X360</th>\n",
       "      <td>270.76</td>\n",
       "    </tr>\n",
       "    <tr>\n",
       "      <th>Wii</th>\n",
       "      <td>262.21</td>\n",
       "    </tr>\n",
       "    <tr>\n",
       "      <th>PS</th>\n",
       "      <td>213.61</td>\n",
       "    </tr>\n",
       "  </tbody>\n",
       "</table>\n",
       "</div>"
      ],
      "text/plain": [
       "          eu_sales\n",
       "platform          \n",
       "PS2         339.29\n",
       "PS3         330.29\n",
       "X360        270.76\n",
       "Wii         262.21\n",
       "PS          213.61"
      ]
     },
     "metadata": {},
     "output_type": "display_data"
    },
    {
     "name": "stdout",
     "output_type": "stream",
     "text": [
      "\n",
      "Топ-5 популярных платформ для региона Япония:\n"
     ]
    },
    {
     "data": {
      "text/html": [
       "<div>\n",
       "<style scoped>\n",
       "    .dataframe tbody tr th:only-of-type {\n",
       "        vertical-align: middle;\n",
       "    }\n",
       "\n",
       "    .dataframe tbody tr th {\n",
       "        vertical-align: top;\n",
       "    }\n",
       "\n",
       "    .dataframe thead th {\n",
       "        text-align: right;\n",
       "    }\n",
       "</style>\n",
       "<table border=\"1\" class=\"dataframe\">\n",
       "  <thead>\n",
       "    <tr style=\"text-align: right;\">\n",
       "      <th></th>\n",
       "      <th>jp_sales</th>\n",
       "    </tr>\n",
       "    <tr>\n",
       "      <th>platform</th>\n",
       "      <th></th>\n",
       "    </tr>\n",
       "  </thead>\n",
       "  <tbody>\n",
       "    <tr>\n",
       "      <th>DS</th>\n",
       "      <td>175.57</td>\n",
       "    </tr>\n",
       "    <tr>\n",
       "      <th>PS</th>\n",
       "      <td>139.82</td>\n",
       "    </tr>\n",
       "    <tr>\n",
       "      <th>PS2</th>\n",
       "      <td>139.20</td>\n",
       "    </tr>\n",
       "    <tr>\n",
       "      <th>SNES</th>\n",
       "      <td>116.55</td>\n",
       "    </tr>\n",
       "    <tr>\n",
       "      <th>3DS</th>\n",
       "      <td>100.67</td>\n",
       "    </tr>\n",
       "  </tbody>\n",
       "</table>\n",
       "</div>"
      ],
      "text/plain": [
       "          jp_sales\n",
       "platform          \n",
       "DS          175.57\n",
       "PS          139.82\n",
       "PS2         139.20\n",
       "SNES        116.55\n",
       "3DS         100.67"
      ]
     },
     "metadata": {},
     "output_type": "display_data"
    },
    {
     "name": "stdout",
     "output_type": "stream",
     "text": [
      "\n"
     ]
    }
   ],
   "source": [
    "regions = {'na_sales': 'Северная Америка', 'eu_sales': 'Европа', 'jp_sales': 'Япония'}\n",
    "\n",
    "for reg, name_reg in regions.items():\n",
    "    print(f'Топ-5 популярных платформ для региона {name_reg}:')\n",
    "    display(data[[reg] + ['platform']].groupby('platform').sum().sort_values(by=reg, ascending=False)[:5])\n",
    "    print()"
   ]
  },
  {
   "cell_type": "markdown",
   "metadata": {},
   "source": [
    "Северная Америка `NA`:\n",
    "- Начнем с того, что рынок продаж видеоигр в Северной Америке поистине огромен;\n",
    "- `NA` имеет (имел) ярко выраженное пристрастие к играм на платформе `X360`;\n",
    "- `Wii` - вторая по популярности; `PS3` - третья платформа по популярности.\n",
    "\n",
    "Европа `EU`:\n",
    "- лидирующую позицию занимает `PS3`, следом идет `X360`;\n",
    "- `EU` единственный регион, в топ-5 которого входят продажи игр для `PS4`.\n",
    "\n",
    "Япония `JP`:\n",
    "- сам по себе объем продаж невелик;\n",
    "- в топ-5 вошли 3 карманные платформы (`DS`, `3DS`, `PSP`). Японцы ценят портативность или предпочитают играть в любом месте?\n",
    "\n",
    "### Определим самые популярные жанры (топ-5)\n",
    "<a id='section4.2'></a>"
   ]
  },
  {
   "cell_type": "code",
   "execution_count": 55,
   "metadata": {},
   "outputs": [
    {
     "name": "stdout",
     "output_type": "stream",
     "text": [
      "Топ-5 популярных жанров для региона Северная Америка:\n"
     ]
    },
    {
     "data": {
      "text/html": [
       "<div>\n",
       "<style scoped>\n",
       "    .dataframe tbody tr th:only-of-type {\n",
       "        vertical-align: middle;\n",
       "    }\n",
       "\n",
       "    .dataframe tbody tr th {\n",
       "        vertical-align: top;\n",
       "    }\n",
       "\n",
       "    .dataframe thead th {\n",
       "        text-align: right;\n",
       "    }\n",
       "</style>\n",
       "<table border=\"1\" class=\"dataframe\">\n",
       "  <thead>\n",
       "    <tr style=\"text-align: right;\">\n",
       "      <th></th>\n",
       "      <th>na_sales</th>\n",
       "    </tr>\n",
       "    <tr>\n",
       "      <th>genre</th>\n",
       "      <th></th>\n",
       "    </tr>\n",
       "  </thead>\n",
       "  <tbody>\n",
       "    <tr>\n",
       "      <th>Action</th>\n",
       "      <td>879.01</td>\n",
       "    </tr>\n",
       "    <tr>\n",
       "      <th>Sports</th>\n",
       "      <td>684.43</td>\n",
       "    </tr>\n",
       "    <tr>\n",
       "      <th>Shooter</th>\n",
       "      <td>592.24</td>\n",
       "    </tr>\n",
       "    <tr>\n",
       "      <th>Platform</th>\n",
       "      <td>445.50</td>\n",
       "    </tr>\n",
       "    <tr>\n",
       "      <th>Misc</th>\n",
       "      <td>407.27</td>\n",
       "    </tr>\n",
       "  </tbody>\n",
       "</table>\n",
       "</div>"
      ],
      "text/plain": [
       "          na_sales\n",
       "genre             \n",
       "Action      879.01\n",
       "Sports      684.43\n",
       "Shooter     592.24\n",
       "Platform    445.50\n",
       "Misc        407.27"
      ]
     },
     "metadata": {},
     "output_type": "display_data"
    },
    {
     "name": "stdout",
     "output_type": "stream",
     "text": [
      "\n",
      "Топ-5 популярных жанров для региона Европа:\n"
     ]
    },
    {
     "data": {
      "text/html": [
       "<div>\n",
       "<style scoped>\n",
       "    .dataframe tbody tr th:only-of-type {\n",
       "        vertical-align: middle;\n",
       "    }\n",
       "\n",
       "    .dataframe tbody tr th {\n",
       "        vertical-align: top;\n",
       "    }\n",
       "\n",
       "    .dataframe thead th {\n",
       "        text-align: right;\n",
       "    }\n",
       "</style>\n",
       "<table border=\"1\" class=\"dataframe\">\n",
       "  <thead>\n",
       "    <tr style=\"text-align: right;\">\n",
       "      <th></th>\n",
       "      <th>eu_sales</th>\n",
       "    </tr>\n",
       "    <tr>\n",
       "      <th>genre</th>\n",
       "      <th></th>\n",
       "    </tr>\n",
       "  </thead>\n",
       "  <tbody>\n",
       "    <tr>\n",
       "      <th>Action</th>\n",
       "      <td>519.13</td>\n",
       "    </tr>\n",
       "    <tr>\n",
       "      <th>Sports</th>\n",
       "      <td>376.79</td>\n",
       "    </tr>\n",
       "    <tr>\n",
       "      <th>Shooter</th>\n",
       "      <td>317.34</td>\n",
       "    </tr>\n",
       "    <tr>\n",
       "      <th>Racing</th>\n",
       "      <td>236.51</td>\n",
       "    </tr>\n",
       "    <tr>\n",
       "      <th>Misc</th>\n",
       "      <td>212.74</td>\n",
       "    </tr>\n",
       "  </tbody>\n",
       "</table>\n",
       "</div>"
      ],
      "text/plain": [
       "         eu_sales\n",
       "genre            \n",
       "Action     519.13\n",
       "Sports     376.79\n",
       "Shooter    317.34\n",
       "Racing     236.51\n",
       "Misc       212.74"
      ]
     },
     "metadata": {},
     "output_type": "display_data"
    },
    {
     "name": "stdout",
     "output_type": "stream",
     "text": [
      "\n",
      "Топ-5 популярных жанров для региона Япония:\n"
     ]
    },
    {
     "data": {
      "text/html": [
       "<div>\n",
       "<style scoped>\n",
       "    .dataframe tbody tr th:only-of-type {\n",
       "        vertical-align: middle;\n",
       "    }\n",
       "\n",
       "    .dataframe tbody tr th {\n",
       "        vertical-align: top;\n",
       "    }\n",
       "\n",
       "    .dataframe thead th {\n",
       "        text-align: right;\n",
       "    }\n",
       "</style>\n",
       "<table border=\"1\" class=\"dataframe\">\n",
       "  <thead>\n",
       "    <tr style=\"text-align: right;\">\n",
       "      <th></th>\n",
       "      <th>jp_sales</th>\n",
       "    </tr>\n",
       "    <tr>\n",
       "      <th>genre</th>\n",
       "      <th></th>\n",
       "    </tr>\n",
       "  </thead>\n",
       "  <tbody>\n",
       "    <tr>\n",
       "      <th>Role-Playing</th>\n",
       "      <td>355.41</td>\n",
       "    </tr>\n",
       "    <tr>\n",
       "      <th>Action</th>\n",
       "      <td>161.43</td>\n",
       "    </tr>\n",
       "    <tr>\n",
       "      <th>Sports</th>\n",
       "      <td>135.54</td>\n",
       "    </tr>\n",
       "    <tr>\n",
       "      <th>Platform</th>\n",
       "      <td>130.83</td>\n",
       "    </tr>\n",
       "    <tr>\n",
       "      <th>Misc</th>\n",
       "      <td>108.11</td>\n",
       "    </tr>\n",
       "  </tbody>\n",
       "</table>\n",
       "</div>"
      ],
      "text/plain": [
       "              jp_sales\n",
       "genre                 \n",
       "Role-Playing    355.41\n",
       "Action          161.43\n",
       "Sports          135.54\n",
       "Platform        130.83\n",
       "Misc            108.11"
      ]
     },
     "metadata": {},
     "output_type": "display_data"
    },
    {
     "name": "stdout",
     "output_type": "stream",
     "text": [
      "\n"
     ]
    }
   ],
   "source": [
    "for reg, name_reg in regions.items():\n",
    "    print(f'Топ-5 популярных жанров для региона {name_reg}:')\n",
    "    display(data[[reg] + ['genre']].groupby('genre').sum().sort_values(by=reg, ascending=False)[:5])\n",
    "    print()"
   ]
  },
  {
   "cell_type": "markdown",
   "metadata": {},
   "source": [
    "В Европе и Северной Америке топ-4 жанров идентичны, можно сказать о схожести вкусов или же об идентичных рекламных кампаниях.\n",
    "\n",
    "Иначе обстоят дела в регионе Япония. Топ-5 выглядит обособленно от двух других. Так, пользователи отдают предпочтение ролевым играм (`Role-Playing`). Иная культура - иные предпочтения.\n",
    "\n",
    "### Влияет ли рейтинг ESRB на продажи в регионах?\n",
    "<a id='section4.3'></a>"
   ]
  },
  {
   "cell_type": "code",
   "execution_count": 56,
   "metadata": {},
   "outputs": [
    {
     "name": "stdout",
     "output_type": "stream",
     "text": [
      "Топ-5 продаж относительно ESRB-рейтинга в регионе Северная Америка:\n"
     ]
    },
    {
     "data": {
      "text/html": [
       "<div>\n",
       "<style scoped>\n",
       "    .dataframe tbody tr th:only-of-type {\n",
       "        vertical-align: middle;\n",
       "    }\n",
       "\n",
       "    .dataframe tbody tr th {\n",
       "        vertical-align: top;\n",
       "    }\n",
       "\n",
       "    .dataframe thead th {\n",
       "        text-align: right;\n",
       "    }\n",
       "</style>\n",
       "<table border=\"1\" class=\"dataframe\">\n",
       "  <thead>\n",
       "    <tr style=\"text-align: right;\">\n",
       "      <th></th>\n",
       "      <th>na_sales</th>\n",
       "    </tr>\n",
       "    <tr>\n",
       "      <th>rating</th>\n",
       "      <th></th>\n",
       "    </tr>\n",
       "  </thead>\n",
       "  <tbody>\n",
       "    <tr>\n",
       "      <th>E</th>\n",
       "      <td>1292.99</td>\n",
       "    </tr>\n",
       "    <tr>\n",
       "      <th>T</th>\n",
       "      <td>759.75</td>\n",
       "    </tr>\n",
       "    <tr>\n",
       "      <th>M</th>\n",
       "      <td>748.48</td>\n",
       "    </tr>\n",
       "    <tr>\n",
       "      <th>E10+</th>\n",
       "      <td>353.32</td>\n",
       "    </tr>\n",
       "    <tr>\n",
       "      <th>K-A</th>\n",
       "      <td>2.56</td>\n",
       "    </tr>\n",
       "    <tr>\n",
       "      <th>EC</th>\n",
       "      <td>1.53</td>\n",
       "    </tr>\n",
       "    <tr>\n",
       "      <th>AO</th>\n",
       "      <td>1.26</td>\n",
       "    </tr>\n",
       "    <tr>\n",
       "      <th>RP</th>\n",
       "      <td>0.00</td>\n",
       "    </tr>\n",
       "  </tbody>\n",
       "</table>\n",
       "</div>"
      ],
      "text/plain": [
       "        na_sales\n",
       "rating          \n",
       "E        1292.99\n",
       "T         759.75\n",
       "M         748.48\n",
       "E10+      353.32\n",
       "K-A         2.56\n",
       "EC          1.53\n",
       "AO          1.26\n",
       "RP          0.00"
      ]
     },
     "metadata": {},
     "output_type": "display_data"
    },
    {
     "name": "stdout",
     "output_type": "stream",
     "text": [
      "\n",
      "Топ-5 продаж относительно ESRB-рейтинга в регионе Европа:\n"
     ]
    },
    {
     "data": {
      "text/html": [
       "<div>\n",
       "<style scoped>\n",
       "    .dataframe tbody tr th:only-of-type {\n",
       "        vertical-align: middle;\n",
       "    }\n",
       "\n",
       "    .dataframe tbody tr th {\n",
       "        vertical-align: top;\n",
       "    }\n",
       "\n",
       "    .dataframe thead th {\n",
       "        text-align: right;\n",
       "    }\n",
       "</style>\n",
       "<table border=\"1\" class=\"dataframe\">\n",
       "  <thead>\n",
       "    <tr style=\"text-align: right;\">\n",
       "      <th></th>\n",
       "      <th>eu_sales</th>\n",
       "    </tr>\n",
       "    <tr>\n",
       "      <th>rating</th>\n",
       "      <th></th>\n",
       "    </tr>\n",
       "  </thead>\n",
       "  <tbody>\n",
       "    <tr>\n",
       "      <th>E</th>\n",
       "      <td>710.25</td>\n",
       "    </tr>\n",
       "    <tr>\n",
       "      <th>M</th>\n",
       "      <td>483.97</td>\n",
       "    </tr>\n",
       "    <tr>\n",
       "      <th>T</th>\n",
       "      <td>427.03</td>\n",
       "    </tr>\n",
       "    <tr>\n",
       "      <th>E10+</th>\n",
       "      <td>188.52</td>\n",
       "    </tr>\n",
       "    <tr>\n",
       "      <th>AO</th>\n",
       "      <td>0.61</td>\n",
       "    </tr>\n",
       "    <tr>\n",
       "      <th>K-A</th>\n",
       "      <td>0.27</td>\n",
       "    </tr>\n",
       "    <tr>\n",
       "      <th>EC</th>\n",
       "      <td>0.11</td>\n",
       "    </tr>\n",
       "    <tr>\n",
       "      <th>RP</th>\n",
       "      <td>0.08</td>\n",
       "    </tr>\n",
       "  </tbody>\n",
       "</table>\n",
       "</div>"
      ],
      "text/plain": [
       "        eu_sales\n",
       "rating          \n",
       "E         710.25\n",
       "M         483.97\n",
       "T         427.03\n",
       "E10+      188.52\n",
       "AO          0.61\n",
       "K-A         0.27\n",
       "EC          0.11\n",
       "RP          0.08"
      ]
     },
     "metadata": {},
     "output_type": "display_data"
    },
    {
     "name": "stdout",
     "output_type": "stream",
     "text": [
      "\n",
      "Топ-5 продаж относительно ESRB-рейтинга в регионе Япония:\n"
     ]
    },
    {
     "data": {
      "text/html": [
       "<div>\n",
       "<style scoped>\n",
       "    .dataframe tbody tr th:only-of-type {\n",
       "        vertical-align: middle;\n",
       "    }\n",
       "\n",
       "    .dataframe tbody tr th {\n",
       "        vertical-align: top;\n",
       "    }\n",
       "\n",
       "    .dataframe thead th {\n",
       "        text-align: right;\n",
       "    }\n",
       "</style>\n",
       "<table border=\"1\" class=\"dataframe\">\n",
       "  <thead>\n",
       "    <tr style=\"text-align: right;\">\n",
       "      <th></th>\n",
       "      <th>jp_sales</th>\n",
       "    </tr>\n",
       "    <tr>\n",
       "      <th>rating</th>\n",
       "      <th></th>\n",
       "    </tr>\n",
       "  </thead>\n",
       "  <tbody>\n",
       "    <tr>\n",
       "      <th>E</th>\n",
       "      <td>198.11</td>\n",
       "    </tr>\n",
       "    <tr>\n",
       "      <th>T</th>\n",
       "      <td>151.40</td>\n",
       "    </tr>\n",
       "    <tr>\n",
       "      <th>M</th>\n",
       "      <td>64.24</td>\n",
       "    </tr>\n",
       "    <tr>\n",
       "      <th>E10+</th>\n",
       "      <td>40.20</td>\n",
       "    </tr>\n",
       "    <tr>\n",
       "      <th>K-A</th>\n",
       "      <td>1.46</td>\n",
       "    </tr>\n",
       "    <tr>\n",
       "      <th>AO</th>\n",
       "      <td>0.00</td>\n",
       "    </tr>\n",
       "    <tr>\n",
       "      <th>EC</th>\n",
       "      <td>0.00</td>\n",
       "    </tr>\n",
       "    <tr>\n",
       "      <th>RP</th>\n",
       "      <td>0.00</td>\n",
       "    </tr>\n",
       "  </tbody>\n",
       "</table>\n",
       "</div>"
      ],
      "text/plain": [
       "        jp_sales\n",
       "rating          \n",
       "E         198.11\n",
       "T         151.40\n",
       "M          64.24\n",
       "E10+       40.20\n",
       "K-A         1.46\n",
       "AO          0.00\n",
       "EC          0.00\n",
       "RP          0.00"
      ]
     },
     "metadata": {},
     "output_type": "display_data"
    },
    {
     "name": "stdout",
     "output_type": "stream",
     "text": [
      "\n"
     ]
    }
   ],
   "source": [
    "for reg, name_reg in regions.items():\n",
    "    print(f'Топ-5 продаж относительно ESRB-рейтинга в регионе {name_reg}:')\n",
    "    display(data[[reg] + ['rating']].groupby('rating').sum().sort_values(by=reg, ascending=False))\n",
    "    print()"
   ]
  },
  {
   "cell_type": "markdown",
   "metadata": {},
   "source": [
    "Как видим, ситуация в Европе и Северной Америке схожая. Игры 3-х категорий словно определили индустрию: `E` (для всех), `M` (для взрослых) и `T` (для подростков) захватили бОльшую часть рынка. Игры без рейтинга заняли в обоих регионах вторые позиции.\n",
    "\n",
    "В Японии же картина несколько отличается. Игры без ESRB-рейтинга здесь как горячие пирожки. Но в чем же дело? Вероятно, всему виной тот факт, что ESRB — выдаёт рейтинги в Америке и Канаде, Мексике. А в Японии имеется своё агенство CERO (Computer Entertainment Rating Organization). Соответственно, это не означает, что японцы покупают игры, совсем уж не имеющих возрастной рейтинг, просто напросто эти игры не имеют ESRB-рейтинг, но скорее всего имеют свой местный CERO-рейтинг. В остальном же, игры с ESRB-рейтингом `M` (для взрослых) не пользуются спросом и занимают лишь 4-ю строчку в топе. Игры для всех (`E`) и для подростков (`T`) пользуются гораздо большим спросом.\n",
    "\n",
    "<a id='section5'></a>\n",
    "## Проверим гипотезы\n",
    "<a id='section5.1'> </a>\n",
    "### Проверка гипотезы: средние пользовательские рейтинги платформ Xbox One и PC одинаковы\n",
    "- H_0: пользовательские рейтинги (`user_score`) платформы Xbox One (`XOne`) = пользовательские рейтинги (`user_score`) платформы `PC`\n",
    "- H_1: пользовательские рейтинги (`user_score`) платформы Xbox One (`XOne`) ≠ пользовательские рейтинги (`user_score`) платформы `PC`\n",
    "- aplha = 0.05"
   ]
  },
  {
   "cell_type": "code",
   "execution_count": 57,
   "metadata": {},
   "outputs": [
    {
     "name": "stdout",
     "output_type": "stream",
     "text": [
      "4.5385802963771835e-06\n",
      "Отвергаем нулевую гипотезу\n"
     ]
    }
   ],
   "source": [
    "# В sample передадим те строки, у которых значение столбца `user_score` != пропущенному значению nan\n",
    "sample = df[df['user_score'].notna()]\n",
    "\n",
    "results = st.ttest_ind(\n",
    "    sample[sample['platform'] == 'XOne']['user_score'],\n",
    "    sample[sample['platform'] == 'PC']['user_score'],\n",
    "    equal_var=False\n",
    ")\n",
    "\n",
    "alpha = .05\n",
    "\n",
    "print(results.pvalue)\n",
    "\n",
    "if results.pvalue < alpha:\n",
    "    print('Отвергаем нулевую гипотезу')\n",
    "else:\n",
    "    print('Не получилось отвергнуть нулевую гипотезу')"
   ]
  },
  {
   "cell_type": "markdown",
   "metadata": {},
   "source": [
    "При проверке этой гипотезы использовали t-критерий Стьюдента (независимые выборки). Данные выборки являются независимыми, поскольку вероятность отбора любого испытуемого одной выборки не зависит от отбора любого из испытуемых другой выборки.\n",
    "\n",
    "`pvalue` равняется 0.000004, что означает: вероятность получить такой результат, при условии, что `H_0` верна = **0.0004%**\n",
    "\n",
    "У нас нет оснований утверждать, что средние пользовательские рейтинги двух платформ равны.\n",
    "\n",
    "Соответственно, отвергаем нулевую гипотезу (`H_0`) и принимаем альтернативную гипотезу (`H_1`): средние пользовательские рейтинги платформ Xbox One и PC **неравны**.\n",
    "\n",
    "<a id='section5.2'></a>\n",
    "### Проверка гипотезы: средние пользовательские рейтинги жанров `Action` (англ. «действие», экшен-игры) и `Sports` (англ. «спортивные соревнования») разные.\n",
    "\n",
    "- H_0: пользовательские рейтинги (`user_score`) жанра `Action` = пользовательские рейтинги (`user_score`) жанра `Sports`\n",
    "- H_1: пользовательские рейтинги (`user_score`) жанра `Action` ≠ пользовательские рейтинги (`user_score`) жанра `Sports`\n",
    "- alpha = 0.05"
   ]
  },
  {
   "cell_type": "code",
   "execution_count": 58,
   "metadata": {},
   "outputs": [
    {
     "name": "stdout",
     "output_type": "stream",
     "text": [
      "0.07751671595536253\n",
      "Не получилось отвергнуть нулевую гипотезу\n"
     ]
    }
   ],
   "source": [
    "results = st.ttest_ind(\n",
    "    sample[sample['genre'] == 'Action']['user_score'],\n",
    "    sample[sample['genre'] == 'Sports']['user_score'],\n",
    "    equal_var=False\n",
    ")\n",
    "\n",
    "alpha = .05\n",
    "\n",
    "print(results.pvalue)\n",
    "\n",
    "if results.pvalue < alpha:\n",
    "    print('Отвергаем нулевую гипотезу')\n",
    "else:\n",
    "    print('Не получилось отвергнуть нулевую гипотезу')"
   ]
  },
  {
   "cell_type": "markdown",
   "metadata": {},
   "source": [
    "При проверке этой гипотезы использовали также t-критерий Стьюдента. Данные выборки являются независимыми, поскольку вероятность отбора любого испытуемого одной выборки не зависит от отбора любого из испытуемых другой выборки.\n",
    "\n",
    "`pvalue` оказалось равным 7.7%, что означает: получить такой результат, при условии, что H_0 верна = 7.7%\n",
    "\n",
    "Таким образом, выбрав порог в 5%, мы не может отвергнуть нулевую (`H_0`) гипотезу: у нас нет оснований говорить, что различие двух рейтингов **значимо**.\n",
    "\n",
    "<a id='section6'></a>\n",
    "## Общий вывод \n",
    "\n",
    "В данном проекте выполнили предобработку данных, провели исследовательский анализ данных, составили портреты пользователей для каждого региона, а также проверили пару гипотез.\n",
    "\n",
    "А теперь подробнее. Цель проекта состоит в том, чтобы определить закономерности, которые позволяют определить потенциально успешное направление в индустрии видеоигр.\n",
    "\n",
    "Для начала мы провели предобработку данных, в ходе которой в некоторрых столбцах удалось избавиться от пропусков (`name`, `year_of_release`, `rating`), в столбцах с пользовательской оценкой (`user_score`) и оценкой критиков (`critic_score`) пропуски оставили. По той простой причине, что логичной замены предусмотреть не удалось.\n",
    "\n",
    "По ходу исследовательского анализа смогли определить средний цикл жизни платформы (5-10 лет), но сменяемость платформ новыми поколениями происходит гораздо быстрее. Благодаря этому определили актуальный период (3 года), по которому вели дальнейшее исследование. Установили актуальные платформы, которые обладают потенциалом на несколько последующих лет (`PS4`, `XOne`, `3DS`, `PC`). Установили уровень корреляции количества глобальных продаж от рейтинга (пользователей и критиков) - **линейная зависимость не обнаружена**. Финальным шагом в исследовательском анализе определили наиболее прибыльные жанры (`Shooter`, `Sports`, `Platform`).\n",
    "\n",
    "При составлении портретов была замечена схожесть североамериканских пользователей с европейскими: в большинстве своем пользователи предпочитают похожие жанры и платформы (за исключением искренней любви североамериканцев к `X360`) . Тогда как пользователи из Японии обладают своим вкусом, не так сильно похожим на европейских или североамериканских пользователей: топ-5 жанров и топ-5 платформ кардинально отличаются от других регионов. В целом, ситуация с рейтингом ESRB однородна в регионах `NA` и `EU`, но в Японии дела обстоят совсем иначе. Именно игры без ESRB-рейтинга возглавляют топ-продаж. А всему причиной, как мы выяснили, то, что в Японии функционирует совсем иная организация, предоставляющая возрастной рейтинг для игр. Поэтому формально японцы скупают игры без ESRB-рейтинга, но скорее всего со своим CERO-рейтингом (Computer Entertainment Rating Organization).\n",
    "\n",
    "Нам предложили проверить две гипотезы:\n",
    "- первая гласит о том, что средние пользовательские рейтинги платформ `Xbox One` и `PC` одинаковые. Определили нулевую гипотезу (о равенстве) и альтернативную (о неравенстве). Используя t-критерий Стьюдента и установив доверительный интервал равным 5%, определили, что нулевую гипотезу стоит отвергнуть и принять альтернативную гипотезу - с 99.9996% вероятностью средние пользовательские рейтинги двух платформ различны (неравны);\n",
    "- вторая гипотеза сообщает, что средние пользовательские рейтинги жанров `Action` и `Sports` разные. Нулевая гипотеза о равенстве, альтернативная о неравенстве. Используя t-критерий Стьюдента и установив доверительный интервал равным 5%, определили, что нет оснований для отказа от нулевой гипотезы. С 7.7%% вероятностью средние пользовательские рейтинги двух жанров равны.\n",
    "\n",
    "Таким образом, наиболее потенциальными (с точки зрения объема продаж, популярности) можно назвать игры, которые выпускаются в первую очередь для платформы (`PS4`). Миру известны их эксклюзивы, зачастую лишь из-за одной игры, которая выходит эксклюзивом для `PS4`, люди решаются на покупку этой платформы. Так или иначе, платформа `XOne` имеет также отличный потенциал, особенно в североамериканском регионе. Для игр, выпускаемых для `3DS` желательно быть ориентированными на японский рынок - данные показывают, что японцы отлично относятся к портативным консолям. Что касается `PC`, то ситуация не столь радужная, одна из главных проблем данной платформы является пиратская деятельность. Уверен, каждый из читающих этот проект не единожды прибегал к таким методам гейминга.\n",
    "\n",
    "Но чтобы повысить максимально свои шансы на хорошие продажи игры, то стоит присмотреться к играм в жанре `Shooter`. \"Стрелялки\" безумно популярны в это время. Как альтернативу можно использовать жанр спортивных состязаний, либо же жанр платформера (но этот случай, опять же, должен быть скорее ориентирован на японскую аудиторию в купе с платформой `3DS`).\n",
    "\n",
    "В любом случае, с определенной долей вероятности может появиться игра, которая никак не будет относиться к трендам актуального периода, но продажи которой окажутся нереалистично огромными. Но это уже лиричное отступление. В основном же, тренды описаны в двух обзацах выше. Спасибо за внимание!"
   ]
  }
 ],
 "metadata": {
  "ExecuteTimeLog": [
   {
    "duration": 365,
    "start_time": "2023-03-01T12:25:26.894Z"
   },
   {
    "duration": 196,
    "start_time": "2023-03-01T12:25:55.431Z"
   },
   {
    "duration": 27,
    "start_time": "2023-03-01T12:27:14.334Z"
   },
   {
    "duration": 16,
    "start_time": "2023-03-01T12:27:41.288Z"
   },
   {
    "duration": 4,
    "start_time": "2023-03-01T12:48:29.216Z"
   },
   {
    "duration": 16,
    "start_time": "2023-03-01T12:48:38.051Z"
   },
   {
    "duration": 4,
    "start_time": "2023-03-01T12:49:30.944Z"
   },
   {
    "duration": 7,
    "start_time": "2023-03-01T13:02:37.440Z"
   },
   {
    "duration": 15,
    "start_time": "2023-03-01T13:02:41.756Z"
   },
   {
    "duration": 14,
    "start_time": "2023-03-01T13:02:49.495Z"
   },
   {
    "duration": 54,
    "start_time": "2023-03-01T13:03:06.843Z"
   },
   {
    "duration": 14,
    "start_time": "2023-03-01T13:03:10.284Z"
   },
   {
    "duration": 446,
    "start_time": "2023-03-01T13:03:32.640Z"
   },
   {
    "duration": 66,
    "start_time": "2023-03-01T13:03:33.088Z"
   },
   {
    "duration": 24,
    "start_time": "2023-03-01T13:03:33.156Z"
   },
   {
    "duration": 24,
    "start_time": "2023-03-01T13:03:33.181Z"
   },
   {
    "duration": 19,
    "start_time": "2023-03-01T13:03:33.208Z"
   },
   {
    "duration": 43,
    "start_time": "2023-03-01T13:03:33.229Z"
   },
   {
    "duration": 20,
    "start_time": "2023-03-01T13:03:33.274Z"
   },
   {
    "duration": 40,
    "start_time": "2023-03-01T13:03:33.296Z"
   },
   {
    "duration": 71,
    "start_time": "2023-03-01T13:03:50.290Z"
   },
   {
    "duration": 10,
    "start_time": "2023-03-01T13:04:15.443Z"
   },
   {
    "duration": 6,
    "start_time": "2023-03-01T13:04:36.770Z"
   },
   {
    "duration": 18,
    "start_time": "2023-03-01T13:04:38.335Z"
   },
   {
    "duration": 383,
    "start_time": "2023-03-01T13:04:53.996Z"
   },
   {
    "duration": 56,
    "start_time": "2023-03-01T13:04:54.381Z"
   },
   {
    "duration": 25,
    "start_time": "2023-03-01T13:04:54.439Z"
   },
   {
    "duration": 20,
    "start_time": "2023-03-01T13:04:54.467Z"
   },
   {
    "duration": 4,
    "start_time": "2023-03-01T13:04:54.489Z"
   },
   {
    "duration": 50,
    "start_time": "2023-03-01T13:04:54.496Z"
   },
   {
    "duration": 7,
    "start_time": "2023-03-01T13:04:54.548Z"
   },
   {
    "duration": 26,
    "start_time": "2023-03-01T13:04:54.557Z"
   },
   {
    "duration": 6,
    "start_time": "2023-03-01T13:05:05.384Z"
   },
   {
    "duration": 15,
    "start_time": "2023-03-01T13:05:06.595Z"
   },
   {
    "duration": 132,
    "start_time": "2023-03-01T13:05:14.911Z"
   },
   {
    "duration": 19,
    "start_time": "2023-03-01T13:05:54.977Z"
   },
   {
    "duration": 426,
    "start_time": "2023-03-01T13:07:43.420Z"
   },
   {
    "duration": 52,
    "start_time": "2023-03-01T13:07:43.849Z"
   },
   {
    "duration": 23,
    "start_time": "2023-03-01T13:07:43.903Z"
   },
   {
    "duration": 15,
    "start_time": "2023-03-01T13:07:43.928Z"
   },
   {
    "duration": 3,
    "start_time": "2023-03-01T13:07:43.945Z"
   },
   {
    "duration": 18,
    "start_time": "2023-03-01T13:07:43.949Z"
   },
   {
    "duration": 2,
    "start_time": "2023-03-01T13:07:43.969Z"
   },
   {
    "duration": 18,
    "start_time": "2023-03-01T13:07:43.972Z"
   },
   {
    "duration": 23,
    "start_time": "2023-03-01T13:10:53.454Z"
   },
   {
    "duration": 6,
    "start_time": "2023-03-01T13:32:52.825Z"
   },
   {
    "duration": 16,
    "start_time": "2023-03-01T13:33:00.877Z"
   },
   {
    "duration": 448,
    "start_time": "2023-03-01T13:33:39.292Z"
   },
   {
    "duration": 54,
    "start_time": "2023-03-01T13:33:39.742Z"
   },
   {
    "duration": 24,
    "start_time": "2023-03-01T13:33:39.798Z"
   },
   {
    "duration": 42,
    "start_time": "2023-03-01T13:33:39.824Z"
   },
   {
    "duration": 23,
    "start_time": "2023-03-01T13:33:39.868Z"
   },
   {
    "duration": 41,
    "start_time": "2023-03-01T13:33:39.892Z"
   },
   {
    "duration": 28,
    "start_time": "2023-03-01T13:33:39.935Z"
   },
   {
    "duration": 40,
    "start_time": "2023-03-01T13:33:39.965Z"
   },
   {
    "duration": 122,
    "start_time": "2023-03-01T13:34:10.797Z"
   },
   {
    "duration": 20,
    "start_time": "2023-03-01T13:35:01.755Z"
   },
   {
    "duration": 18,
    "start_time": "2023-03-01T13:35:08.079Z"
   },
   {
    "duration": 424,
    "start_time": "2023-03-01T13:36:01.227Z"
   },
   {
    "duration": 55,
    "start_time": "2023-03-01T13:36:01.654Z"
   },
   {
    "duration": 26,
    "start_time": "2023-03-01T13:36:01.711Z"
   },
   {
    "duration": 62,
    "start_time": "2023-03-01T13:36:01.740Z"
   },
   {
    "duration": 40,
    "start_time": "2023-03-01T13:36:01.804Z"
   },
   {
    "duration": 80,
    "start_time": "2023-03-01T13:36:01.846Z"
   },
   {
    "duration": 117,
    "start_time": "2023-03-01T13:36:01.928Z"
   },
   {
    "duration": 0,
    "start_time": "2023-03-01T13:36:02.048Z"
   },
   {
    "duration": 451,
    "start_time": "2023-03-01T13:38:59.428Z"
   },
   {
    "duration": 66,
    "start_time": "2023-03-01T13:38:59.882Z"
   },
   {
    "duration": 31,
    "start_time": "2023-03-01T13:38:59.950Z"
   },
   {
    "duration": 16,
    "start_time": "2023-03-01T13:38:59.984Z"
   },
   {
    "duration": 4,
    "start_time": "2023-03-01T13:39:00.002Z"
   },
   {
    "duration": 40,
    "start_time": "2023-03-01T13:39:00.008Z"
   },
   {
    "duration": 94,
    "start_time": "2023-03-01T13:39:00.050Z"
   },
   {
    "duration": 0,
    "start_time": "2023-03-01T13:39:00.146Z"
   },
   {
    "duration": 9,
    "start_time": "2023-03-01T13:41:00.192Z"
   },
   {
    "duration": 601,
    "start_time": "2023-03-01T13:41:25.424Z"
   },
   {
    "duration": 9,
    "start_time": "2023-03-01T13:41:31.983Z"
   },
   {
    "duration": 6,
    "start_time": "2023-03-01T13:41:46.543Z"
   },
   {
    "duration": 6,
    "start_time": "2023-03-01T13:43:34.813Z"
   },
   {
    "duration": 28,
    "start_time": "2023-03-01T13:43:41.031Z"
   },
   {
    "duration": 4,
    "start_time": "2023-03-01T13:44:03.902Z"
   },
   {
    "duration": 14,
    "start_time": "2023-03-01T13:44:07.722Z"
   },
   {
    "duration": 15,
    "start_time": "2023-03-01T13:44:31.159Z"
   },
   {
    "duration": 7,
    "start_time": "2023-03-01T13:44:48.773Z"
   },
   {
    "duration": 26,
    "start_time": "2023-03-01T14:02:54.283Z"
   },
   {
    "duration": 16,
    "start_time": "2023-03-01T14:06:00.131Z"
   },
   {
    "duration": 8,
    "start_time": "2023-03-01T14:06:48.024Z"
   },
   {
    "duration": 7,
    "start_time": "2023-03-01T14:07:00.322Z"
   },
   {
    "duration": 14,
    "start_time": "2023-03-01T14:07:09.679Z"
   },
   {
    "duration": 53,
    "start_time": "2023-03-02T05:32:03.868Z"
   },
   {
    "duration": 448,
    "start_time": "2023-03-02T05:32:14.931Z"
   },
   {
    "duration": 90,
    "start_time": "2023-03-02T05:32:15.381Z"
   },
   {
    "duration": 22,
    "start_time": "2023-03-02T05:32:15.472Z"
   },
   {
    "duration": 14,
    "start_time": "2023-03-02T05:32:15.496Z"
   },
   {
    "duration": 3,
    "start_time": "2023-03-02T05:32:15.511Z"
   },
   {
    "duration": 14,
    "start_time": "2023-03-02T05:32:15.515Z"
   },
   {
    "duration": 27,
    "start_time": "2023-03-02T05:32:15.531Z"
   },
   {
    "duration": 6,
    "start_time": "2023-03-02T05:32:15.559Z"
   },
   {
    "duration": 6,
    "start_time": "2023-03-02T05:32:15.567Z"
   },
   {
    "duration": 12,
    "start_time": "2023-03-02T05:32:15.575Z"
   },
   {
    "duration": 2,
    "start_time": "2023-03-02T05:32:15.589Z"
   },
   {
    "duration": 16,
    "start_time": "2023-03-02T05:32:15.592Z"
   },
   {
    "duration": 26,
    "start_time": "2023-03-02T05:48:10.741Z"
   },
   {
    "duration": 9,
    "start_time": "2023-03-02T05:51:25.420Z"
   },
   {
    "duration": 11,
    "start_time": "2023-03-02T05:51:53.091Z"
   },
   {
    "duration": 10,
    "start_time": "2023-03-02T05:52:04.850Z"
   },
   {
    "duration": 66,
    "start_time": "2023-03-02T05:52:34.683Z"
   },
   {
    "duration": 23,
    "start_time": "2023-03-02T05:53:59.961Z"
   },
   {
    "duration": 42,
    "start_time": "2023-03-02T05:54:15.466Z"
   },
   {
    "duration": 14,
    "start_time": "2023-03-02T05:54:19.159Z"
   },
   {
    "duration": 6,
    "start_time": "2023-03-02T06:11:37.428Z"
   },
   {
    "duration": 13,
    "start_time": "2023-03-02T06:12:00.973Z"
   },
   {
    "duration": 8,
    "start_time": "2023-03-02T06:12:40.760Z"
   },
   {
    "duration": 17,
    "start_time": "2023-03-02T06:12:42.963Z"
   },
   {
    "duration": 10,
    "start_time": "2023-03-02T06:18:18.370Z"
   },
   {
    "duration": 440,
    "start_time": "2023-03-02T06:19:00.054Z"
   },
   {
    "duration": 49,
    "start_time": "2023-03-02T06:19:00.496Z"
   },
   {
    "duration": 21,
    "start_time": "2023-03-02T06:19:00.546Z"
   },
   {
    "duration": 27,
    "start_time": "2023-03-02T06:19:00.569Z"
   },
   {
    "duration": 33,
    "start_time": "2023-03-02T06:19:00.597Z"
   },
   {
    "duration": 57,
    "start_time": "2023-03-02T06:19:00.632Z"
   },
   {
    "duration": 42,
    "start_time": "2023-03-02T06:19:00.691Z"
   },
   {
    "duration": 32,
    "start_time": "2023-03-02T06:19:00.735Z"
   },
   {
    "duration": 58,
    "start_time": "2023-03-02T06:19:00.768Z"
   },
   {
    "duration": 32,
    "start_time": "2023-03-02T06:19:00.828Z"
   },
   {
    "duration": 69,
    "start_time": "2023-03-02T06:19:00.861Z"
   },
   {
    "duration": 70,
    "start_time": "2023-03-02T06:19:00.931Z"
   },
   {
    "duration": 41,
    "start_time": "2023-03-02T06:19:01.003Z"
   },
   {
    "duration": 30,
    "start_time": "2023-03-02T06:19:01.046Z"
   },
   {
    "duration": 27,
    "start_time": "2023-03-02T06:19:01.078Z"
   },
   {
    "duration": 8,
    "start_time": "2023-03-02T06:25:40.616Z"
   },
   {
    "duration": 10,
    "start_time": "2023-03-02T06:25:57.927Z"
   },
   {
    "duration": 76,
    "start_time": "2023-03-02T06:27:09.137Z"
   },
   {
    "duration": 9,
    "start_time": "2023-03-02T06:27:26.432Z"
   },
   {
    "duration": 14,
    "start_time": "2023-03-02T06:27:39.815Z"
   },
   {
    "duration": 11,
    "start_time": "2023-03-02T06:27:58.823Z"
   },
   {
    "duration": 8,
    "start_time": "2023-03-02T06:28:41.783Z"
   },
   {
    "duration": 404,
    "start_time": "2023-03-02T06:28:58.312Z"
   },
   {
    "duration": 7,
    "start_time": "2023-03-02T06:56:00.405Z"
   },
   {
    "duration": 10,
    "start_time": "2023-03-02T06:56:05.531Z"
   },
   {
    "duration": 13,
    "start_time": "2023-03-02T06:56:13.950Z"
   },
   {
    "duration": 25,
    "start_time": "2023-03-02T07:17:22.487Z"
   },
   {
    "duration": 254,
    "start_time": "2023-03-02T07:26:17.608Z"
   },
   {
    "duration": 7,
    "start_time": "2023-03-02T07:26:50.503Z"
   },
   {
    "duration": 8,
    "start_time": "2023-03-02T07:26:57.763Z"
   },
   {
    "duration": 3,
    "start_time": "2023-03-02T07:29:23.628Z"
   },
   {
    "duration": 3,
    "start_time": "2023-03-02T07:29:29.195Z"
   },
   {
    "duration": 2,
    "start_time": "2023-03-02T07:29:50.764Z"
   },
   {
    "duration": 216,
    "start_time": "2023-03-02T07:41:13.701Z"
   },
   {
    "duration": 215,
    "start_time": "2023-03-02T07:42:32.118Z"
   },
   {
    "duration": 194,
    "start_time": "2023-03-02T07:42:44.725Z"
   },
   {
    "duration": 242,
    "start_time": "2023-03-02T07:44:25.517Z"
   },
   {
    "duration": 267,
    "start_time": "2023-03-02T07:45:50.248Z"
   },
   {
    "duration": 205,
    "start_time": "2023-03-02T07:46:16.091Z"
   },
   {
    "duration": 278,
    "start_time": "2023-03-02T07:46:20.690Z"
   },
   {
    "duration": 200,
    "start_time": "2023-03-02T07:46:32.226Z"
   },
   {
    "duration": 213,
    "start_time": "2023-03-02T07:47:10.002Z"
   },
   {
    "duration": 246,
    "start_time": "2023-03-02T07:47:39.330Z"
   },
   {
    "duration": 233,
    "start_time": "2023-03-02T07:47:54.082Z"
   },
   {
    "duration": 282,
    "start_time": "2023-03-02T07:49:03.594Z"
   },
   {
    "duration": 252,
    "start_time": "2023-03-02T07:49:09.504Z"
   },
   {
    "duration": 210,
    "start_time": "2023-03-02T07:49:14.935Z"
   },
   {
    "duration": 193,
    "start_time": "2023-03-02T07:49:18.911Z"
   },
   {
    "duration": 216,
    "start_time": "2023-03-02T07:49:28.467Z"
   },
   {
    "duration": 264,
    "start_time": "2023-03-02T07:51:18.777Z"
   },
   {
    "duration": 9,
    "start_time": "2023-03-02T08:03:56.968Z"
   },
   {
    "duration": 3,
    "start_time": "2023-03-02T08:11:54.121Z"
   },
   {
    "duration": 4,
    "start_time": "2023-03-02T08:13:12.363Z"
   },
   {
    "duration": 8,
    "start_time": "2023-03-02T08:21:03.725Z"
   },
   {
    "duration": 45,
    "start_time": "2023-03-02T08:22:56.035Z"
   },
   {
    "duration": 6,
    "start_time": "2023-03-02T08:23:00.866Z"
   },
   {
    "duration": 5,
    "start_time": "2023-03-02T08:23:35.466Z"
   },
   {
    "duration": 5,
    "start_time": "2023-03-02T08:24:28.514Z"
   },
   {
    "duration": 5,
    "start_time": "2023-03-02T08:24:32.642Z"
   },
   {
    "duration": 9,
    "start_time": "2023-03-02T08:28:44.662Z"
   },
   {
    "duration": 5,
    "start_time": "2023-03-02T08:29:21.917Z"
   },
   {
    "duration": 24,
    "start_time": "2023-03-02T08:32:57.027Z"
   },
   {
    "duration": 11,
    "start_time": "2023-03-02T08:33:52.194Z"
   },
   {
    "duration": 11,
    "start_time": "2023-03-02T08:34:11.611Z"
   },
   {
    "duration": 6,
    "start_time": "2023-03-02T08:37:52.984Z"
   },
   {
    "duration": 12,
    "start_time": "2023-03-02T08:38:04.126Z"
   },
   {
    "duration": 9,
    "start_time": "2023-03-02T09:11:36.782Z"
   },
   {
    "duration": 9,
    "start_time": "2023-03-02T09:11:53.012Z"
   },
   {
    "duration": 9,
    "start_time": "2023-03-02T09:17:06.997Z"
   },
   {
    "duration": 9,
    "start_time": "2023-03-02T09:18:48.594Z"
   },
   {
    "duration": 9,
    "start_time": "2023-03-02T09:19:54.060Z"
   },
   {
    "duration": 13,
    "start_time": "2023-03-02T09:57:41.759Z"
   },
   {
    "duration": 10,
    "start_time": "2023-03-02T10:01:12.833Z"
   },
   {
    "duration": 13,
    "start_time": "2023-03-02T10:01:26.649Z"
   },
   {
    "duration": 232,
    "start_time": "2023-03-02T10:07:44.093Z"
   },
   {
    "duration": 247,
    "start_time": "2023-03-02T10:08:03.765Z"
   },
   {
    "duration": 211,
    "start_time": "2023-03-02T10:08:12.827Z"
   },
   {
    "duration": 203,
    "start_time": "2023-03-02T10:08:49.854Z"
   },
   {
    "duration": 261,
    "start_time": "2023-03-02T10:08:57.275Z"
   },
   {
    "duration": 254,
    "start_time": "2023-03-02T10:12:17.226Z"
   },
   {
    "duration": 198,
    "start_time": "2023-03-02T10:12:35.465Z"
   },
   {
    "duration": 10,
    "start_time": "2023-03-02T10:16:13.101Z"
   },
   {
    "duration": 395,
    "start_time": "2023-03-02T10:20:24.135Z"
   },
   {
    "duration": 14,
    "start_time": "2023-03-02T10:21:34.389Z"
   },
   {
    "duration": 410,
    "start_time": "2023-03-02T10:22:55.059Z"
   },
   {
    "duration": 48248,
    "start_time": "2023-03-02T10:23:53.196Z"
   },
   {
    "duration": 3,
    "start_time": "2023-03-02T10:30:00.599Z"
   },
   {
    "duration": 21,
    "start_time": "2023-03-02T10:30:08.902Z"
   },
   {
    "duration": 11,
    "start_time": "2023-03-02T10:30:33.832Z"
   },
   {
    "duration": 15,
    "start_time": "2023-03-02T10:31:08.384Z"
   },
   {
    "duration": 183,
    "start_time": "2023-03-02T10:32:19.104Z"
   },
   {
    "duration": 154,
    "start_time": "2023-03-02T10:32:39.740Z"
   },
   {
    "duration": 171,
    "start_time": "2023-03-02T10:32:59.326Z"
   },
   {
    "duration": 191,
    "start_time": "2023-03-02T10:35:21.143Z"
   },
   {
    "duration": 157,
    "start_time": "2023-03-02T10:36:38.276Z"
   },
   {
    "duration": 182,
    "start_time": "2023-03-02T10:36:44.843Z"
   },
   {
    "duration": 230,
    "start_time": "2023-03-02T10:40:41.748Z"
   },
   {
    "duration": 231,
    "start_time": "2023-03-02T10:40:46.160Z"
   },
   {
    "duration": 224,
    "start_time": "2023-03-02T10:40:54.748Z"
   },
   {
    "duration": 215,
    "start_time": "2023-03-02T10:41:05.578Z"
   },
   {
    "duration": 626,
    "start_time": "2023-03-02T10:41:20.628Z"
   },
   {
    "duration": 364,
    "start_time": "2023-03-02T10:41:31.608Z"
   },
   {
    "duration": 323,
    "start_time": "2023-03-02T10:41:41.459Z"
   },
   {
    "duration": 389,
    "start_time": "2023-03-02T10:42:27.541Z"
   },
   {
    "duration": 66,
    "start_time": "2023-03-02T10:42:36.146Z"
   },
   {
    "duration": 81,
    "start_time": "2023-03-02T10:42:43.704Z"
   },
   {
    "duration": 450,
    "start_time": "2023-03-02T10:42:56.641Z"
   },
   {
    "duration": 439,
    "start_time": "2023-03-02T10:45:26.244Z"
   },
   {
    "duration": 455,
    "start_time": "2023-03-02T10:45:34.139Z"
   },
   {
    "duration": 388,
    "start_time": "2023-03-02T10:45:45.394Z"
   },
   {
    "duration": 397,
    "start_time": "2023-03-02T10:45:49.536Z"
   },
   {
    "duration": 378,
    "start_time": "2023-03-02T10:45:53.844Z"
   },
   {
    "duration": 360,
    "start_time": "2023-03-02T10:47:50.151Z"
   },
   {
    "duration": 47956,
    "start_time": "2023-03-02T11:00:23.536Z"
   },
   {
    "duration": 5,
    "start_time": "2023-03-02T11:01:46.285Z"
   },
   {
    "duration": 4,
    "start_time": "2023-03-02T11:01:52.533Z"
   },
   {
    "duration": 13,
    "start_time": "2023-03-02T11:02:24.921Z"
   },
   {
    "duration": 8,
    "start_time": "2023-03-02T11:03:38.003Z"
   },
   {
    "duration": 339,
    "start_time": "2023-03-02T11:03:59.463Z"
   },
   {
    "duration": 13,
    "start_time": "2023-03-02T11:05:04.384Z"
   },
   {
    "duration": 539,
    "start_time": "2023-03-02T11:05:50.842Z"
   },
   {
    "duration": 53,
    "start_time": "2023-03-02T11:05:51.383Z"
   },
   {
    "duration": 29,
    "start_time": "2023-03-02T11:05:51.438Z"
   },
   {
    "duration": 38,
    "start_time": "2023-03-02T11:05:51.469Z"
   },
   {
    "duration": 11,
    "start_time": "2023-03-02T11:05:51.509Z"
   },
   {
    "duration": 21,
    "start_time": "2023-03-02T11:05:51.521Z"
   },
   {
    "duration": 35,
    "start_time": "2023-03-02T11:05:51.543Z"
   },
   {
    "duration": 18,
    "start_time": "2023-03-02T11:05:51.579Z"
   },
   {
    "duration": 21,
    "start_time": "2023-03-02T11:05:51.598Z"
   },
   {
    "duration": 35,
    "start_time": "2023-03-02T11:05:51.621Z"
   },
   {
    "duration": 27,
    "start_time": "2023-03-02T11:05:51.658Z"
   },
   {
    "duration": 46670,
    "start_time": "2023-03-02T11:05:51.687Z"
   },
   {
    "duration": 3,
    "start_time": "2023-03-02T11:06:38.362Z"
   },
   {
    "duration": 7,
    "start_time": "2023-03-02T11:06:38.367Z"
   },
   {
    "duration": 4,
    "start_time": "2023-03-02T11:06:38.375Z"
   },
   {
    "duration": 6,
    "start_time": "2023-03-02T11:06:38.380Z"
   },
   {
    "duration": 7,
    "start_time": "2023-03-02T11:06:38.387Z"
   },
   {
    "duration": 5,
    "start_time": "2023-03-02T11:06:38.395Z"
   },
   {
    "duration": 14,
    "start_time": "2023-03-02T11:06:56.394Z"
   },
   {
    "duration": 48459,
    "start_time": "2023-03-02T11:09:14.625Z"
   },
   {
    "duration": 15,
    "start_time": "2023-03-02T11:10:25.008Z"
   },
   {
    "duration": 10,
    "start_time": "2023-03-02T11:10:57.355Z"
   },
   {
    "duration": 161,
    "start_time": "2023-03-02T11:12:02.664Z"
   },
   {
    "duration": 167,
    "start_time": "2023-03-02T11:12:18.272Z"
   },
   {
    "duration": 175,
    "start_time": "2023-03-02T11:13:18.034Z"
   },
   {
    "duration": 303,
    "start_time": "2023-03-02T11:13:22.252Z"
   },
   {
    "duration": 155,
    "start_time": "2023-03-02T11:13:31.417Z"
   },
   {
    "duration": 201,
    "start_time": "2023-03-02T11:13:35.702Z"
   },
   {
    "duration": 53593,
    "start_time": "2023-03-02T11:14:52.800Z"
   },
   {
    "duration": 35024,
    "start_time": "2023-03-02T11:18:08.216Z"
   },
   {
    "duration": 48948,
    "start_time": "2023-03-02T11:22:12.908Z"
   },
   {
    "duration": 9,
    "start_time": "2023-03-02T11:26:32.999Z"
   },
   {
    "duration": 7,
    "start_time": "2023-03-02T11:26:38.469Z"
   },
   {
    "duration": 9,
    "start_time": "2023-03-02T11:26:49.725Z"
   },
   {
    "duration": 6,
    "start_time": "2023-03-02T11:27:04.878Z"
   },
   {
    "duration": 10,
    "start_time": "2023-03-02T11:30:11.789Z"
   },
   {
    "duration": 6,
    "start_time": "2023-03-02T11:30:26.212Z"
   },
   {
    "duration": 14,
    "start_time": "2023-03-02T11:30:36.295Z"
   },
   {
    "duration": 16,
    "start_time": "2023-03-02T11:30:48.763Z"
   },
   {
    "duration": 9,
    "start_time": "2023-03-02T11:31:53.803Z"
   },
   {
    "duration": 19,
    "start_time": "2023-03-02T11:32:05.397Z"
   },
   {
    "duration": 15,
    "start_time": "2023-03-02T11:32:37.528Z"
   },
   {
    "duration": 10,
    "start_time": "2023-03-02T11:50:50.367Z"
   },
   {
    "duration": 6,
    "start_time": "2023-03-02T11:50:58.199Z"
   },
   {
    "duration": 539,
    "start_time": "2023-03-02T11:51:25.968Z"
   },
   {
    "duration": 56,
    "start_time": "2023-03-02T11:51:26.509Z"
   },
   {
    "duration": 26,
    "start_time": "2023-03-02T11:51:26.566Z"
   },
   {
    "duration": 16,
    "start_time": "2023-03-02T11:51:26.594Z"
   },
   {
    "duration": 5,
    "start_time": "2023-03-02T11:51:26.612Z"
   },
   {
    "duration": 32,
    "start_time": "2023-03-02T11:51:26.619Z"
   },
   {
    "duration": 19,
    "start_time": "2023-03-02T11:51:26.656Z"
   },
   {
    "duration": 18,
    "start_time": "2023-03-02T11:51:26.676Z"
   },
   {
    "duration": 17,
    "start_time": "2023-03-02T11:51:26.695Z"
   },
   {
    "duration": 13,
    "start_time": "2023-03-02T11:51:26.714Z"
   },
   {
    "duration": 10,
    "start_time": "2023-03-02T11:51:26.729Z"
   },
   {
    "duration": 4,
    "start_time": "2023-03-02T11:51:26.740Z"
   },
   {
    "duration": 20,
    "start_time": "2023-03-02T11:51:26.745Z"
   },
   {
    "duration": 5,
    "start_time": "2023-03-02T11:51:26.766Z"
   },
   {
    "duration": 9,
    "start_time": "2023-03-02T11:51:26.772Z"
   },
   {
    "duration": 13,
    "start_time": "2023-03-02T11:51:26.782Z"
   },
   {
    "duration": 102,
    "start_time": "2023-03-02T12:33:02.076Z"
   },
   {
    "duration": 243,
    "start_time": "2023-03-02T12:33:17.678Z"
   },
   {
    "duration": 256,
    "start_time": "2023-03-02T12:33:22.327Z"
   },
   {
    "duration": 210,
    "start_time": "2023-03-02T12:33:27.407Z"
   },
   {
    "duration": 227,
    "start_time": "2023-03-02T12:34:27.206Z"
   },
   {
    "duration": 235,
    "start_time": "2023-03-02T12:34:30.718Z"
   },
   {
    "duration": 212,
    "start_time": "2023-03-02T12:34:34.301Z"
   },
   {
    "duration": 217,
    "start_time": "2023-03-02T12:34:37.390Z"
   },
   {
    "duration": 310,
    "start_time": "2023-03-02T12:34:45.134Z"
   },
   {
    "duration": 230,
    "start_time": "2023-03-02T12:34:51.269Z"
   },
   {
    "duration": 237,
    "start_time": "2023-03-02T12:34:54.179Z"
   },
   {
    "duration": 222,
    "start_time": "2023-03-02T12:34:58.077Z"
   },
   {
    "duration": 246,
    "start_time": "2023-03-02T12:35:01.909Z"
   },
   {
    "duration": 234,
    "start_time": "2023-03-02T12:35:23.065Z"
   },
   {
    "duration": 231,
    "start_time": "2023-03-02T12:35:53.285Z"
   },
   {
    "duration": 270,
    "start_time": "2023-03-02T12:35:57.532Z"
   },
   {
    "duration": 67,
    "start_time": "2023-03-02T12:36:02.396Z"
   },
   {
    "duration": 207,
    "start_time": "2023-03-02T12:36:06.109Z"
   },
   {
    "duration": 212,
    "start_time": "2023-03-02T12:36:10.500Z"
   },
   {
    "duration": 227,
    "start_time": "2023-03-02T12:36:36.686Z"
   },
   {
    "duration": 3,
    "start_time": "2023-03-02T12:36:38.741Z"
   },
   {
    "duration": 256,
    "start_time": "2023-03-02T12:36:41.526Z"
   },
   {
    "duration": 374,
    "start_time": "2023-03-02T12:37:29.120Z"
   },
   {
    "duration": 290,
    "start_time": "2023-03-02T12:39:58.563Z"
   },
   {
    "duration": 227,
    "start_time": "2023-03-02T12:40:10.842Z"
   },
   {
    "duration": 266,
    "start_time": "2023-03-02T12:40:22.403Z"
   },
   {
    "duration": 167,
    "start_time": "2023-03-02T12:43:47.299Z"
   },
   {
    "duration": 171,
    "start_time": "2023-03-02T13:34:58.207Z"
   },
   {
    "duration": 220,
    "start_time": "2023-03-02T13:36:20.593Z"
   },
   {
    "duration": 541,
    "start_time": "2023-03-02T13:45:04.301Z"
   },
   {
    "duration": 57,
    "start_time": "2023-03-02T13:45:04.845Z"
   },
   {
    "duration": 22,
    "start_time": "2023-03-02T13:45:04.904Z"
   },
   {
    "duration": 16,
    "start_time": "2023-03-02T13:45:04.928Z"
   },
   {
    "duration": 12,
    "start_time": "2023-03-02T13:45:04.945Z"
   },
   {
    "duration": 19,
    "start_time": "2023-03-02T13:45:04.963Z"
   },
   {
    "duration": 15,
    "start_time": "2023-03-02T13:45:04.984Z"
   },
   {
    "duration": 15,
    "start_time": "2023-03-02T13:45:05.001Z"
   },
   {
    "duration": 17,
    "start_time": "2023-03-02T13:45:05.018Z"
   },
   {
    "duration": 24,
    "start_time": "2023-03-02T13:45:05.039Z"
   },
   {
    "duration": 22,
    "start_time": "2023-03-02T13:45:05.065Z"
   },
   {
    "duration": 23,
    "start_time": "2023-03-02T13:45:05.089Z"
   },
   {
    "duration": 12,
    "start_time": "2023-03-02T13:45:05.114Z"
   },
   {
    "duration": 15,
    "start_time": "2023-03-02T13:45:05.127Z"
   },
   {
    "duration": 35,
    "start_time": "2023-03-02T13:45:05.143Z"
   },
   {
    "duration": 16,
    "start_time": "2023-03-02T13:45:05.180Z"
   },
   {
    "duration": 8,
    "start_time": "2023-03-02T13:45:05.198Z"
   },
   {
    "duration": 18,
    "start_time": "2023-03-02T13:45:05.207Z"
   },
   {
    "duration": 207,
    "start_time": "2023-03-02T13:45:13.892Z"
   },
   {
    "duration": 136,
    "start_time": "2023-03-02T13:45:50.804Z"
   },
   {
    "duration": 228,
    "start_time": "2023-03-02T13:46:57.488Z"
   },
   {
    "duration": 128,
    "start_time": "2023-03-02T13:47:29.883Z"
   },
   {
    "duration": 222,
    "start_time": "2023-03-02T13:47:34.268Z"
   },
   {
    "duration": 160,
    "start_time": "2023-03-02T13:47:58.891Z"
   },
   {
    "duration": 147,
    "start_time": "2023-03-02T13:50:42.690Z"
   },
   {
    "duration": 502,
    "start_time": "2023-03-02T13:53:08.877Z"
   },
   {
    "duration": 51,
    "start_time": "2023-03-02T13:53:09.380Z"
   },
   {
    "duration": 25,
    "start_time": "2023-03-02T13:53:09.432Z"
   },
   {
    "duration": 22,
    "start_time": "2023-03-02T13:53:09.459Z"
   },
   {
    "duration": 7,
    "start_time": "2023-03-02T13:53:09.483Z"
   },
   {
    "duration": 22,
    "start_time": "2023-03-02T13:53:09.491Z"
   },
   {
    "duration": 13,
    "start_time": "2023-03-02T13:53:09.515Z"
   },
   {
    "duration": 9,
    "start_time": "2023-03-02T13:53:09.530Z"
   },
   {
    "duration": 18,
    "start_time": "2023-03-02T13:53:09.540Z"
   },
   {
    "duration": 22,
    "start_time": "2023-03-02T13:53:09.561Z"
   },
   {
    "duration": 2,
    "start_time": "2023-03-02T13:53:09.585Z"
   },
   {
    "duration": 8,
    "start_time": "2023-03-02T13:53:09.589Z"
   },
   {
    "duration": 5,
    "start_time": "2023-03-02T13:53:09.598Z"
   },
   {
    "duration": 6,
    "start_time": "2023-03-02T13:53:09.605Z"
   },
   {
    "duration": 5,
    "start_time": "2023-03-02T13:53:09.612Z"
   },
   {
    "duration": 6,
    "start_time": "2023-03-02T13:53:09.618Z"
   },
   {
    "duration": 9,
    "start_time": "2023-03-02T13:53:09.626Z"
   },
   {
    "duration": 6,
    "start_time": "2023-03-02T13:53:09.636Z"
   },
   {
    "duration": 51,
    "start_time": "2023-03-06T06:22:30.361Z"
   },
   {
    "duration": 792,
    "start_time": "2023-03-06T06:22:49.708Z"
   },
   {
    "duration": 105,
    "start_time": "2023-03-06T06:22:50.503Z"
   },
   {
    "duration": 26,
    "start_time": "2023-03-06T06:22:50.610Z"
   },
   {
    "duration": 23,
    "start_time": "2023-03-06T06:22:50.641Z"
   },
   {
    "duration": 2,
    "start_time": "2023-03-06T06:22:50.667Z"
   },
   {
    "duration": 19,
    "start_time": "2023-03-06T06:22:50.671Z"
   },
   {
    "duration": 15,
    "start_time": "2023-03-06T06:22:50.692Z"
   },
   {
    "duration": 11,
    "start_time": "2023-03-06T06:22:50.739Z"
   },
   {
    "duration": 7,
    "start_time": "2023-03-06T06:22:50.752Z"
   },
   {
    "duration": 3,
    "start_time": "2023-03-06T06:22:50.762Z"
   },
   {
    "duration": 7,
    "start_time": "2023-03-06T06:22:50.768Z"
   },
   {
    "duration": 4,
    "start_time": "2023-03-06T06:22:50.777Z"
   },
   {
    "duration": 5,
    "start_time": "2023-03-06T06:22:50.784Z"
   },
   {
    "duration": 9,
    "start_time": "2023-03-06T06:22:50.791Z"
   },
   {
    "duration": 5,
    "start_time": "2023-03-06T06:22:50.802Z"
   },
   {
    "duration": 14,
    "start_time": "2023-03-06T06:26:46.442Z"
   },
   {
    "duration": 542,
    "start_time": "2023-03-06T06:27:23.156Z"
   },
   {
    "duration": 55,
    "start_time": "2023-03-06T06:27:23.700Z"
   },
   {
    "duration": 23,
    "start_time": "2023-03-06T06:27:23.757Z"
   },
   {
    "duration": 15,
    "start_time": "2023-03-06T06:27:23.782Z"
   },
   {
    "duration": 4,
    "start_time": "2023-03-06T06:27:23.798Z"
   },
   {
    "duration": 35,
    "start_time": "2023-03-06T06:27:23.803Z"
   },
   {
    "duration": 15,
    "start_time": "2023-03-06T06:27:23.840Z"
   },
   {
    "duration": 22,
    "start_time": "2023-03-06T06:27:23.857Z"
   },
   {
    "duration": 9,
    "start_time": "2023-03-06T06:27:23.881Z"
   },
   {
    "duration": 26,
    "start_time": "2023-03-06T06:27:23.892Z"
   },
   {
    "duration": 35,
    "start_time": "2023-03-06T06:27:23.920Z"
   },
   {
    "duration": 53,
    "start_time": "2023-03-06T06:27:23.957Z"
   },
   {
    "duration": 2,
    "start_time": "2023-03-06T06:27:24.012Z"
   },
   {
    "duration": 11,
    "start_time": "2023-03-06T06:27:24.016Z"
   },
   {
    "duration": 20,
    "start_time": "2023-03-06T06:27:24.028Z"
   },
   {
    "duration": 29,
    "start_time": "2023-03-06T06:27:24.050Z"
   },
   {
    "duration": 16,
    "start_time": "2023-03-06T06:29:23.704Z"
   },
   {
    "duration": 13,
    "start_time": "2023-03-06T06:37:20.410Z"
   },
   {
    "duration": 82,
    "start_time": "2023-03-06T06:37:36.661Z"
   },
   {
    "duration": 9,
    "start_time": "2023-03-06T06:37:40.890Z"
   },
   {
    "duration": 15,
    "start_time": "2023-03-06T06:38:42.825Z"
   },
   {
    "duration": 8,
    "start_time": "2023-03-06T06:40:31.496Z"
   },
   {
    "duration": 13,
    "start_time": "2023-03-06T06:40:34.128Z"
   },
   {
    "duration": 559,
    "start_time": "2023-03-06T06:48:32.727Z"
   },
   {
    "duration": 60,
    "start_time": "2023-03-06T06:48:33.288Z"
   },
   {
    "duration": 24,
    "start_time": "2023-03-06T06:48:33.350Z"
   },
   {
    "duration": 15,
    "start_time": "2023-03-06T06:48:33.376Z"
   },
   {
    "duration": 5,
    "start_time": "2023-03-06T06:48:33.392Z"
   },
   {
    "duration": 40,
    "start_time": "2023-03-06T06:48:33.399Z"
   },
   {
    "duration": 14,
    "start_time": "2023-03-06T06:48:33.441Z"
   },
   {
    "duration": 14,
    "start_time": "2023-03-06T06:48:33.457Z"
   },
   {
    "duration": 14,
    "start_time": "2023-03-06T06:48:33.473Z"
   },
   {
    "duration": 7,
    "start_time": "2023-03-06T06:48:33.490Z"
   },
   {
    "duration": 9,
    "start_time": "2023-03-06T06:48:33.499Z"
   },
   {
    "duration": 32,
    "start_time": "2023-03-06T06:48:33.510Z"
   },
   {
    "duration": 14,
    "start_time": "2023-03-06T06:48:33.544Z"
   },
   {
    "duration": 12,
    "start_time": "2023-03-06T06:48:33.560Z"
   },
   {
    "duration": 5,
    "start_time": "2023-03-06T06:48:33.574Z"
   },
   {
    "duration": 11,
    "start_time": "2023-03-06T06:48:33.580Z"
   },
   {
    "duration": 13,
    "start_time": "2023-03-06T06:48:33.593Z"
   },
   {
    "duration": 8,
    "start_time": "2023-03-06T06:48:33.608Z"
   },
   {
    "duration": 3,
    "start_time": "2023-03-06T07:18:25.902Z"
   },
   {
    "duration": 12,
    "start_time": "2023-03-06T07:18:53.496Z"
   },
   {
    "duration": 18,
    "start_time": "2023-03-06T07:24:21.150Z"
   },
   {
    "duration": 601,
    "start_time": "2023-03-06T07:35:46.440Z"
   },
   {
    "duration": 12,
    "start_time": "2023-03-06T07:36:41.133Z"
   },
   {
    "duration": 205,
    "start_time": "2023-03-06T07:49:37.441Z"
   },
   {
    "duration": 228,
    "start_time": "2023-03-06T07:50:00.450Z"
   },
   {
    "duration": 229,
    "start_time": "2023-03-06T07:50:08.453Z"
   },
   {
    "duration": 91,
    "start_time": "2023-03-06T07:50:47.212Z"
   },
   {
    "duration": 15,
    "start_time": "2023-03-06T07:50:50.325Z"
   },
   {
    "duration": 9,
    "start_time": "2023-03-06T07:51:05.158Z"
   },
   {
    "duration": 9,
    "start_time": "2023-03-06T07:51:25.088Z"
   },
   {
    "duration": 30,
    "start_time": "2023-03-06T10:51:32.441Z"
   },
   {
    "duration": 6,
    "start_time": "2023-03-06T10:51:39.408Z"
   },
   {
    "duration": 15,
    "start_time": "2023-03-06T10:54:55.102Z"
   },
   {
    "duration": 7,
    "start_time": "2023-03-06T10:55:09.197Z"
   },
   {
    "duration": 18,
    "start_time": "2023-03-06T10:55:18.102Z"
   },
   {
    "duration": 15,
    "start_time": "2023-03-06T10:55:51.704Z"
   },
   {
    "duration": 148,
    "start_time": "2023-03-06T10:56:00.331Z"
   },
   {
    "duration": 223,
    "start_time": "2023-03-06T10:56:59.595Z"
   },
   {
    "duration": 307,
    "start_time": "2023-03-06T10:59:50.575Z"
   },
   {
    "duration": 206,
    "start_time": "2023-03-06T11:00:13.408Z"
   },
   {
    "duration": 205,
    "start_time": "2023-03-06T11:05:36.518Z"
   },
   {
    "duration": 193,
    "start_time": "2023-03-06T11:10:10.113Z"
   },
   {
    "duration": 2501,
    "start_time": "2023-03-06T11:12:29.679Z"
   },
   {
    "duration": 16,
    "start_time": "2023-03-06T11:14:33.796Z"
   },
   {
    "duration": 2492,
    "start_time": "2023-03-06T11:14:42.631Z"
   },
   {
    "duration": 3079,
    "start_time": "2023-03-06T11:14:58.332Z"
   },
   {
    "duration": 2485,
    "start_time": "2023-03-06T11:15:32.484Z"
   },
   {
    "duration": 15,
    "start_time": "2023-03-06T11:18:02.295Z"
   },
   {
    "duration": 18,
    "start_time": "2023-03-06T11:18:14.946Z"
   },
   {
    "duration": 11,
    "start_time": "2023-03-06T11:18:34.150Z"
   },
   {
    "duration": 68,
    "start_time": "2023-03-06T11:18:43.196Z"
   },
   {
    "duration": 19,
    "start_time": "2023-03-06T11:18:48.484Z"
   },
   {
    "duration": 13,
    "start_time": "2023-03-06T11:19:08.642Z"
   },
   {
    "duration": 15,
    "start_time": "2023-03-06T11:19:29.574Z"
   },
   {
    "duration": 16,
    "start_time": "2023-03-06T11:21:04.771Z"
   },
   {
    "duration": 24,
    "start_time": "2023-03-06T11:21:19.279Z"
   },
   {
    "duration": 21,
    "start_time": "2023-03-06T11:24:11.903Z"
   },
   {
    "duration": 16,
    "start_time": "2023-03-06T11:24:31.197Z"
   },
   {
    "duration": 14,
    "start_time": "2023-03-06T11:24:37.598Z"
   },
   {
    "duration": 231,
    "start_time": "2023-03-06T11:27:48.917Z"
   },
   {
    "duration": 12,
    "start_time": "2023-03-06T11:28:24.846Z"
   },
   {
    "duration": 23,
    "start_time": "2023-03-06T11:28:37.984Z"
   },
   {
    "duration": 1436,
    "start_time": "2023-03-06T11:32:05.516Z"
   },
   {
    "duration": 941,
    "start_time": "2023-03-06T11:32:13.131Z"
   },
   {
    "duration": 18,
    "start_time": "2023-03-06T11:32:41.303Z"
   },
   {
    "duration": 17,
    "start_time": "2023-03-06T11:33:14.920Z"
   },
   {
    "duration": 873,
    "start_time": "2023-03-06T11:34:37.340Z"
   },
   {
    "duration": 17,
    "start_time": "2023-03-06T11:34:44.546Z"
   },
   {
    "duration": 1021,
    "start_time": "2023-03-06T11:35:13.610Z"
   },
   {
    "duration": 13,
    "start_time": "2023-03-06T11:35:28.606Z"
   },
   {
    "duration": 15,
    "start_time": "2023-03-06T11:36:16.587Z"
   },
   {
    "duration": 172,
    "start_time": "2023-03-06T11:36:42.656Z"
   },
   {
    "duration": 340,
    "start_time": "2023-03-06T11:37:03.982Z"
   },
   {
    "duration": 3,
    "start_time": "2023-03-06T11:39:41.830Z"
   },
   {
    "duration": 171,
    "start_time": "2023-03-06T11:42:55.130Z"
   },
   {
    "duration": 152,
    "start_time": "2023-03-06T11:43:22.992Z"
   },
   {
    "duration": 205,
    "start_time": "2023-03-06T11:43:43.719Z"
   },
   {
    "duration": 198,
    "start_time": "2023-03-06T11:43:59.540Z"
   },
   {
    "duration": 131,
    "start_time": "2023-03-06T11:44:18.613Z"
   },
   {
    "duration": 15,
    "start_time": "2023-03-06T11:44:52.046Z"
   },
   {
    "duration": 161,
    "start_time": "2023-03-06T11:45:10.308Z"
   },
   {
    "duration": 176,
    "start_time": "2023-03-06T11:46:22.107Z"
   },
   {
    "duration": 194,
    "start_time": "2023-03-06T11:46:30.330Z"
   },
   {
    "duration": 226,
    "start_time": "2023-03-06T11:47:22.938Z"
   },
   {
    "duration": 176,
    "start_time": "2023-03-06T11:47:28.313Z"
   },
   {
    "duration": 353,
    "start_time": "2023-03-06T11:47:39.637Z"
   },
   {
    "duration": 256,
    "start_time": "2023-03-06T11:48:11.745Z"
   },
   {
    "duration": 230,
    "start_time": "2023-03-06T11:49:12.803Z"
   },
   {
    "duration": 222,
    "start_time": "2023-03-06T11:50:07.596Z"
   },
   {
    "duration": 242,
    "start_time": "2023-03-06T11:50:36.899Z"
   },
   {
    "duration": 254,
    "start_time": "2023-03-06T11:51:18.608Z"
   },
   {
    "duration": 244,
    "start_time": "2023-03-06T11:53:31.209Z"
   },
   {
    "duration": 272,
    "start_time": "2023-03-06T11:53:41.805Z"
   },
   {
    "duration": 293,
    "start_time": "2023-03-06T11:54:19.788Z"
   },
   {
    "duration": 334,
    "start_time": "2023-03-06T11:54:56.314Z"
   },
   {
    "duration": 292,
    "start_time": "2023-03-06T11:55:36.626Z"
   },
   {
    "duration": 300,
    "start_time": "2023-03-06T11:55:57.196Z"
   },
   {
    "duration": 253,
    "start_time": "2023-03-06T11:57:11.640Z"
   },
   {
    "duration": 206,
    "start_time": "2023-03-06T11:57:30.026Z"
   },
   {
    "duration": 410,
    "start_time": "2023-03-06T11:58:19.404Z"
   },
   {
    "duration": 238,
    "start_time": "2023-03-06T11:58:44.456Z"
   },
   {
    "duration": 5,
    "start_time": "2023-03-06T12:24:09.896Z"
   },
   {
    "duration": 157,
    "start_time": "2023-03-06T12:24:53.260Z"
   },
   {
    "duration": 154,
    "start_time": "2023-03-06T12:25:10.435Z"
   },
   {
    "duration": 189,
    "start_time": "2023-03-06T13:12:52.968Z"
   },
   {
    "duration": 223,
    "start_time": "2023-03-06T13:13:07.269Z"
   },
   {
    "duration": 188,
    "start_time": "2023-03-06T13:13:24.773Z"
   },
   {
    "duration": 142,
    "start_time": "2023-03-06T13:14:31.132Z"
   },
   {
    "duration": 146,
    "start_time": "2023-03-06T13:14:51.950Z"
   },
   {
    "duration": 12,
    "start_time": "2023-03-06T13:22:41.895Z"
   },
   {
    "duration": 13,
    "start_time": "2023-03-06T13:22:50.659Z"
   },
   {
    "duration": 12,
    "start_time": "2023-03-06T13:22:58.568Z"
   },
   {
    "duration": 13,
    "start_time": "2023-03-06T13:23:09.405Z"
   },
   {
    "duration": 13,
    "start_time": "2023-03-06T13:23:35.798Z"
   },
   {
    "duration": 17,
    "start_time": "2023-03-06T13:24:24.474Z"
   },
   {
    "duration": 16,
    "start_time": "2023-03-06T13:24:29.892Z"
   },
   {
    "duration": 9,
    "start_time": "2023-03-06T13:28:22.683Z"
   },
   {
    "duration": 46,
    "start_time": "2023-03-06T13:28:28.665Z"
   },
   {
    "duration": 473,
    "start_time": "2023-03-06T13:28:45.012Z"
   },
   {
    "duration": 440,
    "start_time": "2023-03-06T13:29:12.824Z"
   },
   {
    "duration": 23,
    "start_time": "2023-03-06T13:30:52.253Z"
   },
   {
    "duration": 22,
    "start_time": "2023-03-06T13:31:34.327Z"
   },
   {
    "duration": 56,
    "start_time": "2023-03-06T13:31:57.210Z"
   },
   {
    "duration": 370,
    "start_time": "2023-03-06T13:34:39.712Z"
   },
   {
    "duration": 415,
    "start_time": "2023-03-06T13:34:49.396Z"
   },
   {
    "duration": 18,
    "start_time": "2023-03-06T13:35:38.028Z"
   },
   {
    "duration": 416,
    "start_time": "2023-03-06T13:40:01.106Z"
   },
   {
    "duration": 12,
    "start_time": "2023-03-06T13:42:26.368Z"
   },
   {
    "duration": 16,
    "start_time": "2023-03-06T13:42:45.232Z"
   },
   {
    "duration": 26,
    "start_time": "2023-03-06T13:43:09.430Z"
   },
   {
    "duration": 15,
    "start_time": "2023-03-06T13:43:20.223Z"
   },
   {
    "duration": 14,
    "start_time": "2023-03-06T13:43:31.621Z"
   },
   {
    "duration": 16,
    "start_time": "2023-03-06T13:43:38.398Z"
   },
   {
    "duration": 19,
    "start_time": "2023-03-06T13:43:44.168Z"
   },
   {
    "duration": 10,
    "start_time": "2023-03-06T13:44:20.430Z"
   },
   {
    "duration": 10,
    "start_time": "2023-03-06T13:44:27.066Z"
   },
   {
    "duration": 67,
    "start_time": "2023-03-06T13:44:38.879Z"
   },
   {
    "duration": 934,
    "start_time": "2023-03-06T13:44:59.583Z"
   },
   {
    "duration": 22,
    "start_time": "2023-03-06T13:45:09.670Z"
   },
   {
    "duration": 9,
    "start_time": "2023-03-06T13:45:25.947Z"
   },
   {
    "duration": 10,
    "start_time": "2023-03-06T13:45:48.316Z"
   },
   {
    "duration": 1197,
    "start_time": "2023-03-06T13:48:55.298Z"
   },
   {
    "duration": 10,
    "start_time": "2023-03-06T13:49:02.066Z"
   },
   {
    "duration": 11,
    "start_time": "2023-03-06T13:49:13.892Z"
   },
   {
    "duration": 62,
    "start_time": "2023-03-06T13:50:11.463Z"
   },
   {
    "duration": 367,
    "start_time": "2023-03-06T13:50:53.618Z"
   },
   {
    "duration": 7,
    "start_time": "2023-03-06T13:54:09.493Z"
   },
   {
    "duration": 22,
    "start_time": "2023-03-06T13:56:02.772Z"
   },
   {
    "duration": 18,
    "start_time": "2023-03-06T13:56:25.389Z"
   },
   {
    "duration": 31,
    "start_time": "2023-03-06T13:57:53.068Z"
   },
   {
    "duration": 20,
    "start_time": "2023-03-06T13:58:01.671Z"
   },
   {
    "duration": 90,
    "start_time": "2023-03-06T13:58:48.266Z"
   },
   {
    "duration": 59,
    "start_time": "2023-03-06T13:59:06.871Z"
   },
   {
    "duration": 19,
    "start_time": "2023-03-06T13:59:09.571Z"
   },
   {
    "duration": 31,
    "start_time": "2023-03-06T14:00:19.939Z"
   },
   {
    "duration": 6,
    "start_time": "2023-03-06T14:00:53.125Z"
   },
   {
    "duration": 895,
    "start_time": "2023-03-06T14:01:08.375Z"
   },
   {
    "duration": 5,
    "start_time": "2023-03-06T14:01:19.086Z"
   },
   {
    "duration": 5,
    "start_time": "2023-03-06T14:01:22.184Z"
   },
   {
    "duration": 5,
    "start_time": "2023-03-06T14:01:25.871Z"
   },
   {
    "duration": 948,
    "start_time": "2023-03-06T14:01:30.313Z"
   },
   {
    "duration": 969,
    "start_time": "2023-03-06T14:01:34.800Z"
   },
   {
    "duration": 12,
    "start_time": "2023-03-06T14:02:02.442Z"
   },
   {
    "duration": 10,
    "start_time": "2023-03-06T14:04:11.910Z"
   },
   {
    "duration": 9,
    "start_time": "2023-03-06T14:04:17.511Z"
   },
   {
    "duration": 8,
    "start_time": "2023-03-06T14:04:34.022Z"
   },
   {
    "duration": 8,
    "start_time": "2023-03-06T14:04:38.038Z"
   },
   {
    "duration": 10,
    "start_time": "2023-03-06T14:04:42.439Z"
   },
   {
    "duration": 773,
    "start_time": "2023-03-07T05:37:58.019Z"
   },
   {
    "duration": 90,
    "start_time": "2023-03-07T05:37:58.794Z"
   },
   {
    "duration": 29,
    "start_time": "2023-03-07T05:37:58.885Z"
   },
   {
    "duration": 13,
    "start_time": "2023-03-07T05:37:58.915Z"
   },
   {
    "duration": 3,
    "start_time": "2023-03-07T05:37:58.929Z"
   },
   {
    "duration": 14,
    "start_time": "2023-03-07T05:37:58.933Z"
   },
   {
    "duration": 19,
    "start_time": "2023-03-07T05:37:58.948Z"
   },
   {
    "duration": 9,
    "start_time": "2023-03-07T05:37:58.968Z"
   },
   {
    "duration": 5,
    "start_time": "2023-03-07T05:37:58.978Z"
   },
   {
    "duration": 6,
    "start_time": "2023-03-07T05:37:58.985Z"
   },
   {
    "duration": 8,
    "start_time": "2023-03-07T05:37:58.993Z"
   },
   {
    "duration": 14,
    "start_time": "2023-03-07T05:37:59.002Z"
   },
   {
    "duration": 40,
    "start_time": "2023-03-07T05:37:59.017Z"
   },
   {
    "duration": 17,
    "start_time": "2023-03-07T05:37:59.059Z"
   },
   {
    "duration": 3,
    "start_time": "2023-03-07T05:37:59.078Z"
   },
   {
    "duration": 12,
    "start_time": "2023-03-07T05:37:59.083Z"
   },
   {
    "duration": 16,
    "start_time": "2023-03-07T05:37:59.097Z"
   },
   {
    "duration": 267,
    "start_time": "2023-03-07T05:37:59.115Z"
   },
   {
    "duration": 5,
    "start_time": "2023-03-07T05:37:59.384Z"
   },
   {
    "duration": 207,
    "start_time": "2023-03-07T05:37:59.391Z"
   },
   {
    "duration": 8,
    "start_time": "2023-03-07T05:37:59.600Z"
   },
   {
    "duration": 384,
    "start_time": "2023-03-07T05:37:59.609Z"
   },
   {
    "duration": 237,
    "start_time": "2023-03-07T05:37:59.995Z"
   },
   {
    "duration": 40,
    "start_time": "2023-03-07T05:38:00.234Z"
   },
   {
    "duration": 148,
    "start_time": "2023-03-07T05:38:00.276Z"
   },
   {
    "duration": 183,
    "start_time": "2023-03-07T05:38:00.426Z"
   },
   {
    "duration": 780,
    "start_time": "2023-03-07T05:38:11.781Z"
   },
   {
    "duration": 29,
    "start_time": "2023-03-07T05:38:19.618Z"
   },
   {
    "duration": 10,
    "start_time": "2023-03-07T05:39:00.667Z"
   },
   {
    "duration": 6,
    "start_time": "2023-03-07T05:40:48.542Z"
   },
   {
    "duration": 49,
    "start_time": "2023-03-07T05:41:05.292Z"
   },
   {
    "duration": 9,
    "start_time": "2023-03-07T05:41:54.376Z"
   },
   {
    "duration": 9,
    "start_time": "2023-03-07T05:42:51.704Z"
   },
   {
    "duration": 23,
    "start_time": "2023-03-07T05:43:05.311Z"
   },
   {
    "duration": 12,
    "start_time": "2023-03-07T05:44:04.646Z"
   },
   {
    "duration": 272,
    "start_time": "2023-03-07T05:44:10.499Z"
   },
   {
    "duration": 6,
    "start_time": "2023-03-07T06:18:03.907Z"
   },
   {
    "duration": 230,
    "start_time": "2023-03-07T06:27:21.750Z"
   },
   {
    "duration": 10,
    "start_time": "2023-03-07T06:28:01.502Z"
   },
   {
    "duration": 416,
    "start_time": "2023-03-07T06:28:27.073Z"
   },
   {
    "duration": 8,
    "start_time": "2023-03-07T08:08:47.337Z"
   },
   {
    "duration": 597,
    "start_time": "2023-03-07T08:08:54.576Z"
   },
   {
    "duration": 67,
    "start_time": "2023-03-07T08:09:01.327Z"
   },
   {
    "duration": 12,
    "start_time": "2023-03-07T08:09:22.497Z"
   },
   {
    "duration": 239,
    "start_time": "2023-03-07T08:10:14.088Z"
   },
   {
    "duration": 181,
    "start_time": "2023-03-07T08:26:04.335Z"
   },
   {
    "duration": 219,
    "start_time": "2023-03-07T08:26:16.128Z"
   },
   {
    "duration": 268,
    "start_time": "2023-03-07T08:26:38.093Z"
   },
   {
    "duration": 26,
    "start_time": "2023-03-07T08:44:54.504Z"
   },
   {
    "duration": 126,
    "start_time": "2023-03-07T08:45:37.284Z"
   },
   {
    "duration": 128,
    "start_time": "2023-03-07T08:46:35.278Z"
   },
   {
    "duration": 137,
    "start_time": "2023-03-07T08:47:42.490Z"
   },
   {
    "duration": 142,
    "start_time": "2023-03-07T08:49:08.238Z"
   },
   {
    "duration": 238,
    "start_time": "2023-03-07T08:50:58.421Z"
   },
   {
    "duration": 163,
    "start_time": "2023-03-07T08:51:04.235Z"
   },
   {
    "duration": 158,
    "start_time": "2023-03-07T08:51:07.532Z"
   },
   {
    "duration": 147,
    "start_time": "2023-03-07T08:51:12.891Z"
   },
   {
    "duration": 147,
    "start_time": "2023-03-07T08:51:19.732Z"
   },
   {
    "duration": 142,
    "start_time": "2023-03-07T08:51:24.604Z"
   },
   {
    "duration": 134,
    "start_time": "2023-03-07T08:51:45.980Z"
   },
   {
    "duration": 128,
    "start_time": "2023-03-07T08:51:50.811Z"
   },
   {
    "duration": 298,
    "start_time": "2023-03-07T08:52:45.586Z"
   },
   {
    "duration": 261,
    "start_time": "2023-03-07T08:52:52.619Z"
   },
   {
    "duration": 250,
    "start_time": "2023-03-07T08:53:03.083Z"
   },
   {
    "duration": 221,
    "start_time": "2023-03-07T08:54:15.406Z"
   },
   {
    "duration": 214,
    "start_time": "2023-03-07T08:54:21.288Z"
   },
   {
    "duration": 229,
    "start_time": "2023-03-07T08:54:26.538Z"
   },
   {
    "duration": 243,
    "start_time": "2023-03-07T08:54:30.991Z"
   },
   {
    "duration": 120,
    "start_time": "2023-03-07T08:54:35.296Z"
   },
   {
    "duration": 274,
    "start_time": "2023-03-07T08:54:43.405Z"
   },
   {
    "duration": 194,
    "start_time": "2023-03-07T08:54:56.970Z"
   },
   {
    "duration": 137,
    "start_time": "2023-03-07T08:55:06.481Z"
   },
   {
    "duration": 138,
    "start_time": "2023-03-07T08:55:11.710Z"
   },
   {
    "duration": 145,
    "start_time": "2023-03-07T08:55:47.877Z"
   },
   {
    "duration": 169,
    "start_time": "2023-03-07T08:55:52.619Z"
   },
   {
    "duration": 8,
    "start_time": "2023-03-07T08:58:11.981Z"
   },
   {
    "duration": 130,
    "start_time": "2023-03-07T09:04:11.686Z"
   },
   {
    "duration": 17,
    "start_time": "2023-03-07T09:05:03.246Z"
   },
   {
    "duration": 7,
    "start_time": "2023-03-07T09:52:24.206Z"
   },
   {
    "duration": 138,
    "start_time": "2023-03-07T09:54:09.595Z"
   },
   {
    "duration": 7,
    "start_time": "2023-03-07T09:56:20.266Z"
   },
   {
    "duration": 168,
    "start_time": "2023-03-07T10:10:12.188Z"
   },
   {
    "duration": 167,
    "start_time": "2023-03-07T10:10:43.535Z"
   },
   {
    "duration": 189,
    "start_time": "2023-03-07T10:12:04.598Z"
   },
   {
    "duration": 128,
    "start_time": "2023-03-07T10:42:46.727Z"
   },
   {
    "duration": 172,
    "start_time": "2023-03-07T10:42:56.911Z"
   },
   {
    "duration": 186,
    "start_time": "2023-03-07T10:47:21.477Z"
   },
   {
    "duration": 178,
    "start_time": "2023-03-07T10:51:37.498Z"
   },
   {
    "duration": 193,
    "start_time": "2023-03-07T10:52:09.308Z"
   },
   {
    "duration": 18,
    "start_time": "2023-03-07T10:54:25.272Z"
   },
   {
    "duration": 185,
    "start_time": "2023-03-07T10:54:27.951Z"
   },
   {
    "duration": 13,
    "start_time": "2023-03-07T11:23:38.049Z"
   },
   {
    "duration": 140,
    "start_time": "2023-03-07T11:25:53.824Z"
   },
   {
    "duration": 193,
    "start_time": "2023-03-07T11:26:01.043Z"
   },
   {
    "duration": 19,
    "start_time": "2023-03-07T11:26:36.002Z"
   },
   {
    "duration": 11,
    "start_time": "2023-03-07T11:26:46.633Z"
   },
   {
    "duration": 12,
    "start_time": "2023-03-07T11:26:55.310Z"
   },
   {
    "duration": 11,
    "start_time": "2023-03-07T11:27:04.553Z"
   },
   {
    "duration": 10,
    "start_time": "2023-03-07T11:27:12.253Z"
   },
   {
    "duration": 14,
    "start_time": "2023-03-07T11:27:32.001Z"
   },
   {
    "duration": 13,
    "start_time": "2023-03-07T11:28:42.224Z"
   },
   {
    "duration": 19,
    "start_time": "2023-03-07T11:28:53.607Z"
   },
   {
    "duration": 3,
    "start_time": "2023-03-07T11:34:15.558Z"
   },
   {
    "duration": 38,
    "start_time": "2023-03-07T11:34:25.748Z"
   },
   {
    "duration": 23,
    "start_time": "2023-03-07T11:34:56.449Z"
   },
   {
    "duration": 131,
    "start_time": "2023-03-07T11:48:35.805Z"
   },
   {
    "duration": 26,
    "start_time": "2023-03-07T12:16:39.004Z"
   },
   {
    "duration": 25,
    "start_time": "2023-03-07T12:16:57.414Z"
   },
   {
    "duration": 30,
    "start_time": "2023-03-07T12:20:16.016Z"
   },
   {
    "duration": 3,
    "start_time": "2023-03-07T12:45:03.539Z"
   },
   {
    "duration": 9,
    "start_time": "2023-03-07T12:48:34.843Z"
   },
   {
    "duration": 9,
    "start_time": "2023-03-07T12:48:43.554Z"
   },
   {
    "duration": 9,
    "start_time": "2023-03-07T12:49:23.319Z"
   },
   {
    "duration": 14,
    "start_time": "2023-03-07T12:49:26.901Z"
   },
   {
    "duration": 10,
    "start_time": "2023-03-07T13:09:56.324Z"
   },
   {
    "duration": 1215,
    "start_time": "2023-03-07T13:55:21.041Z"
   },
   {
    "duration": 89,
    "start_time": "2023-03-07T13:55:22.257Z"
   },
   {
    "duration": 18,
    "start_time": "2023-03-07T13:55:22.348Z"
   },
   {
    "duration": 22,
    "start_time": "2023-03-07T13:55:22.368Z"
   },
   {
    "duration": 4,
    "start_time": "2023-03-07T13:55:22.392Z"
   },
   {
    "duration": 15,
    "start_time": "2023-03-07T13:55:22.397Z"
   },
   {
    "duration": 17,
    "start_time": "2023-03-07T13:55:22.414Z"
   },
   {
    "duration": 10,
    "start_time": "2023-03-07T13:55:22.433Z"
   },
   {
    "duration": 8,
    "start_time": "2023-03-07T13:55:22.445Z"
   },
   {
    "duration": 9,
    "start_time": "2023-03-07T13:55:22.456Z"
   },
   {
    "duration": 9,
    "start_time": "2023-03-07T13:55:22.466Z"
   },
   {
    "duration": 32,
    "start_time": "2023-03-07T13:55:22.477Z"
   },
   {
    "duration": 10,
    "start_time": "2023-03-07T13:55:22.512Z"
   },
   {
    "duration": 14,
    "start_time": "2023-03-07T13:55:22.524Z"
   },
   {
    "duration": 10,
    "start_time": "2023-03-07T13:55:22.539Z"
   },
   {
    "duration": 18,
    "start_time": "2023-03-07T13:55:22.550Z"
   },
   {
    "duration": 21,
    "start_time": "2023-03-07T13:55:22.570Z"
   },
   {
    "duration": 286,
    "start_time": "2023-03-07T13:55:22.593Z"
   },
   {
    "duration": 7,
    "start_time": "2023-03-07T13:55:22.893Z"
   },
   {
    "duration": 210,
    "start_time": "2023-03-07T13:55:22.902Z"
   },
   {
    "duration": 9,
    "start_time": "2023-03-07T13:55:23.114Z"
   },
   {
    "duration": 15,
    "start_time": "2023-03-07T13:55:23.124Z"
   },
   {
    "duration": 306,
    "start_time": "2023-03-07T13:55:23.140Z"
   },
   {
    "duration": 5,
    "start_time": "2023-03-07T13:55:23.448Z"
   },
   {
    "duration": 313,
    "start_time": "2023-03-07T13:55:23.455Z"
   },
   {
    "duration": 215,
    "start_time": "2023-03-07T13:55:23.770Z"
   },
   {
    "duration": 133,
    "start_time": "2023-03-07T13:55:23.986Z"
   },
   {
    "duration": 7,
    "start_time": "2023-03-07T13:55:24.123Z"
   },
   {
    "duration": 204,
    "start_time": "2023-03-07T13:55:24.131Z"
   },
   {
    "duration": 7,
    "start_time": "2023-03-07T13:55:24.337Z"
   },
   {
    "duration": 192,
    "start_time": "2023-03-07T13:55:24.345Z"
   },
   {
    "duration": 218,
    "start_time": "2023-03-07T13:55:24.539Z"
   },
   {
    "duration": 37,
    "start_time": "2023-03-07T13:55:24.758Z"
   },
   {
    "duration": 23,
    "start_time": "2023-03-07T13:55:24.797Z"
   },
   {
    "duration": 24,
    "start_time": "2023-03-07T13:55:24.822Z"
   },
   {
    "duration": 49,
    "start_time": "2023-03-07T13:55:24.848Z"
   },
   {
    "duration": 33,
    "start_time": "2023-03-07T13:55:24.899Z"
   },
   {
    "duration": 1274,
    "start_time": "2023-03-07T18:00:04.726Z"
   },
   {
    "duration": 51,
    "start_time": "2023-03-07T18:00:06.003Z"
   },
   {
    "duration": 20,
    "start_time": "2023-03-07T18:00:06.056Z"
   },
   {
    "duration": 25,
    "start_time": "2023-03-07T18:00:06.079Z"
   },
   {
    "duration": 7,
    "start_time": "2023-03-07T18:00:06.106Z"
   },
   {
    "duration": 24,
    "start_time": "2023-03-07T18:00:06.115Z"
   },
   {
    "duration": 14,
    "start_time": "2023-03-07T18:00:06.141Z"
   },
   {
    "duration": 10,
    "start_time": "2023-03-07T18:00:06.157Z"
   },
   {
    "duration": 13,
    "start_time": "2023-03-07T18:00:06.169Z"
   },
   {
    "duration": 24,
    "start_time": "2023-03-07T18:00:06.185Z"
   },
   {
    "duration": 20,
    "start_time": "2023-03-07T18:00:06.211Z"
   },
   {
    "duration": 17,
    "start_time": "2023-03-07T18:00:06.233Z"
   },
   {
    "duration": 23,
    "start_time": "2023-03-07T18:00:06.252Z"
   },
   {
    "duration": 43,
    "start_time": "2023-03-07T18:00:06.279Z"
   },
   {
    "duration": 13,
    "start_time": "2023-03-07T18:00:06.324Z"
   },
   {
    "duration": 20,
    "start_time": "2023-03-07T18:00:06.339Z"
   },
   {
    "duration": 29,
    "start_time": "2023-03-07T18:00:06.361Z"
   },
   {
    "duration": 301,
    "start_time": "2023-03-07T18:00:06.392Z"
   },
   {
    "duration": 8,
    "start_time": "2023-03-07T18:00:06.695Z"
   },
   {
    "duration": 234,
    "start_time": "2023-03-07T18:00:06.704Z"
   },
   {
    "duration": 10,
    "start_time": "2023-03-07T18:00:06.940Z"
   },
   {
    "duration": 21,
    "start_time": "2023-03-07T18:00:06.952Z"
   },
   {
    "duration": 302,
    "start_time": "2023-03-07T18:00:06.974Z"
   },
   {
    "duration": 6,
    "start_time": "2023-03-07T18:00:07.278Z"
   },
   {
    "duration": 312,
    "start_time": "2023-03-07T18:00:07.286Z"
   },
   {
    "duration": 246,
    "start_time": "2023-03-07T18:00:07.600Z"
   },
   {
    "duration": 151,
    "start_time": "2023-03-07T18:00:07.848Z"
   },
   {
    "duration": 9,
    "start_time": "2023-03-07T18:00:08.004Z"
   },
   {
    "duration": 274,
    "start_time": "2023-03-07T18:00:08.014Z"
   },
   {
    "duration": 7,
    "start_time": "2023-03-07T18:00:08.290Z"
   },
   {
    "duration": 216,
    "start_time": "2023-03-07T18:00:08.298Z"
   },
   {
    "duration": 192,
    "start_time": "2023-03-07T18:00:08.516Z"
   },
   {
    "duration": 32,
    "start_time": "2023-03-07T18:00:08.710Z"
   },
   {
    "duration": 24,
    "start_time": "2023-03-07T18:00:08.743Z"
   },
   {
    "duration": 69,
    "start_time": "2023-03-07T18:00:08.768Z"
   },
   {
    "duration": 7,
    "start_time": "2023-03-07T18:00:08.839Z"
   },
   {
    "duration": 11,
    "start_time": "2023-03-07T18:00:08.848Z"
   },
   {
    "duration": 1478,
    "start_time": "2023-03-08T06:46:26.931Z"
   },
   {
    "duration": 116,
    "start_time": "2023-03-08T06:46:31.307Z"
   },
   {
    "duration": 20,
    "start_time": "2023-03-08T06:46:35.081Z"
   },
   {
    "duration": 18,
    "start_time": "2023-03-08T06:46:37.977Z"
   },
   {
    "duration": 14,
    "start_time": "2023-03-08T06:47:00.425Z"
   },
   {
    "duration": 131,
    "start_time": "2023-03-08T06:55:43.509Z"
   },
   {
    "duration": 9,
    "start_time": "2023-03-08T06:56:06.556Z"
   },
   {
    "duration": 7,
    "start_time": "2023-03-08T06:56:42.884Z"
   },
   {
    "duration": 6,
    "start_time": "2023-03-08T06:57:17.860Z"
   },
   {
    "duration": 7,
    "start_time": "2023-03-08T06:57:23.358Z"
   },
   {
    "duration": 7,
    "start_time": "2023-03-08T06:57:33.257Z"
   },
   {
    "duration": 4,
    "start_time": "2023-03-08T07:07:39.200Z"
   },
   {
    "duration": 11,
    "start_time": "2023-03-08T07:08:53.171Z"
   },
   {
    "duration": 31,
    "start_time": "2023-03-08T07:10:20.816Z"
   },
   {
    "duration": 36,
    "start_time": "2023-03-08T07:17:30.972Z"
   },
   {
    "duration": 15,
    "start_time": "2023-03-08T07:17:37.692Z"
   },
   {
    "duration": 6,
    "start_time": "2023-03-08T07:19:12.949Z"
   },
   {
    "duration": 6,
    "start_time": "2023-03-08T07:19:34.794Z"
   },
   {
    "duration": 6,
    "start_time": "2023-03-08T07:20:45.440Z"
   },
   {
    "duration": 5,
    "start_time": "2023-03-08T07:22:50.083Z"
   },
   {
    "duration": 6,
    "start_time": "2023-03-08T07:22:55.414Z"
   },
   {
    "duration": 8,
    "start_time": "2023-03-08T07:24:27.060Z"
   },
   {
    "duration": 6,
    "start_time": "2023-03-08T07:24:31.865Z"
   },
   {
    "duration": 8,
    "start_time": "2023-03-08T07:24:35.992Z"
   },
   {
    "duration": 9,
    "start_time": "2023-03-08T07:27:42.557Z"
   },
   {
    "duration": 15,
    "start_time": "2023-03-08T07:29:18.363Z"
   },
   {
    "duration": 11,
    "start_time": "2023-03-08T07:33:28.567Z"
   },
   {
    "duration": 10,
    "start_time": "2023-03-08T07:33:33.496Z"
   },
   {
    "duration": 6,
    "start_time": "2023-03-08T07:33:46.049Z"
   },
   {
    "duration": 10,
    "start_time": "2023-03-08T07:33:54.254Z"
   },
   {
    "duration": 11,
    "start_time": "2023-03-08T07:33:56.608Z"
   },
   {
    "duration": 10,
    "start_time": "2023-03-08T07:34:12.720Z"
   },
   {
    "duration": 5,
    "start_time": "2023-03-08T07:46:47.241Z"
   },
   {
    "duration": 9,
    "start_time": "2023-03-08T07:48:19.406Z"
   },
   {
    "duration": 5,
    "start_time": "2023-03-08T07:48:24.337Z"
   },
   {
    "duration": 1141,
    "start_time": "2023-03-08T07:49:14.178Z"
   },
   {
    "duration": 49,
    "start_time": "2023-03-08T07:49:18.108Z"
   },
   {
    "duration": 18,
    "start_time": "2023-03-08T07:49:19.145Z"
   },
   {
    "duration": 14,
    "start_time": "2023-03-08T07:49:21.388Z"
   },
   {
    "duration": 5,
    "start_time": "2023-03-08T07:49:24.682Z"
   },
   {
    "duration": 13,
    "start_time": "2023-03-08T07:49:34.692Z"
   },
   {
    "duration": 4,
    "start_time": "2023-03-08T07:49:36.451Z"
   },
   {
    "duration": 10,
    "start_time": "2023-03-08T07:49:47.825Z"
   },
   {
    "duration": 5,
    "start_time": "2023-03-08T07:49:56.715Z"
   },
   {
    "duration": 27,
    "start_time": "2023-03-08T07:50:01.376Z"
   },
   {
    "duration": 7,
    "start_time": "2023-03-08T07:50:03.670Z"
   },
   {
    "duration": 3,
    "start_time": "2023-03-08T07:50:10.456Z"
   },
   {
    "duration": 8,
    "start_time": "2023-03-08T07:50:13.021Z"
   },
   {
    "duration": 17,
    "start_time": "2023-03-08T07:52:28.951Z"
   },
   {
    "duration": 7,
    "start_time": "2023-03-08T07:52:31.319Z"
   },
   {
    "duration": 5,
    "start_time": "2023-03-08T07:52:32.559Z"
   },
   {
    "duration": 11,
    "start_time": "2023-03-08T07:52:41.687Z"
   },
   {
    "duration": 20,
    "start_time": "2023-03-08T07:52:43.806Z"
   },
   {
    "duration": 4,
    "start_time": "2023-03-08T07:55:23.959Z"
   },
   {
    "duration": 16,
    "start_time": "2023-03-08T07:55:35.312Z"
   },
   {
    "duration": 20,
    "start_time": "2023-03-08T07:55:59.599Z"
   },
   {
    "duration": 355,
    "start_time": "2023-03-08T07:56:27.182Z"
   },
   {
    "duration": 377,
    "start_time": "2023-03-08T07:56:49.779Z"
   },
   {
    "duration": 341,
    "start_time": "2023-03-08T07:56:57.592Z"
   },
   {
    "duration": 416,
    "start_time": "2023-03-08T07:57:05.961Z"
   },
   {
    "duration": 9,
    "start_time": "2023-03-08T07:57:22.529Z"
   },
   {
    "duration": 384,
    "start_time": "2023-03-08T07:59:17.358Z"
   },
   {
    "duration": 309,
    "start_time": "2023-03-08T07:59:39.053Z"
   },
   {
    "duration": 10,
    "start_time": "2023-03-08T08:02:35.573Z"
   },
   {
    "duration": 17,
    "start_time": "2023-03-08T08:02:53.297Z"
   },
   {
    "duration": 297,
    "start_time": "2023-03-08T08:03:02.108Z"
   },
   {
    "duration": 250,
    "start_time": "2023-03-08T08:04:35.592Z"
   },
   {
    "duration": 362,
    "start_time": "2023-03-08T08:04:44.099Z"
   },
   {
    "duration": 268,
    "start_time": "2023-03-08T08:04:53.716Z"
   },
   {
    "duration": 249,
    "start_time": "2023-03-08T08:05:01.831Z"
   },
   {
    "duration": 8,
    "start_time": "2023-03-08T08:06:21.401Z"
   },
   {
    "duration": 282,
    "start_time": "2023-03-08T08:06:36.882Z"
   },
   {
    "duration": 310,
    "start_time": "2023-03-08T08:10:09.531Z"
   },
   {
    "duration": 136,
    "start_time": "2023-03-08T08:13:22.290Z"
   },
   {
    "duration": 8,
    "start_time": "2023-03-08T08:13:53.570Z"
   },
   {
    "duration": 138,
    "start_time": "2023-03-08T08:14:22.753Z"
   },
   {
    "duration": 9,
    "start_time": "2023-03-08T08:14:26.588Z"
   },
   {
    "duration": 182,
    "start_time": "2023-03-08T08:14:51.648Z"
   },
   {
    "duration": 228,
    "start_time": "2023-03-08T08:16:37.497Z"
   },
   {
    "duration": 18,
    "start_time": "2023-03-08T08:18:35.026Z"
   },
   {
    "duration": 33,
    "start_time": "2023-03-08T08:24:54.154Z"
   },
   {
    "duration": 42,
    "start_time": "2023-03-08T08:27:35.958Z"
   },
   {
    "duration": 41,
    "start_time": "2023-03-08T08:28:38.152Z"
   },
   {
    "duration": 9,
    "start_time": "2023-03-08T08:31:42.712Z"
   },
   {
    "duration": 137,
    "start_time": "2023-03-08T08:33:56.975Z"
   },
   {
    "duration": 1591,
    "start_time": "2023-03-08T08:35:06.013Z"
   },
   {
    "duration": 10,
    "start_time": "2023-03-08T08:35:19.484Z"
   },
   {
    "duration": 226,
    "start_time": "2023-03-08T08:37:17.594Z"
   },
   {
    "duration": 10,
    "start_time": "2023-03-08T08:39:55.161Z"
   },
   {
    "duration": 9,
    "start_time": "2023-03-08T08:42:11.752Z"
   },
   {
    "duration": 9,
    "start_time": "2023-03-08T08:43:42.997Z"
   },
   {
    "duration": 1244,
    "start_time": "2023-03-08T12:16:34.196Z"
   },
   {
    "duration": 82,
    "start_time": "2023-03-08T12:16:35.443Z"
   },
   {
    "duration": 32,
    "start_time": "2023-03-08T12:16:35.529Z"
   },
   {
    "duration": 38,
    "start_time": "2023-03-08T12:16:35.563Z"
   },
   {
    "duration": 36,
    "start_time": "2023-03-08T12:16:35.604Z"
   },
   {
    "duration": 27,
    "start_time": "2023-03-08T12:16:35.642Z"
   },
   {
    "duration": 11,
    "start_time": "2023-03-08T12:16:35.671Z"
   },
   {
    "duration": 22,
    "start_time": "2023-03-08T12:16:35.685Z"
   },
   {
    "duration": 7,
    "start_time": "2023-03-08T12:16:35.709Z"
   },
   {
    "duration": 51,
    "start_time": "2023-03-08T12:16:35.718Z"
   },
   {
    "duration": 7,
    "start_time": "2023-03-08T12:16:35.771Z"
   },
   {
    "duration": 13,
    "start_time": "2023-03-08T12:16:35.780Z"
   },
   {
    "duration": 25,
    "start_time": "2023-03-08T12:16:35.794Z"
   },
   {
    "duration": 35,
    "start_time": "2023-03-08T12:16:35.823Z"
   },
   {
    "duration": 9,
    "start_time": "2023-03-08T12:16:35.860Z"
   },
   {
    "duration": 19,
    "start_time": "2023-03-08T12:16:35.871Z"
   },
   {
    "duration": 12,
    "start_time": "2023-03-08T12:16:35.892Z"
   },
   {
    "duration": 17,
    "start_time": "2023-03-08T12:16:35.906Z"
   },
   {
    "duration": 3,
    "start_time": "2023-03-08T12:16:35.925Z"
   },
   {
    "duration": 31,
    "start_time": "2023-03-08T12:16:35.930Z"
   },
   {
    "duration": 33,
    "start_time": "2023-03-08T12:16:35.963Z"
   },
   {
    "duration": 34,
    "start_time": "2023-03-08T12:16:35.998Z"
   },
   {
    "duration": 353,
    "start_time": "2023-03-08T12:16:36.033Z"
   },
   {
    "duration": 9,
    "start_time": "2023-03-08T12:16:36.389Z"
   },
   {
    "duration": 368,
    "start_time": "2023-03-08T12:16:36.399Z"
   },
   {
    "duration": 13,
    "start_time": "2023-03-08T12:16:36.769Z"
   },
   {
    "duration": 19,
    "start_time": "2023-03-08T12:16:36.784Z"
   },
   {
    "duration": 380,
    "start_time": "2023-03-08T12:16:36.806Z"
   },
   {
    "duration": 8,
    "start_time": "2023-03-08T12:16:37.188Z"
   },
   {
    "duration": 345,
    "start_time": "2023-03-08T12:16:37.198Z"
   },
   {
    "duration": 279,
    "start_time": "2023-03-08T12:16:37.545Z"
   },
   {
    "duration": 313,
    "start_time": "2023-03-08T12:16:37.827Z"
   },
   {
    "duration": 20,
    "start_time": "2023-03-08T12:16:38.143Z"
   },
   {
    "duration": 169,
    "start_time": "2023-03-08T12:16:38.165Z"
   },
   {
    "duration": 22,
    "start_time": "2023-03-08T12:16:38.336Z"
   },
   {
    "duration": 201,
    "start_time": "2023-03-08T12:16:38.360Z"
   },
   {
    "duration": 229,
    "start_time": "2023-03-08T12:16:38.563Z"
   },
   {
    "duration": 12,
    "start_time": "2023-03-08T12:16:38.796Z"
   },
   {
    "duration": 28,
    "start_time": "2023-03-08T12:16:38.810Z"
   },
   {
    "duration": 55,
    "start_time": "2023-03-08T12:16:38.840Z"
   },
   {
    "duration": 77,
    "start_time": "2023-03-08T12:16:38.900Z"
   },
   {
    "duration": 12,
    "start_time": "2023-03-08T12:16:38.980Z"
   },
   {
    "duration": 11,
    "start_time": "2023-03-08T12:16:38.994Z"
   },
   {
    "duration": 1397,
    "start_time": "2023-03-08T19:45:00.195Z"
   },
   {
    "duration": 133,
    "start_time": "2023-03-08T19:45:05.128Z"
   },
   {
    "duration": 23,
    "start_time": "2023-03-08T19:45:06.079Z"
   },
   {
    "duration": 17,
    "start_time": "2023-03-08T19:45:07.683Z"
   },
   {
    "duration": 13,
    "start_time": "2023-03-08T19:45:10.655Z"
   },
   {
    "duration": 20,
    "start_time": "2023-03-08T19:45:12.687Z"
   },
   {
    "duration": 4,
    "start_time": "2023-03-08T19:45:14.502Z"
   },
   {
    "duration": 9,
    "start_time": "2023-03-08T19:45:15.901Z"
   },
   {
    "duration": 15,
    "start_time": "2023-03-08T19:45:19.054Z"
   },
   {
    "duration": 46,
    "start_time": "2023-03-08T19:45:22.684Z"
   },
   {
    "duration": 6,
    "start_time": "2023-03-08T19:45:24.036Z"
   },
   {
    "duration": 5,
    "start_time": "2023-03-08T19:45:25.524Z"
   },
   {
    "duration": 10,
    "start_time": "2023-03-08T19:45:27.029Z"
   },
   {
    "duration": 24,
    "start_time": "2023-03-08T19:45:31.498Z"
   },
   {
    "duration": 7,
    "start_time": "2023-03-08T19:45:38.201Z"
   },
   {
    "duration": 9,
    "start_time": "2023-03-08T19:45:39.979Z"
   },
   {
    "duration": 9,
    "start_time": "2023-03-08T19:45:42.134Z"
   },
   {
    "duration": 22,
    "start_time": "2023-03-08T19:45:43.815Z"
   },
   {
    "duration": 6,
    "start_time": "2023-03-08T19:45:49.743Z"
   },
   {
    "duration": 16,
    "start_time": "2023-03-08T19:45:52.191Z"
   },
   {
    "duration": 24,
    "start_time": "2023-03-08T19:45:54.780Z"
   },
   {
    "duration": 28,
    "start_time": "2023-03-08T19:45:57.657Z"
   },
   {
    "duration": 9,
    "start_time": "2023-03-08T19:51:12.606Z"
   },
   {
    "duration": 11,
    "start_time": "2023-03-08T19:51:15.345Z"
   },
   {
    "duration": 18,
    "start_time": "2023-03-08T19:51:31.010Z"
   },
   {
    "duration": 36,
    "start_time": "2023-03-08T19:52:10.634Z"
   },
   {
    "duration": 26,
    "start_time": "2023-03-08T19:52:24.040Z"
   },
   {
    "duration": 16,
    "start_time": "2023-03-08T19:53:56.307Z"
   },
   {
    "duration": 19,
    "start_time": "2023-03-08T19:55:47.002Z"
   },
   {
    "duration": 34,
    "start_time": "2023-03-08T20:35:50.279Z"
   },
   {
    "duration": 136,
    "start_time": "2023-03-08T20:36:24.400Z"
   },
   {
    "duration": 16,
    "start_time": "2023-03-08T20:36:29.903Z"
   },
   {
    "duration": 17,
    "start_time": "2023-03-08T20:36:51.119Z"
   },
   {
    "duration": 18,
    "start_time": "2023-03-08T20:36:57.432Z"
   },
   {
    "duration": 15,
    "start_time": "2023-03-08T20:50:12.901Z"
   },
   {
    "duration": 8,
    "start_time": "2023-03-08T20:57:38.705Z"
   },
   {
    "duration": 8,
    "start_time": "2023-03-08T20:57:43.118Z"
   },
   {
    "duration": 825,
    "start_time": "2023-03-08T20:57:54.483Z"
   },
   {
    "duration": 52,
    "start_time": "2023-03-08T20:57:58.923Z"
   },
   {
    "duration": 12,
    "start_time": "2023-03-08T20:58:37.490Z"
   },
   {
    "duration": 14,
    "start_time": "2023-03-08T21:01:22.151Z"
   },
   {
    "duration": 9,
    "start_time": "2023-03-08T21:03:03.125Z"
   },
   {
    "duration": 15,
    "start_time": "2023-03-08T21:03:12.145Z"
   },
   {
    "duration": 16,
    "start_time": "2023-03-08T21:03:57.605Z"
   },
   {
    "duration": 22,
    "start_time": "2023-03-08T21:04:07.682Z"
   },
   {
    "duration": 17,
    "start_time": "2023-03-08T21:04:18.875Z"
   },
   {
    "duration": 14,
    "start_time": "2023-03-08T21:09:45.885Z"
   },
   {
    "duration": 5,
    "start_time": "2023-03-08T21:10:33.941Z"
   },
   {
    "duration": 11,
    "start_time": "2023-03-08T21:10:49.834Z"
   },
   {
    "duration": 14,
    "start_time": "2023-03-08T21:10:59.573Z"
   },
   {
    "duration": 11,
    "start_time": "2023-03-08T21:11:43.041Z"
   },
   {
    "duration": 15,
    "start_time": "2023-03-08T21:12:36.405Z"
   },
   {
    "duration": 15,
    "start_time": "2023-03-08T21:13:05.824Z"
   },
   {
    "duration": 23,
    "start_time": "2023-03-08T21:13:29.548Z"
   },
   {
    "duration": 19,
    "start_time": "2023-03-08T21:14:06.984Z"
   },
   {
    "duration": 59,
    "start_time": "2023-03-08T21:16:26.300Z"
   },
   {
    "duration": 1258,
    "start_time": "2023-03-08T21:16:37.694Z"
   },
   {
    "duration": 17,
    "start_time": "2023-03-08T21:16:44.498Z"
   },
   {
    "duration": 16,
    "start_time": "2023-03-08T21:17:04.874Z"
   },
   {
    "duration": 25,
    "start_time": "2023-03-08T21:18:15.816Z"
   },
   {
    "duration": 17,
    "start_time": "2023-03-08T21:18:35.303Z"
   },
   {
    "duration": 1169,
    "start_time": "2023-03-08T21:19:12.933Z"
   },
   {
    "duration": 58,
    "start_time": "2023-03-08T21:19:14.104Z"
   },
   {
    "duration": 20,
    "start_time": "2023-03-08T21:19:14.168Z"
   },
   {
    "duration": 14,
    "start_time": "2023-03-08T21:19:14.190Z"
   },
   {
    "duration": 4,
    "start_time": "2023-03-08T21:19:14.206Z"
   },
   {
    "duration": 20,
    "start_time": "2023-03-08T21:19:14.212Z"
   },
   {
    "duration": 35,
    "start_time": "2023-03-08T21:19:14.234Z"
   },
   {
    "duration": 13,
    "start_time": "2023-03-08T21:19:14.271Z"
   },
   {
    "duration": 6,
    "start_time": "2023-03-08T21:19:14.286Z"
   },
   {
    "duration": 28,
    "start_time": "2023-03-08T21:19:14.295Z"
   },
   {
    "duration": 5,
    "start_time": "2023-03-08T21:19:14.324Z"
   },
   {
    "duration": 37,
    "start_time": "2023-03-08T21:19:14.331Z"
   },
   {
    "duration": 12,
    "start_time": "2023-03-08T21:19:14.370Z"
   },
   {
    "duration": 16,
    "start_time": "2023-03-08T21:19:14.383Z"
   },
   {
    "duration": 7,
    "start_time": "2023-03-08T21:19:14.400Z"
   },
   {
    "duration": 10,
    "start_time": "2023-03-08T21:19:14.409Z"
   },
   {
    "duration": 11,
    "start_time": "2023-03-08T21:19:14.420Z"
   },
   {
    "duration": 43,
    "start_time": "2023-03-08T21:19:14.432Z"
   },
   {
    "duration": 2,
    "start_time": "2023-03-08T21:19:14.476Z"
   },
   {
    "duration": 11,
    "start_time": "2023-03-08T21:19:14.480Z"
   },
   {
    "duration": 16,
    "start_time": "2023-03-08T21:19:14.492Z"
   },
   {
    "duration": 17,
    "start_time": "2023-03-08T21:19:14.509Z"
   },
   {
    "duration": 14,
    "start_time": "2023-03-08T21:19:14.528Z"
   },
   {
    "duration": 26,
    "start_time": "2023-03-08T21:19:14.557Z"
   },
   {
    "duration": 19,
    "start_time": "2023-03-08T21:19:14.585Z"
   },
   {
    "duration": 15,
    "start_time": "2023-03-08T21:19:14.605Z"
   },
   {
    "duration": 53,
    "start_time": "2023-03-08T21:19:14.621Z"
   },
   {
    "duration": 371,
    "start_time": "2023-03-08T21:19:14.677Z"
   },
   {
    "duration": 20,
    "start_time": "2023-03-08T21:19:15.050Z"
   },
   {
    "duration": 396,
    "start_time": "2023-03-08T21:19:15.071Z"
   },
   {
    "duration": 11,
    "start_time": "2023-03-08T21:19:15.470Z"
   },
   {
    "duration": 24,
    "start_time": "2023-03-08T21:19:15.483Z"
   },
   {
    "duration": 326,
    "start_time": "2023-03-08T21:19:15.510Z"
   },
   {
    "duration": 6,
    "start_time": "2023-03-08T21:19:15.838Z"
   },
   {
    "duration": 287,
    "start_time": "2023-03-08T21:19:15.845Z"
   },
   {
    "duration": 212,
    "start_time": "2023-03-08T21:19:16.134Z"
   },
   {
    "duration": 238,
    "start_time": "2023-03-08T21:19:16.347Z"
   },
   {
    "duration": 9,
    "start_time": "2023-03-08T21:19:16.586Z"
   },
   {
    "duration": 178,
    "start_time": "2023-03-08T21:19:16.597Z"
   },
   {
    "duration": 9,
    "start_time": "2023-03-08T21:19:16.778Z"
   },
   {
    "duration": 217,
    "start_time": "2023-03-08T21:19:16.789Z"
   },
   {
    "duration": 385,
    "start_time": "2023-03-08T21:19:17.008Z"
   },
   {
    "duration": 11,
    "start_time": "2023-03-08T21:19:17.395Z"
   },
   {
    "duration": 83,
    "start_time": "2023-03-08T21:19:17.407Z"
   },
   {
    "duration": 89,
    "start_time": "2023-03-08T21:19:17.491Z"
   },
   {
    "duration": 88,
    "start_time": "2023-03-08T21:19:17.582Z"
   },
   {
    "duration": 12,
    "start_time": "2023-03-08T21:19:17.672Z"
   },
   {
    "duration": 18,
    "start_time": "2023-03-08T21:19:17.686Z"
   },
   {
    "duration": 1331,
    "start_time": "2023-03-09T05:24:04.862Z"
   },
   {
    "duration": 100,
    "start_time": "2023-03-09T05:24:07.732Z"
   },
   {
    "duration": 17,
    "start_time": "2023-03-09T05:24:08.716Z"
   },
   {
    "duration": 12,
    "start_time": "2023-03-09T05:24:10.931Z"
   },
   {
    "duration": 7,
    "start_time": "2023-03-09T05:24:13.474Z"
   },
   {
    "duration": 12,
    "start_time": "2023-03-09T05:24:16.635Z"
   },
   {
    "duration": 3,
    "start_time": "2023-03-09T05:24:17.893Z"
   },
   {
    "duration": 8,
    "start_time": "2023-03-09T05:24:19.316Z"
   },
   {
    "duration": 5,
    "start_time": "2023-03-09T05:24:22.035Z"
   },
   {
    "duration": 23,
    "start_time": "2023-03-09T05:24:23.991Z"
   },
   {
    "duration": 6,
    "start_time": "2023-03-09T05:24:25.914Z"
   },
   {
    "duration": 4,
    "start_time": "2023-03-09T05:24:27.764Z"
   },
   {
    "duration": 18,
    "start_time": "2023-03-09T05:24:28.876Z"
   },
   {
    "duration": 15,
    "start_time": "2023-03-09T05:24:32.001Z"
   },
   {
    "duration": 5,
    "start_time": "2023-03-09T05:24:33.357Z"
   },
   {
    "duration": 6,
    "start_time": "2023-03-09T05:24:35.191Z"
   },
   {
    "duration": 8,
    "start_time": "2023-03-09T05:24:37.327Z"
   },
   {
    "duration": 12,
    "start_time": "2023-03-09T05:24:39.367Z"
   },
   {
    "duration": 4,
    "start_time": "2023-03-09T05:24:43.558Z"
   },
   {
    "duration": 12,
    "start_time": "2023-03-09T05:24:44.597Z"
   },
   {
    "duration": 23,
    "start_time": "2023-03-09T05:24:48.671Z"
   },
   {
    "duration": 17,
    "start_time": "2023-03-09T05:24:51.101Z"
   },
   {
    "duration": 16,
    "start_time": "2023-03-09T05:25:12.725Z"
   },
   {
    "duration": 20,
    "start_time": "2023-03-09T05:25:16.052Z"
   },
   {
    "duration": 14,
    "start_time": "2023-03-09T05:26:05.779Z"
   },
   {
    "duration": 16,
    "start_time": "2023-03-09T05:28:37.922Z"
   },
   {
    "duration": 1360,
    "start_time": "2023-03-09T05:36:51.119Z"
   },
   {
    "duration": 53,
    "start_time": "2023-03-09T05:36:52.482Z"
   },
   {
    "duration": 20,
    "start_time": "2023-03-09T05:36:52.536Z"
   },
   {
    "duration": 15,
    "start_time": "2023-03-09T05:36:52.558Z"
   },
   {
    "duration": 5,
    "start_time": "2023-03-09T05:36:52.576Z"
   },
   {
    "duration": 14,
    "start_time": "2023-03-09T05:36:52.583Z"
   },
   {
    "duration": 6,
    "start_time": "2023-03-09T05:36:52.599Z"
   },
   {
    "duration": 12,
    "start_time": "2023-03-09T05:36:52.607Z"
   },
   {
    "duration": 6,
    "start_time": "2023-03-09T05:36:52.620Z"
   },
   {
    "duration": 57,
    "start_time": "2023-03-09T05:36:52.627Z"
   },
   {
    "duration": 4,
    "start_time": "2023-03-09T05:36:52.686Z"
   },
   {
    "duration": 5,
    "start_time": "2023-03-09T05:36:52.692Z"
   },
   {
    "duration": 11,
    "start_time": "2023-03-09T05:36:52.698Z"
   },
   {
    "duration": 14,
    "start_time": "2023-03-09T05:36:52.712Z"
   },
   {
    "duration": 6,
    "start_time": "2023-03-09T05:36:52.728Z"
   },
   {
    "duration": 7,
    "start_time": "2023-03-09T05:36:52.735Z"
   },
   {
    "duration": 38,
    "start_time": "2023-03-09T05:36:52.744Z"
   },
   {
    "duration": 15,
    "start_time": "2023-03-09T05:36:52.784Z"
   },
   {
    "duration": 2,
    "start_time": "2023-03-09T05:36:52.800Z"
   },
   {
    "duration": 9,
    "start_time": "2023-03-09T05:36:52.804Z"
   },
   {
    "duration": 12,
    "start_time": "2023-03-09T05:36:52.814Z"
   },
   {
    "duration": 15,
    "start_time": "2023-03-09T05:36:52.828Z"
   },
   {
    "duration": 36,
    "start_time": "2023-03-09T05:36:52.844Z"
   },
   {
    "duration": 17,
    "start_time": "2023-03-09T05:36:52.882Z"
   },
   {
    "duration": 18,
    "start_time": "2023-03-09T05:36:52.900Z"
   },
   {
    "duration": 17,
    "start_time": "2023-03-09T05:36:52.919Z"
   },
   {
    "duration": 44,
    "start_time": "2023-03-09T05:36:52.937Z"
   },
   {
    "duration": 333,
    "start_time": "2023-03-09T05:36:52.982Z"
   },
   {
    "duration": 7,
    "start_time": "2023-03-09T05:36:53.316Z"
   },
   {
    "duration": 295,
    "start_time": "2023-03-09T05:36:53.324Z"
   },
   {
    "duration": 9,
    "start_time": "2023-03-09T05:36:53.620Z"
   },
   {
    "duration": 17,
    "start_time": "2023-03-09T05:36:53.630Z"
   },
   {
    "duration": 321,
    "start_time": "2023-03-09T05:36:53.649Z"
   },
   {
    "duration": 7,
    "start_time": "2023-03-09T05:36:53.972Z"
   },
   {
    "duration": 276,
    "start_time": "2023-03-09T05:36:53.981Z"
   },
   {
    "duration": 188,
    "start_time": "2023-03-09T05:36:54.259Z"
   },
   {
    "duration": 199,
    "start_time": "2023-03-09T05:36:54.449Z"
   },
   {
    "duration": 8,
    "start_time": "2023-03-09T05:36:54.650Z"
   },
   {
    "duration": 144,
    "start_time": "2023-03-09T05:36:54.659Z"
   },
   {
    "duration": 8,
    "start_time": "2023-03-09T05:36:54.805Z"
   },
   {
    "duration": 187,
    "start_time": "2023-03-09T05:36:54.817Z"
   },
   {
    "duration": 189,
    "start_time": "2023-03-09T05:36:55.006Z"
   },
   {
    "duration": 10,
    "start_time": "2023-03-09T05:36:55.196Z"
   },
   {
    "duration": 25,
    "start_time": "2023-03-09T05:36:55.208Z"
   },
   {
    "duration": 55,
    "start_time": "2023-03-09T05:36:55.234Z"
   },
   {
    "duration": 25,
    "start_time": "2023-03-09T05:36:55.291Z"
   },
   {
    "duration": 8,
    "start_time": "2023-03-09T05:36:55.317Z"
   },
   {
    "duration": 7,
    "start_time": "2023-03-09T05:36:55.326Z"
   },
   {
    "duration": 1166,
    "start_time": "2023-03-09T05:44:45.556Z"
   },
   {
    "duration": 50,
    "start_time": "2023-03-09T05:44:46.723Z"
   },
   {
    "duration": 17,
    "start_time": "2023-03-09T05:44:46.775Z"
   },
   {
    "duration": 12,
    "start_time": "2023-03-09T05:44:46.794Z"
   },
   {
    "duration": 4,
    "start_time": "2023-03-09T05:44:46.807Z"
   },
   {
    "duration": 12,
    "start_time": "2023-03-09T05:44:46.812Z"
   },
   {
    "duration": 6,
    "start_time": "2023-03-09T05:44:46.826Z"
   },
   {
    "duration": 11,
    "start_time": "2023-03-09T05:44:46.833Z"
   },
   {
    "duration": 6,
    "start_time": "2023-03-09T05:44:46.845Z"
   },
   {
    "duration": 40,
    "start_time": "2023-03-09T05:44:46.853Z"
   },
   {
    "duration": 4,
    "start_time": "2023-03-09T05:44:46.894Z"
   },
   {
    "duration": 5,
    "start_time": "2023-03-09T05:44:46.899Z"
   },
   {
    "duration": 7,
    "start_time": "2023-03-09T05:44:46.906Z"
   },
   {
    "duration": 13,
    "start_time": "2023-03-09T05:44:46.914Z"
   },
   {
    "duration": 8,
    "start_time": "2023-03-09T05:44:46.929Z"
   },
   {
    "duration": 6,
    "start_time": "2023-03-09T05:44:46.938Z"
   },
   {
    "duration": 35,
    "start_time": "2023-03-09T05:44:46.946Z"
   },
   {
    "duration": 12,
    "start_time": "2023-03-09T05:44:46.982Z"
   },
   {
    "duration": 2,
    "start_time": "2023-03-09T05:44:46.995Z"
   },
   {
    "duration": 5,
    "start_time": "2023-03-09T05:44:46.998Z"
   },
   {
    "duration": 14,
    "start_time": "2023-03-09T05:44:47.004Z"
   },
   {
    "duration": 14,
    "start_time": "2023-03-09T05:44:47.019Z"
   },
   {
    "duration": 12,
    "start_time": "2023-03-09T05:44:47.034Z"
   },
   {
    "duration": 43,
    "start_time": "2023-03-09T05:44:47.047Z"
   },
   {
    "duration": 20,
    "start_time": "2023-03-09T05:44:47.091Z"
   },
   {
    "duration": 13,
    "start_time": "2023-03-09T05:44:47.113Z"
   },
   {
    "duration": 16,
    "start_time": "2023-03-09T05:44:47.128Z"
   },
   {
    "duration": 309,
    "start_time": "2023-03-09T05:44:47.147Z"
   },
   {
    "duration": 6,
    "start_time": "2023-03-09T05:44:47.457Z"
   },
   {
    "duration": 266,
    "start_time": "2023-03-09T05:44:47.464Z"
   },
   {
    "duration": 8,
    "start_time": "2023-03-09T05:44:47.732Z"
   },
   {
    "duration": 14,
    "start_time": "2023-03-09T05:44:47.741Z"
   },
   {
    "duration": 265,
    "start_time": "2023-03-09T05:44:47.757Z"
   },
   {
    "duration": 6,
    "start_time": "2023-03-09T05:44:48.024Z"
   },
   {
    "duration": 248,
    "start_time": "2023-03-09T05:44:48.031Z"
   },
   {
    "duration": 170,
    "start_time": "2023-03-09T05:44:48.281Z"
   },
   {
    "duration": 338,
    "start_time": "2023-03-09T05:44:48.452Z"
   },
   {
    "duration": 7,
    "start_time": "2023-03-09T05:44:48.791Z"
   },
   {
    "duration": 280,
    "start_time": "2023-03-09T05:44:48.799Z"
   },
   {
    "duration": 8,
    "start_time": "2023-03-09T05:44:49.081Z"
   },
   {
    "duration": 317,
    "start_time": "2023-03-09T05:44:49.090Z"
   },
   {
    "duration": 389,
    "start_time": "2023-03-09T05:44:49.409Z"
   },
   {
    "duration": 14,
    "start_time": "2023-03-09T05:44:49.801Z"
   },
   {
    "duration": 80,
    "start_time": "2023-03-09T05:44:49.816Z"
   },
   {
    "duration": 24,
    "start_time": "2023-03-09T05:44:49.897Z"
   },
   {
    "duration": 27,
    "start_time": "2023-03-09T05:44:49.980Z"
   },
   {
    "duration": 8,
    "start_time": "2023-03-09T05:44:50.009Z"
   },
   {
    "duration": 65,
    "start_time": "2023-03-09T05:44:50.018Z"
   },
   {
    "duration": 1021,
    "start_time": "2023-03-09T05:47:22.134Z"
   },
   {
    "duration": 50,
    "start_time": "2023-03-09T05:47:23.157Z"
   },
   {
    "duration": 18,
    "start_time": "2023-03-09T05:47:23.208Z"
   },
   {
    "duration": 12,
    "start_time": "2023-03-09T05:47:23.228Z"
   },
   {
    "duration": 8,
    "start_time": "2023-03-09T05:47:23.241Z"
   },
   {
    "duration": 15,
    "start_time": "2023-03-09T05:47:23.251Z"
   },
   {
    "duration": 21,
    "start_time": "2023-03-09T05:47:23.267Z"
   },
   {
    "duration": 24,
    "start_time": "2023-03-09T05:47:23.289Z"
   },
   {
    "duration": 7,
    "start_time": "2023-03-09T05:47:23.314Z"
   },
   {
    "duration": 25,
    "start_time": "2023-03-09T05:47:23.323Z"
   },
   {
    "duration": 4,
    "start_time": "2023-03-09T05:47:23.350Z"
   },
   {
    "duration": 28,
    "start_time": "2023-03-09T05:47:23.356Z"
   },
   {
    "duration": 13,
    "start_time": "2023-03-09T05:47:23.385Z"
   },
   {
    "duration": 20,
    "start_time": "2023-03-09T05:47:23.400Z"
   },
   {
    "duration": 6,
    "start_time": "2023-03-09T05:47:23.422Z"
   },
   {
    "duration": 8,
    "start_time": "2023-03-09T05:47:23.430Z"
   },
   {
    "duration": 25,
    "start_time": "2023-03-09T05:47:23.440Z"
   },
   {
    "duration": 23,
    "start_time": "2023-03-09T05:47:23.466Z"
   },
   {
    "duration": 13,
    "start_time": "2023-03-09T05:47:23.490Z"
   },
   {
    "duration": 19,
    "start_time": "2023-03-09T05:47:23.504Z"
   },
   {
    "duration": 43,
    "start_time": "2023-03-09T05:47:23.524Z"
   },
   {
    "duration": 17,
    "start_time": "2023-03-09T05:47:23.569Z"
   },
   {
    "duration": 14,
    "start_time": "2023-03-09T05:47:23.588Z"
   },
   {
    "duration": 17,
    "start_time": "2023-03-09T05:47:23.604Z"
   },
   {
    "duration": 17,
    "start_time": "2023-03-09T05:47:23.622Z"
   },
   {
    "duration": 14,
    "start_time": "2023-03-09T05:47:23.641Z"
   },
   {
    "duration": 3,
    "start_time": "2023-03-09T05:47:23.680Z"
   },
   {
    "duration": 17,
    "start_time": "2023-03-09T05:47:23.686Z"
   },
   {
    "duration": 315,
    "start_time": "2023-03-09T05:47:23.704Z"
   },
   {
    "duration": 7,
    "start_time": "2023-03-09T05:47:24.021Z"
   },
   {
    "duration": 261,
    "start_time": "2023-03-09T05:47:24.030Z"
   },
   {
    "duration": 9,
    "start_time": "2023-03-09T05:47:24.293Z"
   },
   {
    "duration": 35,
    "start_time": "2023-03-09T05:47:24.304Z"
   },
   {
    "duration": 249,
    "start_time": "2023-03-09T05:47:24.341Z"
   },
   {
    "duration": 6,
    "start_time": "2023-03-09T05:47:24.592Z"
   },
   {
    "duration": 519,
    "start_time": "2023-03-09T05:47:24.600Z"
   },
   {
    "duration": 365,
    "start_time": "2023-03-09T05:47:25.120Z"
   },
   {
    "duration": 329,
    "start_time": "2023-03-09T05:47:25.486Z"
   },
   {
    "duration": 7,
    "start_time": "2023-03-09T05:47:25.816Z"
   },
   {
    "duration": 356,
    "start_time": "2023-03-09T05:47:25.824Z"
   },
   {
    "duration": 7,
    "start_time": "2023-03-09T05:47:26.181Z"
   },
   {
    "duration": 231,
    "start_time": "2023-03-09T05:47:26.190Z"
   },
   {
    "duration": 172,
    "start_time": "2023-03-09T05:47:26.423Z"
   },
   {
    "duration": 9,
    "start_time": "2023-03-09T05:47:26.597Z"
   },
   {
    "duration": 27,
    "start_time": "2023-03-09T05:47:26.607Z"
   },
   {
    "duration": 49,
    "start_time": "2023-03-09T05:47:26.635Z"
   },
   {
    "duration": 20,
    "start_time": "2023-03-09T05:47:26.686Z"
   },
   {
    "duration": 6,
    "start_time": "2023-03-09T05:47:26.708Z"
   },
   {
    "duration": 7,
    "start_time": "2023-03-09T05:47:26.715Z"
   },
   {
    "duration": 21,
    "start_time": "2023-03-09T06:05:22.184Z"
   },
   {
    "duration": 1040,
    "start_time": "2023-03-09T06:05:59.530Z"
   },
   {
    "duration": 52,
    "start_time": "2023-03-09T06:06:00.572Z"
   },
   {
    "duration": 44,
    "start_time": "2023-03-09T06:06:00.625Z"
   },
   {
    "duration": 80,
    "start_time": "2023-03-09T06:06:00.670Z"
   },
   {
    "duration": 76,
    "start_time": "2023-03-09T06:06:00.752Z"
   },
   {
    "duration": 34,
    "start_time": "2023-03-09T06:06:00.830Z"
   },
   {
    "duration": 23,
    "start_time": "2023-03-09T06:06:00.865Z"
   },
   {
    "duration": 32,
    "start_time": "2023-03-09T06:06:00.889Z"
   },
   {
    "duration": 33,
    "start_time": "2023-03-09T06:06:00.923Z"
   },
   {
    "duration": 67,
    "start_time": "2023-03-09T06:06:00.959Z"
   },
   {
    "duration": 44,
    "start_time": "2023-03-09T06:06:01.027Z"
   },
   {
    "duration": 29,
    "start_time": "2023-03-09T06:06:01.073Z"
   },
   {
    "duration": 60,
    "start_time": "2023-03-09T06:06:01.103Z"
   },
   {
    "duration": 104,
    "start_time": "2023-03-09T06:06:01.165Z"
   },
   {
    "duration": 54,
    "start_time": "2023-03-09T06:06:01.271Z"
   },
   {
    "duration": 34,
    "start_time": "2023-03-09T06:06:01.326Z"
   },
   {
    "duration": 29,
    "start_time": "2023-03-09T06:06:01.362Z"
   },
   {
    "duration": 39,
    "start_time": "2023-03-09T06:06:01.392Z"
   },
   {
    "duration": 47,
    "start_time": "2023-03-09T06:06:01.433Z"
   },
   {
    "duration": 48,
    "start_time": "2023-03-09T06:06:01.482Z"
   },
   {
    "duration": 38,
    "start_time": "2023-03-09T06:06:01.532Z"
   },
   {
    "duration": 55,
    "start_time": "2023-03-09T06:06:01.572Z"
   },
   {
    "duration": 76,
    "start_time": "2023-03-09T06:06:01.628Z"
   },
   {
    "duration": 34,
    "start_time": "2023-03-09T06:06:01.705Z"
   },
   {
    "duration": 60,
    "start_time": "2023-03-09T06:06:01.740Z"
   },
   {
    "duration": 81,
    "start_time": "2023-03-09T06:06:01.801Z"
   },
   {
    "duration": 68,
    "start_time": "2023-03-09T06:06:01.883Z"
   },
   {
    "duration": 28,
    "start_time": "2023-03-09T06:06:01.954Z"
   },
   {
    "duration": 37,
    "start_time": "2023-03-09T06:06:01.983Z"
   },
   {
    "duration": 304,
    "start_time": "2023-03-09T06:06:02.022Z"
   },
   {
    "duration": 7,
    "start_time": "2023-03-09T06:06:02.327Z"
   },
   {
    "duration": 273,
    "start_time": "2023-03-09T06:06:02.335Z"
   },
   {
    "duration": 8,
    "start_time": "2023-03-09T06:06:02.610Z"
   },
   {
    "duration": 63,
    "start_time": "2023-03-09T06:06:02.619Z"
   },
   {
    "duration": 263,
    "start_time": "2023-03-09T06:06:02.683Z"
   },
   {
    "duration": 7,
    "start_time": "2023-03-09T06:06:02.948Z"
   },
   {
    "duration": 275,
    "start_time": "2023-03-09T06:06:02.956Z"
   },
   {
    "duration": 180,
    "start_time": "2023-03-09T06:06:03.233Z"
   },
   {
    "duration": 188,
    "start_time": "2023-03-09T06:06:03.415Z"
   },
   {
    "duration": 7,
    "start_time": "2023-03-09T06:06:03.605Z"
   },
   {
    "duration": 137,
    "start_time": "2023-03-09T06:06:03.613Z"
   },
   {
    "duration": 7,
    "start_time": "2023-03-09T06:06:03.751Z"
   },
   {
    "duration": 175,
    "start_time": "2023-03-09T06:06:03.760Z"
   },
   {
    "duration": 178,
    "start_time": "2023-03-09T06:06:03.936Z"
   },
   {
    "duration": 10,
    "start_time": "2023-03-09T06:06:04.116Z"
   },
   {
    "duration": 31,
    "start_time": "2023-03-09T06:06:04.127Z"
   },
   {
    "duration": 27,
    "start_time": "2023-03-09T06:06:04.180Z"
   },
   {
    "duration": 26,
    "start_time": "2023-03-09T06:06:04.208Z"
   },
   {
    "duration": 44,
    "start_time": "2023-03-09T06:06:04.236Z"
   },
   {
    "duration": 9,
    "start_time": "2023-03-09T06:06:04.281Z"
   },
   {
    "duration": 1030,
    "start_time": "2023-03-09T06:09:39.728Z"
   },
   {
    "duration": 50,
    "start_time": "2023-03-09T06:09:40.760Z"
   },
   {
    "duration": 17,
    "start_time": "2023-03-09T06:09:40.812Z"
   },
   {
    "duration": 12,
    "start_time": "2023-03-09T06:09:40.830Z"
   },
   {
    "duration": 9,
    "start_time": "2023-03-09T06:09:40.843Z"
   },
   {
    "duration": 13,
    "start_time": "2023-03-09T06:09:40.853Z"
   },
   {
    "duration": 14,
    "start_time": "2023-03-09T06:09:40.867Z"
   },
   {
    "duration": 9,
    "start_time": "2023-03-09T06:09:40.882Z"
   },
   {
    "duration": 4,
    "start_time": "2023-03-09T06:09:40.892Z"
   },
   {
    "duration": 25,
    "start_time": "2023-03-09T06:09:40.899Z"
   },
   {
    "duration": 4,
    "start_time": "2023-03-09T06:09:40.926Z"
   },
   {
    "duration": 18,
    "start_time": "2023-03-09T06:09:40.932Z"
   },
   {
    "duration": 28,
    "start_time": "2023-03-09T06:09:40.952Z"
   },
   {
    "duration": 16,
    "start_time": "2023-03-09T06:09:40.981Z"
   },
   {
    "duration": 6,
    "start_time": "2023-03-09T06:09:40.999Z"
   },
   {
    "duration": 10,
    "start_time": "2023-03-09T06:09:41.006Z"
   },
   {
    "duration": 9,
    "start_time": "2023-03-09T06:09:41.017Z"
   },
   {
    "duration": 13,
    "start_time": "2023-03-09T06:09:41.028Z"
   },
   {
    "duration": 2,
    "start_time": "2023-03-09T06:09:41.043Z"
   },
   {
    "duration": 5,
    "start_time": "2023-03-09T06:09:41.047Z"
   },
   {
    "duration": 36,
    "start_time": "2023-03-09T06:09:41.054Z"
   },
   {
    "duration": 15,
    "start_time": "2023-03-09T06:09:41.092Z"
   },
   {
    "duration": 14,
    "start_time": "2023-03-09T06:09:41.109Z"
   },
   {
    "duration": 15,
    "start_time": "2023-03-09T06:09:41.124Z"
   },
   {
    "duration": 43,
    "start_time": "2023-03-09T06:09:41.140Z"
   },
   {
    "duration": 14,
    "start_time": "2023-03-09T06:09:41.185Z"
   },
   {
    "duration": 5,
    "start_time": "2023-03-09T06:09:41.201Z"
   },
   {
    "duration": 8,
    "start_time": "2023-03-09T06:09:41.209Z"
   },
   {
    "duration": 188,
    "start_time": "2023-03-09T06:09:41.219Z"
   },
   {
    "duration": 0,
    "start_time": "2023-03-09T06:09:41.409Z"
   },
   {
    "duration": 0,
    "start_time": "2023-03-09T06:09:41.410Z"
   },
   {
    "duration": 0,
    "start_time": "2023-03-09T06:09:41.412Z"
   },
   {
    "duration": 0,
    "start_time": "2023-03-09T06:09:41.413Z"
   },
   {
    "duration": 0,
    "start_time": "2023-03-09T06:09:41.414Z"
   },
   {
    "duration": 0,
    "start_time": "2023-03-09T06:09:41.415Z"
   },
   {
    "duration": 1,
    "start_time": "2023-03-09T06:09:41.416Z"
   },
   {
    "duration": 0,
    "start_time": "2023-03-09T06:09:41.418Z"
   },
   {
    "duration": 0,
    "start_time": "2023-03-09T06:09:41.419Z"
   },
   {
    "duration": 0,
    "start_time": "2023-03-09T06:09:41.420Z"
   },
   {
    "duration": 0,
    "start_time": "2023-03-09T06:09:41.422Z"
   },
   {
    "duration": 0,
    "start_time": "2023-03-09T06:09:41.423Z"
   },
   {
    "duration": 0,
    "start_time": "2023-03-09T06:09:41.424Z"
   },
   {
    "duration": 0,
    "start_time": "2023-03-09T06:09:41.426Z"
   },
   {
    "duration": 0,
    "start_time": "2023-03-09T06:09:41.427Z"
   },
   {
    "duration": 0,
    "start_time": "2023-03-09T06:09:41.428Z"
   },
   {
    "duration": 0,
    "start_time": "2023-03-09T06:09:41.430Z"
   },
   {
    "duration": 0,
    "start_time": "2023-03-09T06:09:41.431Z"
   },
   {
    "duration": 0,
    "start_time": "2023-03-09T06:09:41.433Z"
   },
   {
    "duration": 0,
    "start_time": "2023-03-09T06:09:41.434Z"
   },
   {
    "duration": 0,
    "start_time": "2023-03-09T06:09:41.435Z"
   },
   {
    "duration": 9,
    "start_time": "2023-03-09T06:10:10.095Z"
   },
   {
    "duration": 22,
    "start_time": "2023-03-09T06:10:54.641Z"
   },
   {
    "duration": 12,
    "start_time": "2023-03-09T06:11:02.696Z"
   },
   {
    "duration": 8,
    "start_time": "2023-03-09T06:12:36.364Z"
   },
   {
    "duration": 11,
    "start_time": "2023-03-09T06:12:48.620Z"
   },
   {
    "duration": 7,
    "start_time": "2023-03-09T06:14:25.460Z"
   },
   {
    "duration": 7,
    "start_time": "2023-03-09T06:14:29.576Z"
   },
   {
    "duration": 274,
    "start_time": "2023-03-09T06:15:39.131Z"
   },
   {
    "duration": 8,
    "start_time": "2023-03-09T06:28:20.914Z"
   },
   {
    "duration": 6,
    "start_time": "2023-03-09T06:28:33.171Z"
   },
   {
    "duration": 258,
    "start_time": "2023-03-09T06:29:31.497Z"
   },
   {
    "duration": 7,
    "start_time": "2023-03-09T06:29:42.606Z"
   },
   {
    "duration": 14,
    "start_time": "2023-03-09T06:29:44.568Z"
   },
   {
    "duration": 253,
    "start_time": "2023-03-09T06:29:49.977Z"
   },
   {
    "duration": 6,
    "start_time": "2023-03-09T06:37:11.387Z"
   },
   {
    "duration": 266,
    "start_time": "2023-03-09T06:40:05.123Z"
   },
   {
    "duration": 264,
    "start_time": "2023-03-09T06:40:30.891Z"
   },
   {
    "duration": 266,
    "start_time": "2023-03-09T06:40:43.595Z"
   },
   {
    "duration": 354,
    "start_time": "2023-03-09T06:41:22.138Z"
   },
   {
    "duration": 3,
    "start_time": "2023-03-09T06:44:04.370Z"
   },
   {
    "duration": 62,
    "start_time": "2023-03-09T06:44:04.385Z"
   },
   {
    "duration": 15,
    "start_time": "2023-03-09T06:44:04.450Z"
   },
   {
    "duration": 23,
    "start_time": "2023-03-09T06:44:04.466Z"
   },
   {
    "duration": 22,
    "start_time": "2023-03-09T06:44:04.492Z"
   },
   {
    "duration": 24,
    "start_time": "2023-03-09T06:44:04.515Z"
   },
   {
    "duration": 8,
    "start_time": "2023-03-09T06:44:04.540Z"
   },
   {
    "duration": 16,
    "start_time": "2023-03-09T06:44:04.549Z"
   },
   {
    "duration": 22,
    "start_time": "2023-03-09T06:44:04.567Z"
   },
   {
    "duration": 28,
    "start_time": "2023-03-09T06:44:04.591Z"
   },
   {
    "duration": 4,
    "start_time": "2023-03-09T06:44:04.621Z"
   },
   {
    "duration": 11,
    "start_time": "2023-03-09T06:44:04.627Z"
   },
   {
    "duration": 8,
    "start_time": "2023-03-09T06:44:04.640Z"
   },
   {
    "duration": 14,
    "start_time": "2023-03-09T06:44:04.649Z"
   },
   {
    "duration": 31,
    "start_time": "2023-03-09T06:44:04.665Z"
   },
   {
    "duration": 6,
    "start_time": "2023-03-09T06:44:04.697Z"
   },
   {
    "duration": 11,
    "start_time": "2023-03-09T06:44:04.705Z"
   },
   {
    "duration": 30,
    "start_time": "2023-03-09T06:44:04.717Z"
   },
   {
    "duration": 2,
    "start_time": "2023-03-09T06:44:04.749Z"
   },
   {
    "duration": 6,
    "start_time": "2023-03-09T06:44:04.753Z"
   },
   {
    "duration": 12,
    "start_time": "2023-03-09T06:44:04.761Z"
   },
   {
    "duration": 27,
    "start_time": "2023-03-09T06:44:04.775Z"
   },
   {
    "duration": 14,
    "start_time": "2023-03-09T06:44:04.803Z"
   },
   {
    "duration": 15,
    "start_time": "2023-03-09T06:44:04.818Z"
   },
   {
    "duration": 15,
    "start_time": "2023-03-09T06:44:04.835Z"
   },
   {
    "duration": 39,
    "start_time": "2023-03-09T06:44:04.852Z"
   },
   {
    "duration": 13,
    "start_time": "2023-03-09T06:44:04.892Z"
   },
   {
    "duration": 14,
    "start_time": "2023-03-09T06:44:04.906Z"
   },
   {
    "duration": 22,
    "start_time": "2023-03-09T06:44:04.922Z"
   },
   {
    "duration": 7,
    "start_time": "2023-03-09T06:44:04.946Z"
   },
   {
    "duration": 297,
    "start_time": "2023-03-09T06:44:04.955Z"
   },
   {
    "duration": 270,
    "start_time": "2023-03-09T06:44:05.253Z"
   },
   {
    "duration": 9,
    "start_time": "2023-03-09T06:44:05.525Z"
   },
   {
    "duration": 32,
    "start_time": "2023-03-09T06:44:05.535Z"
   },
   {
    "duration": 264,
    "start_time": "2023-03-09T06:44:05.568Z"
   },
   {
    "duration": 5,
    "start_time": "2023-03-09T06:44:05.834Z"
   },
   {
    "duration": 276,
    "start_time": "2023-03-09T06:45:26.729Z"
   },
   {
    "duration": 263,
    "start_time": "2023-03-09T06:46:43.361Z"
   },
   {
    "duration": 284,
    "start_time": "2023-03-09T06:47:04.178Z"
   },
   {
    "duration": 274,
    "start_time": "2023-03-09T06:48:09.729Z"
   },
   {
    "duration": 248,
    "start_time": "2023-03-09T06:50:29.016Z"
   },
   {
    "duration": 3,
    "start_time": "2023-03-09T06:51:52.699Z"
   },
   {
    "duration": 54,
    "start_time": "2023-03-09T06:51:52.710Z"
   },
   {
    "duration": 25,
    "start_time": "2023-03-09T06:51:52.766Z"
   },
   {
    "duration": 26,
    "start_time": "2023-03-09T06:51:52.793Z"
   },
   {
    "duration": 6,
    "start_time": "2023-03-09T06:51:52.821Z"
   },
   {
    "duration": 18,
    "start_time": "2023-03-09T06:51:52.829Z"
   },
   {
    "duration": 4,
    "start_time": "2023-03-09T06:51:52.849Z"
   },
   {
    "duration": 25,
    "start_time": "2023-03-09T06:51:52.855Z"
   },
   {
    "duration": 9,
    "start_time": "2023-03-09T06:51:52.885Z"
   },
   {
    "duration": 25,
    "start_time": "2023-03-09T06:51:52.896Z"
   },
   {
    "duration": 5,
    "start_time": "2023-03-09T06:51:52.923Z"
   },
   {
    "duration": 5,
    "start_time": "2023-03-09T06:51:52.930Z"
   },
   {
    "duration": 14,
    "start_time": "2023-03-09T06:51:52.936Z"
   },
   {
    "duration": 44,
    "start_time": "2023-03-09T06:51:52.952Z"
   },
   {
    "duration": 13,
    "start_time": "2023-03-09T06:51:52.998Z"
   },
   {
    "duration": 5,
    "start_time": "2023-03-09T06:51:53.013Z"
   },
   {
    "duration": 9,
    "start_time": "2023-03-09T06:51:53.020Z"
   },
   {
    "duration": 14,
    "start_time": "2023-03-09T06:51:53.030Z"
   },
   {
    "duration": 2,
    "start_time": "2023-03-09T06:51:53.047Z"
   },
   {
    "duration": 12,
    "start_time": "2023-03-09T06:51:53.051Z"
   },
   {
    "duration": 42,
    "start_time": "2023-03-09T06:51:53.077Z"
   },
   {
    "duration": 20,
    "start_time": "2023-03-09T06:51:53.121Z"
   },
   {
    "duration": 15,
    "start_time": "2023-03-09T06:51:53.143Z"
   },
   {
    "duration": 35,
    "start_time": "2023-03-09T06:51:53.159Z"
   },
   {
    "duration": 18,
    "start_time": "2023-03-09T06:51:53.196Z"
   },
   {
    "duration": 18,
    "start_time": "2023-03-09T06:51:53.215Z"
   },
   {
    "duration": 3,
    "start_time": "2023-03-09T06:51:53.235Z"
   },
   {
    "duration": 9,
    "start_time": "2023-03-09T06:51:53.239Z"
   },
   {
    "duration": 46,
    "start_time": "2023-03-09T06:51:53.249Z"
   },
   {
    "duration": 8,
    "start_time": "2023-03-09T06:51:53.297Z"
   },
   {
    "duration": 311,
    "start_time": "2023-03-09T06:51:53.307Z"
   },
   {
    "duration": 315,
    "start_time": "2023-03-09T06:51:53.620Z"
   },
   {
    "duration": 9,
    "start_time": "2023-03-09T06:51:53.937Z"
   },
   {
    "duration": 18,
    "start_time": "2023-03-09T06:51:53.947Z"
   },
   {
    "duration": 285,
    "start_time": "2023-03-09T06:51:53.966Z"
   },
   {
    "duration": 5,
    "start_time": "2023-03-09T06:51:54.253Z"
   },
   {
    "duration": 52,
    "start_time": "2023-03-09T06:51:54.259Z"
   },
   {
    "duration": 283,
    "start_time": "2023-03-09T06:52:44.454Z"
   },
   {
    "duration": 287,
    "start_time": "2023-03-09T06:52:58.046Z"
   },
   {
    "duration": 203,
    "start_time": "2023-03-09T06:53:19.994Z"
   },
   {
    "duration": 188,
    "start_time": "2023-03-09T06:53:31.463Z"
   },
   {
    "duration": 268,
    "start_time": "2023-03-09T06:53:37.693Z"
   },
   {
    "duration": 191,
    "start_time": "2023-03-09T06:53:43.468Z"
   },
   {
    "duration": 111,
    "start_time": "2023-03-09T06:54:04.035Z"
   },
   {
    "duration": 119,
    "start_time": "2023-03-09T06:54:13.621Z"
   },
   {
    "duration": 196,
    "start_time": "2023-03-09T06:55:16.276Z"
   },
   {
    "duration": 136,
    "start_time": "2023-03-09T07:07:27.235Z"
   },
   {
    "duration": 7,
    "start_time": "2023-03-09T07:07:38.359Z"
   },
   {
    "duration": 133,
    "start_time": "2023-03-09T07:07:53.904Z"
   },
   {
    "duration": 7,
    "start_time": "2023-03-09T07:08:23.500Z"
   },
   {
    "duration": 147,
    "start_time": "2023-03-09T07:13:12.497Z"
   },
   {
    "duration": 139,
    "start_time": "2023-03-09T07:14:28.131Z"
   },
   {
    "duration": 8,
    "start_time": "2023-03-09T07:14:50.137Z"
   },
   {
    "duration": 143,
    "start_time": "2023-03-09T07:17:07.390Z"
   },
   {
    "duration": 892,
    "start_time": "2023-03-09T07:17:40.363Z"
   },
   {
    "duration": 9,
    "start_time": "2023-03-09T07:17:43.691Z"
   },
   {
    "duration": 141,
    "start_time": "2023-03-09T07:22:12.415Z"
   },
   {
    "duration": 158,
    "start_time": "2023-03-09T07:22:27.432Z"
   },
   {
    "duration": 160,
    "start_time": "2023-03-09T07:22:59.026Z"
   },
   {
    "duration": 7,
    "start_time": "2023-03-09T07:23:46.331Z"
   },
   {
    "duration": 135,
    "start_time": "2023-03-09T07:25:07.941Z"
   },
   {
    "duration": 7,
    "start_time": "2023-03-09T07:26:24.119Z"
   },
   {
    "duration": 176,
    "start_time": "2023-03-09T07:27:32.643Z"
   },
   {
    "duration": 186,
    "start_time": "2023-03-09T07:27:35.890Z"
   },
   {
    "duration": 10,
    "start_time": "2023-03-09T07:28:30.203Z"
   },
   {
    "duration": 161,
    "start_time": "2023-03-09T07:28:38.157Z"
   },
   {
    "duration": 283,
    "start_time": "2023-03-09T07:32:42.378Z"
   },
   {
    "duration": 191,
    "start_time": "2023-03-09T07:37:16.727Z"
   },
   {
    "duration": 184,
    "start_time": "2023-03-09T07:40:58.160Z"
   },
   {
    "duration": 10,
    "start_time": "2023-03-09T07:41:18.705Z"
   },
   {
    "duration": 15,
    "start_time": "2023-03-09T07:43:31.401Z"
   },
   {
    "duration": 5,
    "start_time": "2023-03-09T07:50:16.958Z"
   },
   {
    "duration": 7,
    "start_time": "2023-03-09T07:54:08.370Z"
   },
   {
    "duration": 6,
    "start_time": "2023-03-09T07:56:36.205Z"
   },
   {
    "duration": 8,
    "start_time": "2023-03-09T07:57:00.363Z"
   },
   {
    "duration": 208,
    "start_time": "2023-03-09T08:02:41.647Z"
   },
   {
    "duration": 15,
    "start_time": "2023-03-09T08:02:51.223Z"
   },
   {
    "duration": 7,
    "start_time": "2023-03-09T08:03:05.195Z"
   },
   {
    "duration": 3,
    "start_time": "2023-03-09T08:04:24.055Z"
   },
   {
    "duration": 52,
    "start_time": "2023-03-09T08:04:24.091Z"
   },
   {
    "duration": 14,
    "start_time": "2023-03-09T08:04:24.145Z"
   },
   {
    "duration": 13,
    "start_time": "2023-03-09T08:04:24.161Z"
   },
   {
    "duration": 18,
    "start_time": "2023-03-09T08:04:24.176Z"
   },
   {
    "duration": 18,
    "start_time": "2023-03-09T08:04:24.195Z"
   },
   {
    "duration": 5,
    "start_time": "2023-03-09T08:04:24.214Z"
   },
   {
    "duration": 8,
    "start_time": "2023-03-09T08:04:24.221Z"
   },
   {
    "duration": 8,
    "start_time": "2023-03-09T08:04:24.230Z"
   },
   {
    "duration": 25,
    "start_time": "2023-03-09T08:04:24.239Z"
   },
   {
    "duration": 19,
    "start_time": "2023-03-09T08:04:24.266Z"
   },
   {
    "duration": 9,
    "start_time": "2023-03-09T08:04:24.286Z"
   },
   {
    "duration": 8,
    "start_time": "2023-03-09T08:04:24.297Z"
   },
   {
    "duration": 13,
    "start_time": "2023-03-09T08:04:24.306Z"
   },
   {
    "duration": 7,
    "start_time": "2023-03-09T08:04:24.321Z"
   },
   {
    "duration": 5,
    "start_time": "2023-03-09T08:04:24.330Z"
   },
   {
    "duration": 10,
    "start_time": "2023-03-09T08:04:24.336Z"
   },
   {
    "duration": 9,
    "start_time": "2023-03-09T08:04:24.347Z"
   },
   {
    "duration": 29,
    "start_time": "2023-03-09T08:04:24.379Z"
   },
   {
    "duration": 6,
    "start_time": "2023-03-09T08:04:24.409Z"
   },
   {
    "duration": 18,
    "start_time": "2023-03-09T08:04:24.416Z"
   },
   {
    "duration": 3,
    "start_time": "2023-03-09T08:04:24.436Z"
   },
   {
    "duration": 224,
    "start_time": "2023-03-09T08:04:24.440Z"
   },
   {
    "duration": 0,
    "start_time": "2023-03-09T08:04:24.666Z"
   },
   {
    "duration": 0,
    "start_time": "2023-03-09T08:04:24.667Z"
   },
   {
    "duration": 0,
    "start_time": "2023-03-09T08:04:24.668Z"
   },
   {
    "duration": 0,
    "start_time": "2023-03-09T08:04:24.669Z"
   },
   {
    "duration": 0,
    "start_time": "2023-03-09T08:04:24.670Z"
   },
   {
    "duration": 0,
    "start_time": "2023-03-09T08:04:24.671Z"
   },
   {
    "duration": 0,
    "start_time": "2023-03-09T08:04:24.672Z"
   },
   {
    "duration": 0,
    "start_time": "2023-03-09T08:04:24.673Z"
   },
   {
    "duration": 0,
    "start_time": "2023-03-09T08:04:24.674Z"
   },
   {
    "duration": 0,
    "start_time": "2023-03-09T08:04:24.674Z"
   },
   {
    "duration": 0,
    "start_time": "2023-03-09T08:04:24.675Z"
   },
   {
    "duration": 0,
    "start_time": "2023-03-09T08:04:24.676Z"
   },
   {
    "duration": 0,
    "start_time": "2023-03-09T08:04:24.677Z"
   },
   {
    "duration": 0,
    "start_time": "2023-03-09T08:04:24.678Z"
   },
   {
    "duration": 0,
    "start_time": "2023-03-09T08:04:24.679Z"
   },
   {
    "duration": 0,
    "start_time": "2023-03-09T08:04:24.679Z"
   },
   {
    "duration": 0,
    "start_time": "2023-03-09T08:04:24.680Z"
   },
   {
    "duration": 0,
    "start_time": "2023-03-09T08:04:24.680Z"
   },
   {
    "duration": 0,
    "start_time": "2023-03-09T08:04:24.680Z"
   },
   {
    "duration": 0,
    "start_time": "2023-03-09T08:04:24.681Z"
   },
   {
    "duration": 0,
    "start_time": "2023-03-09T08:04:24.681Z"
   },
   {
    "duration": 0,
    "start_time": "2023-03-09T08:04:24.682Z"
   },
   {
    "duration": 1055,
    "start_time": "2023-03-09T08:04:24.693Z"
   },
   {
    "duration": 0,
    "start_time": "2023-03-09T08:04:25.749Z"
   },
   {
    "duration": 0,
    "start_time": "2023-03-09T08:04:25.750Z"
   },
   {
    "duration": 0,
    "start_time": "2023-03-09T08:04:25.751Z"
   },
   {
    "duration": 1,
    "start_time": "2023-03-09T08:04:25.752Z"
   },
   {
    "duration": 0,
    "start_time": "2023-03-09T08:04:25.753Z"
   },
   {
    "duration": 0,
    "start_time": "2023-03-09T08:04:25.754Z"
   },
   {
    "duration": 0,
    "start_time": "2023-03-09T08:04:25.755Z"
   },
   {
    "duration": 0,
    "start_time": "2023-03-09T08:04:25.755Z"
   },
   {
    "duration": 0,
    "start_time": "2023-03-09T08:04:25.756Z"
   },
   {
    "duration": 0,
    "start_time": "2023-03-09T08:04:25.756Z"
   },
   {
    "duration": 0,
    "start_time": "2023-03-09T08:04:25.757Z"
   },
   {
    "duration": 0,
    "start_time": "2023-03-09T08:04:25.758Z"
   },
   {
    "duration": 10,
    "start_time": "2023-03-09T08:04:34.210Z"
   },
   {
    "duration": 1069,
    "start_time": "2023-03-09T08:05:47.878Z"
   },
   {
    "duration": 52,
    "start_time": "2023-03-09T08:05:48.949Z"
   },
   {
    "duration": 18,
    "start_time": "2023-03-09T08:05:49.003Z"
   },
   {
    "duration": 13,
    "start_time": "2023-03-09T08:05:49.023Z"
   },
   {
    "duration": 4,
    "start_time": "2023-03-09T08:05:49.037Z"
   },
   {
    "duration": 20,
    "start_time": "2023-03-09T08:05:49.043Z"
   },
   {
    "duration": 13,
    "start_time": "2023-03-09T08:05:49.081Z"
   },
   {
    "duration": 9,
    "start_time": "2023-03-09T08:05:49.095Z"
   },
   {
    "duration": 6,
    "start_time": "2023-03-09T08:05:49.106Z"
   },
   {
    "duration": 31,
    "start_time": "2023-03-09T08:05:49.114Z"
   },
   {
    "duration": 4,
    "start_time": "2023-03-09T08:05:49.147Z"
   },
   {
    "duration": 4,
    "start_time": "2023-03-09T08:05:49.152Z"
   },
   {
    "duration": 9,
    "start_time": "2023-03-09T08:05:49.158Z"
   },
   {
    "duration": 14,
    "start_time": "2023-03-09T08:05:49.189Z"
   },
   {
    "duration": 7,
    "start_time": "2023-03-09T08:05:49.205Z"
   },
   {
    "duration": 5,
    "start_time": "2023-03-09T08:05:49.214Z"
   },
   {
    "duration": 7,
    "start_time": "2023-03-09T08:05:49.221Z"
   },
   {
    "duration": 6,
    "start_time": "2023-03-09T08:05:49.230Z"
   },
   {
    "duration": 20,
    "start_time": "2023-03-09T08:05:49.238Z"
   },
   {
    "duration": 38,
    "start_time": "2023-03-09T08:05:49.259Z"
   },
   {
    "duration": 27,
    "start_time": "2023-03-09T08:05:49.298Z"
   },
   {
    "duration": 4,
    "start_time": "2023-03-09T08:05:49.327Z"
   },
   {
    "duration": 306,
    "start_time": "2023-03-09T08:05:49.332Z"
   },
   {
    "duration": 0,
    "start_time": "2023-03-09T08:05:49.641Z"
   },
   {
    "duration": 0,
    "start_time": "2023-03-09T08:05:49.642Z"
   },
   {
    "duration": 0,
    "start_time": "2023-03-09T08:05:49.643Z"
   },
   {
    "duration": 0,
    "start_time": "2023-03-09T08:05:49.644Z"
   },
   {
    "duration": 0,
    "start_time": "2023-03-09T08:05:49.646Z"
   },
   {
    "duration": 0,
    "start_time": "2023-03-09T08:05:49.647Z"
   },
   {
    "duration": 0,
    "start_time": "2023-03-09T08:05:49.648Z"
   },
   {
    "duration": 0,
    "start_time": "2023-03-09T08:05:49.650Z"
   },
   {
    "duration": 0,
    "start_time": "2023-03-09T08:05:49.651Z"
   },
   {
    "duration": 0,
    "start_time": "2023-03-09T08:05:49.652Z"
   },
   {
    "duration": 0,
    "start_time": "2023-03-09T08:05:49.652Z"
   },
   {
    "duration": 0,
    "start_time": "2023-03-09T08:05:49.653Z"
   },
   {
    "duration": 0,
    "start_time": "2023-03-09T08:05:49.654Z"
   },
   {
    "duration": 0,
    "start_time": "2023-03-09T08:05:49.655Z"
   },
   {
    "duration": 0,
    "start_time": "2023-03-09T08:05:49.656Z"
   },
   {
    "duration": 0,
    "start_time": "2023-03-09T08:05:49.657Z"
   },
   {
    "duration": 0,
    "start_time": "2023-03-09T08:05:49.658Z"
   },
   {
    "duration": 0,
    "start_time": "2023-03-09T08:05:49.658Z"
   },
   {
    "duration": 0,
    "start_time": "2023-03-09T08:05:49.659Z"
   },
   {
    "duration": 0,
    "start_time": "2023-03-09T08:05:49.660Z"
   },
   {
    "duration": 0,
    "start_time": "2023-03-09T08:05:49.661Z"
   },
   {
    "duration": 0,
    "start_time": "2023-03-09T08:05:49.661Z"
   },
   {
    "duration": 0,
    "start_time": "2023-03-09T08:05:49.662Z"
   },
   {
    "duration": 0,
    "start_time": "2023-03-09T08:05:49.663Z"
   },
   {
    "duration": 0,
    "start_time": "2023-03-09T08:05:49.664Z"
   },
   {
    "duration": 0,
    "start_time": "2023-03-09T08:05:49.665Z"
   },
   {
    "duration": 0,
    "start_time": "2023-03-09T08:05:49.666Z"
   },
   {
    "duration": 0,
    "start_time": "2023-03-09T08:05:49.666Z"
   },
   {
    "duration": 0,
    "start_time": "2023-03-09T08:05:49.667Z"
   },
   {
    "duration": 0,
    "start_time": "2023-03-09T08:05:49.668Z"
   },
   {
    "duration": 0,
    "start_time": "2023-03-09T08:05:49.669Z"
   },
   {
    "duration": 0,
    "start_time": "2023-03-09T08:05:49.670Z"
   },
   {
    "duration": 0,
    "start_time": "2023-03-09T08:05:49.670Z"
   },
   {
    "duration": 0,
    "start_time": "2023-03-09T08:05:49.671Z"
   },
   {
    "duration": 0,
    "start_time": "2023-03-09T08:05:49.672Z"
   },
   {
    "duration": 0,
    "start_time": "2023-03-09T08:05:49.673Z"
   },
   {
    "duration": 0,
    "start_time": "2023-03-09T08:05:49.673Z"
   },
   {
    "duration": 0,
    "start_time": "2023-03-09T08:05:49.674Z"
   },
   {
    "duration": 8,
    "start_time": "2023-03-09T08:06:39.691Z"
   },
   {
    "duration": 1057,
    "start_time": "2023-03-09T08:07:14.410Z"
   },
   {
    "duration": 58,
    "start_time": "2023-03-09T08:07:15.469Z"
   },
   {
    "duration": 17,
    "start_time": "2023-03-09T08:07:15.528Z"
   },
   {
    "duration": 13,
    "start_time": "2023-03-09T08:07:15.547Z"
   },
   {
    "duration": 7,
    "start_time": "2023-03-09T08:07:15.561Z"
   },
   {
    "duration": 22,
    "start_time": "2023-03-09T08:07:15.570Z"
   },
   {
    "duration": 14,
    "start_time": "2023-03-09T08:07:15.594Z"
   },
   {
    "duration": 17,
    "start_time": "2023-03-09T08:07:15.609Z"
   },
   {
    "duration": 6,
    "start_time": "2023-03-09T08:07:15.627Z"
   },
   {
    "duration": 21,
    "start_time": "2023-03-09T08:07:15.636Z"
   },
   {
    "duration": 5,
    "start_time": "2023-03-09T08:07:15.658Z"
   },
   {
    "duration": 16,
    "start_time": "2023-03-09T08:07:15.665Z"
   },
   {
    "duration": 8,
    "start_time": "2023-03-09T08:07:15.690Z"
   },
   {
    "duration": 14,
    "start_time": "2023-03-09T08:07:15.699Z"
   },
   {
    "duration": 5,
    "start_time": "2023-03-09T08:07:15.714Z"
   },
   {
    "duration": 5,
    "start_time": "2023-03-09T08:07:15.721Z"
   },
   {
    "duration": 8,
    "start_time": "2023-03-09T08:07:15.727Z"
   },
   {
    "duration": 9,
    "start_time": "2023-03-09T08:07:15.736Z"
   },
   {
    "duration": 5,
    "start_time": "2023-03-09T08:07:15.747Z"
   },
   {
    "duration": 41,
    "start_time": "2023-03-09T08:07:15.753Z"
   },
   {
    "duration": 13,
    "start_time": "2023-03-09T08:07:15.795Z"
   },
   {
    "duration": 3,
    "start_time": "2023-03-09T08:07:15.810Z"
   },
   {
    "duration": 8,
    "start_time": "2023-03-09T08:07:15.814Z"
   },
   {
    "duration": 12,
    "start_time": "2023-03-09T08:07:15.823Z"
   },
   {
    "duration": 14,
    "start_time": "2023-03-09T08:07:15.836Z"
   },
   {
    "duration": 41,
    "start_time": "2023-03-09T08:07:15.851Z"
   },
   {
    "duration": 18,
    "start_time": "2023-03-09T08:07:15.893Z"
   },
   {
    "duration": 26,
    "start_time": "2023-03-09T08:07:15.914Z"
   },
   {
    "duration": 21,
    "start_time": "2023-03-09T08:07:15.942Z"
   },
   {
    "duration": 35,
    "start_time": "2023-03-09T08:07:15.965Z"
   },
   {
    "duration": 11,
    "start_time": "2023-03-09T08:07:16.002Z"
   },
   {
    "duration": 11,
    "start_time": "2023-03-09T08:07:16.015Z"
   },
   {
    "duration": 8,
    "start_time": "2023-03-09T08:07:16.028Z"
   },
   {
    "duration": 356,
    "start_time": "2023-03-09T08:07:16.038Z"
   },
   {
    "duration": 257,
    "start_time": "2023-03-09T08:07:16.396Z"
   },
   {
    "duration": 8,
    "start_time": "2023-03-09T08:07:16.655Z"
   },
   {
    "duration": 26,
    "start_time": "2023-03-09T08:07:16.664Z"
   },
   {
    "duration": 271,
    "start_time": "2023-03-09T08:07:16.691Z"
   },
   {
    "duration": 5,
    "start_time": "2023-03-09T08:07:16.964Z"
   },
   {
    "duration": 295,
    "start_time": "2023-03-09T08:07:16.971Z"
   },
   {
    "duration": 208,
    "start_time": "2023-03-09T08:07:17.268Z"
   },
   {
    "duration": 187,
    "start_time": "2023-03-09T08:07:17.477Z"
   },
   {
    "duration": 9,
    "start_time": "2023-03-09T08:07:17.665Z"
   },
   {
    "duration": 140,
    "start_time": "2023-03-09T08:07:17.675Z"
   },
   {
    "duration": 7,
    "start_time": "2023-03-09T08:07:17.817Z"
   },
   {
    "duration": 167,
    "start_time": "2023-03-09T08:07:17.825Z"
   },
   {
    "duration": 9,
    "start_time": "2023-03-09T08:07:17.994Z"
   },
   {
    "duration": 155,
    "start_time": "2023-03-09T08:07:18.004Z"
   },
   {
    "duration": 7,
    "start_time": "2023-03-09T08:07:18.161Z"
   },
   {
    "duration": 153,
    "start_time": "2023-03-09T08:07:18.169Z"
   },
   {
    "duration": 8,
    "start_time": "2023-03-09T08:07:18.323Z"
   },
   {
    "duration": 168,
    "start_time": "2023-03-09T08:07:18.332Z"
   },
   {
    "duration": 9,
    "start_time": "2023-03-09T08:07:18.501Z"
   },
   {
    "duration": 184,
    "start_time": "2023-03-09T08:07:18.511Z"
   },
   {
    "duration": 180,
    "start_time": "2023-03-09T08:07:18.697Z"
   },
   {
    "duration": 16,
    "start_time": "2023-03-09T08:07:18.879Z"
   },
   {
    "duration": 24,
    "start_time": "2023-03-09T08:07:18.896Z"
   },
   {
    "duration": 24,
    "start_time": "2023-03-09T08:07:18.921Z"
   },
   {
    "duration": 66,
    "start_time": "2023-03-09T08:07:18.946Z"
   },
   {
    "duration": 7,
    "start_time": "2023-03-09T08:07:19.014Z"
   },
   {
    "duration": 19,
    "start_time": "2023-03-09T08:07:19.023Z"
   },
   {
    "duration": 1087,
    "start_time": "2023-03-09T08:07:40.391Z"
   },
   {
    "duration": 55,
    "start_time": "2023-03-09T08:07:41.482Z"
   },
   {
    "duration": 17,
    "start_time": "2023-03-09T08:07:41.539Z"
   },
   {
    "duration": 12,
    "start_time": "2023-03-09T08:07:41.558Z"
   },
   {
    "duration": 4,
    "start_time": "2023-03-09T08:07:41.571Z"
   },
   {
    "duration": 25,
    "start_time": "2023-03-09T08:07:41.576Z"
   },
   {
    "duration": 4,
    "start_time": "2023-03-09T08:07:41.603Z"
   },
   {
    "duration": 10,
    "start_time": "2023-03-09T08:07:41.608Z"
   },
   {
    "duration": 4,
    "start_time": "2023-03-09T08:07:41.620Z"
   },
   {
    "duration": 21,
    "start_time": "2023-03-09T08:07:41.626Z"
   },
   {
    "duration": 4,
    "start_time": "2023-03-09T08:07:41.649Z"
   },
   {
    "duration": 5,
    "start_time": "2023-03-09T08:07:41.654Z"
   },
   {
    "duration": 31,
    "start_time": "2023-03-09T08:07:41.660Z"
   },
   {
    "duration": 17,
    "start_time": "2023-03-09T08:07:41.693Z"
   },
   {
    "duration": 5,
    "start_time": "2023-03-09T08:07:41.711Z"
   },
   {
    "duration": 6,
    "start_time": "2023-03-09T08:07:41.717Z"
   },
   {
    "duration": 11,
    "start_time": "2023-03-09T08:07:41.724Z"
   },
   {
    "duration": 8,
    "start_time": "2023-03-09T08:07:41.736Z"
   },
   {
    "duration": 5,
    "start_time": "2023-03-09T08:07:41.745Z"
   },
   {
    "duration": 41,
    "start_time": "2023-03-09T08:07:41.752Z"
   },
   {
    "duration": 15,
    "start_time": "2023-03-09T08:07:41.795Z"
   },
   {
    "duration": 2,
    "start_time": "2023-03-09T08:07:41.811Z"
   },
   {
    "duration": 5,
    "start_time": "2023-03-09T08:07:41.814Z"
   },
   {
    "duration": 12,
    "start_time": "2023-03-09T08:07:41.821Z"
   },
   {
    "duration": 14,
    "start_time": "2023-03-09T08:07:41.834Z"
   },
   {
    "duration": 13,
    "start_time": "2023-03-09T08:07:41.849Z"
   },
   {
    "duration": 40,
    "start_time": "2023-03-09T08:07:41.864Z"
   },
   {
    "duration": 15,
    "start_time": "2023-03-09T08:07:41.908Z"
   },
   {
    "duration": 13,
    "start_time": "2023-03-09T08:07:41.924Z"
   },
   {
    "duration": 4,
    "start_time": "2023-03-09T08:07:41.938Z"
   },
   {
    "duration": 8,
    "start_time": "2023-03-09T08:07:41.944Z"
   },
   {
    "duration": 8,
    "start_time": "2023-03-09T08:07:41.954Z"
   },
   {
    "duration": 15,
    "start_time": "2023-03-09T08:07:41.990Z"
   },
   {
    "duration": 314,
    "start_time": "2023-03-09T08:07:42.007Z"
   },
   {
    "duration": 279,
    "start_time": "2023-03-09T08:07:42.323Z"
   },
   {
    "duration": 18,
    "start_time": "2023-03-09T08:07:42.603Z"
   },
   {
    "duration": 15,
    "start_time": "2023-03-09T08:07:42.623Z"
   },
   {
    "duration": 295,
    "start_time": "2023-03-09T08:07:42.639Z"
   },
   {
    "duration": 6,
    "start_time": "2023-03-09T08:07:42.936Z"
   },
   {
    "duration": 287,
    "start_time": "2023-03-09T08:07:42.944Z"
   },
   {
    "duration": 203,
    "start_time": "2023-03-09T08:07:43.233Z"
   },
   {
    "duration": 195,
    "start_time": "2023-03-09T08:07:43.438Z"
   },
   {
    "duration": 7,
    "start_time": "2023-03-09T08:07:43.635Z"
   },
   {
    "duration": 156,
    "start_time": "2023-03-09T08:07:43.643Z"
   },
   {
    "duration": 7,
    "start_time": "2023-03-09T08:07:43.800Z"
   },
   {
    "duration": 146,
    "start_time": "2023-03-09T08:07:43.808Z"
   },
   {
    "duration": 7,
    "start_time": "2023-03-09T08:07:43.956Z"
   },
   {
    "duration": 169,
    "start_time": "2023-03-09T08:07:43.965Z"
   },
   {
    "duration": 7,
    "start_time": "2023-03-09T08:07:44.135Z"
   },
   {
    "duration": 154,
    "start_time": "2023-03-09T08:07:44.144Z"
   },
   {
    "duration": 7,
    "start_time": "2023-03-09T08:07:44.300Z"
   },
   {
    "duration": 147,
    "start_time": "2023-03-09T08:07:44.308Z"
   },
   {
    "duration": 8,
    "start_time": "2023-03-09T08:07:44.456Z"
   },
   {
    "duration": 185,
    "start_time": "2023-03-09T08:07:44.465Z"
   },
   {
    "duration": 181,
    "start_time": "2023-03-09T08:07:44.651Z"
   },
   {
    "duration": 9,
    "start_time": "2023-03-09T08:07:44.834Z"
   },
   {
    "duration": 53,
    "start_time": "2023-03-09T08:07:44.844Z"
   },
   {
    "duration": 24,
    "start_time": "2023-03-09T08:07:44.898Z"
   },
   {
    "duration": 23,
    "start_time": "2023-03-09T08:07:44.923Z"
   },
   {
    "duration": 45,
    "start_time": "2023-03-09T08:07:44.947Z"
   },
   {
    "duration": 8,
    "start_time": "2023-03-09T08:07:44.994Z"
   },
   {
    "duration": 42,
    "start_time": "2023-10-11T11:39:24.430Z"
   },
   {
    "duration": 1226,
    "start_time": "2023-10-11T11:39:33.376Z"
   },
   {
    "duration": 102,
    "start_time": "2023-10-11T11:39:38.577Z"
   },
   {
    "duration": 17,
    "start_time": "2023-10-11T11:54:36.712Z"
   },
   {
    "duration": 4,
    "start_time": "2023-10-11T11:55:17.024Z"
   },
   {
    "duration": 1456,
    "start_time": "2023-10-16T06:14:36.694Z"
   },
   {
    "duration": 116,
    "start_time": "2023-10-16T06:14:40.696Z"
   },
   {
    "duration": 19,
    "start_time": "2023-10-16T06:14:44.558Z"
   },
   {
    "duration": 5,
    "start_time": "2023-10-16T06:14:47.670Z"
   },
   {
    "duration": 14,
    "start_time": "2023-10-16T06:14:54.591Z"
   },
   {
    "duration": 4,
    "start_time": "2023-10-16T06:23:23.259Z"
   },
   {
    "duration": 9,
    "start_time": "2023-10-16T06:23:36.026Z"
   },
   {
    "duration": 6,
    "start_time": "2023-10-16T06:23:57.218Z"
   },
   {
    "duration": 29,
    "start_time": "2023-10-16T06:24:09.859Z"
   },
   {
    "duration": 5,
    "start_time": "2023-10-16T06:24:12.611Z"
   },
   {
    "duration": 3,
    "start_time": "2023-10-16T06:25:27.587Z"
   },
   {
    "duration": 13,
    "start_time": "2023-10-16T06:28:39.875Z"
   },
   {
    "duration": 54,
    "start_time": "2023-10-17T07:27:03.135Z"
   },
   {
    "duration": 1418,
    "start_time": "2023-10-17T07:27:16.639Z"
   },
   {
    "duration": 116,
    "start_time": "2023-10-17T07:27:18.059Z"
   },
   {
    "duration": 20,
    "start_time": "2023-10-17T07:27:18.177Z"
   },
   {
    "duration": 5,
    "start_time": "2023-10-17T07:27:18.199Z"
   },
   {
    "duration": 6,
    "start_time": "2023-10-17T07:27:28.754Z"
   },
   {
    "duration": 15,
    "start_time": "2023-10-17T07:27:42.347Z"
   },
   {
    "duration": 4,
    "start_time": "2023-10-17T07:27:49.267Z"
   },
   {
    "duration": 10,
    "start_time": "2023-10-17T07:27:59.995Z"
   },
   {
    "duration": 7,
    "start_time": "2023-10-17T07:28:25.595Z"
   },
   {
    "duration": 29,
    "start_time": "2023-10-17T07:28:35.899Z"
   },
   {
    "duration": 14,
    "start_time": "2023-10-17T07:28:42.234Z"
   },
   {
    "duration": 13,
    "start_time": "2023-10-17T07:29:32.508Z"
   },
   {
    "duration": 4,
    "start_time": "2023-10-17T07:39:10.881Z"
   },
   {
    "duration": 7,
    "start_time": "2023-10-17T07:39:27.826Z"
   },
   {
    "duration": 21,
    "start_time": "2023-10-17T07:41:16.529Z"
   },
   {
    "duration": 7,
    "start_time": "2023-10-17T07:41:26.674Z"
   },
   {
    "duration": 6,
    "start_time": "2023-10-17T07:41:35.627Z"
   },
   {
    "duration": 113,
    "start_time": "2023-10-17T07:41:44.442Z"
   },
   {
    "duration": 11,
    "start_time": "2023-10-17T07:41:50.945Z"
   },
   {
    "duration": 6,
    "start_time": "2023-10-17T07:42:40.209Z"
   },
   {
    "duration": 22,
    "start_time": "2023-10-17T07:43:48.385Z"
   },
   {
    "duration": 8,
    "start_time": "2023-10-17T07:45:22.754Z"
   },
   {
    "duration": 4,
    "start_time": "2023-10-17T07:48:41.410Z"
   },
   {
    "duration": 9,
    "start_time": "2023-10-17T07:48:44.145Z"
   },
   {
    "duration": 10,
    "start_time": "2023-10-17T07:48:53.057Z"
   },
   {
    "duration": 22,
    "start_time": "2023-10-17T07:49:01.026Z"
   },
   {
    "duration": 15,
    "start_time": "2023-10-17T07:52:21.028Z"
   },
   {
    "duration": 20,
    "start_time": "2023-10-17T07:53:40.089Z"
   },
   {
    "duration": 17,
    "start_time": "2023-10-17T07:54:59.113Z"
   },
   {
    "duration": 21,
    "start_time": "2023-10-17T07:55:50.793Z"
   },
   {
    "duration": 42,
    "start_time": "2023-10-17T07:56:23.745Z"
   },
   {
    "duration": 4,
    "start_time": "2023-10-17T08:00:20.721Z"
   },
   {
    "duration": 9,
    "start_time": "2023-10-17T08:00:32.729Z"
   },
   {
    "duration": 10,
    "start_time": "2023-10-17T08:29:56.267Z"
   },
   {
    "duration": 8,
    "start_time": "2023-10-17T08:30:04.115Z"
   },
   {
    "duration": 352,
    "start_time": "2023-10-17T08:30:46.681Z"
   },
   {
    "duration": 315,
    "start_time": "2023-10-17T08:30:51.335Z"
   },
   {
    "duration": 318,
    "start_time": "2023-10-17T08:31:00.658Z"
   },
   {
    "duration": 348,
    "start_time": "2023-10-17T08:37:00.698Z"
   },
   {
    "duration": 10,
    "start_time": "2023-10-17T08:42:25.753Z"
   },
   {
    "duration": 39,
    "start_time": "2023-10-17T08:44:18.097Z"
   },
   {
    "duration": 100,
    "start_time": "2023-10-17T08:44:29.462Z"
   },
   {
    "duration": 86,
    "start_time": "2023-10-17T08:44:47.881Z"
   },
   {
    "duration": 62,
    "start_time": "2023-10-17T08:44:53.697Z"
   },
   {
    "duration": 21,
    "start_time": "2023-10-17T08:45:00.938Z"
   },
   {
    "duration": 361,
    "start_time": "2023-10-17T08:46:48.369Z"
   },
   {
    "duration": 272,
    "start_time": "2023-10-17T08:46:51.651Z"
   },
   {
    "duration": 283,
    "start_time": "2023-10-17T08:47:42.673Z"
   },
   {
    "duration": 6,
    "start_time": "2023-10-17T08:51:12.794Z"
   },
   {
    "duration": 349,
    "start_time": "2023-10-17T08:52:34.345Z"
   },
   {
    "duration": 336,
    "start_time": "2023-10-17T08:55:10.540Z"
   },
   {
    "duration": 282,
    "start_time": "2023-10-17T08:56:06.434Z"
   },
   {
    "duration": 241,
    "start_time": "2023-10-17T08:56:33.969Z"
   },
   {
    "duration": 303,
    "start_time": "2023-10-17T08:58:02.012Z"
   },
   {
    "duration": 1238,
    "start_time": "2023-10-20T06:22:20.762Z"
   },
   {
    "duration": 108,
    "start_time": "2023-10-20T06:22:22.002Z"
   },
   {
    "duration": 18,
    "start_time": "2023-10-20T06:22:22.112Z"
   },
   {
    "duration": 26,
    "start_time": "2023-10-20T06:22:22.132Z"
   },
   {
    "duration": 9,
    "start_time": "2023-10-20T06:22:22.159Z"
   },
   {
    "duration": 42,
    "start_time": "2023-10-20T06:22:22.169Z"
   },
   {
    "duration": 8,
    "start_time": "2023-10-20T06:22:22.213Z"
   },
   {
    "duration": 14,
    "start_time": "2023-10-20T06:22:22.222Z"
   },
   {
    "duration": 14,
    "start_time": "2023-10-20T06:22:22.238Z"
   },
   {
    "duration": 26,
    "start_time": "2023-10-20T06:22:22.258Z"
   },
   {
    "duration": 12,
    "start_time": "2023-10-20T06:22:22.285Z"
   },
   {
    "duration": 14,
    "start_time": "2023-10-20T06:22:22.298Z"
   },
   {
    "duration": 39,
    "start_time": "2023-10-20T06:22:22.313Z"
   },
   {
    "duration": 28,
    "start_time": "2023-10-20T06:22:22.353Z"
   },
   {
    "duration": 14,
    "start_time": "2023-10-20T06:22:22.383Z"
   },
   {
    "duration": 10,
    "start_time": "2023-10-20T06:22:22.399Z"
   },
   {
    "duration": 43,
    "start_time": "2023-10-20T06:22:22.411Z"
   },
   {
    "duration": 9,
    "start_time": "2023-10-20T06:22:22.457Z"
   },
   {
    "duration": 13,
    "start_time": "2023-10-20T06:22:22.467Z"
   },
   {
    "duration": 7,
    "start_time": "2023-10-20T06:22:22.482Z"
   },
   {
    "duration": 21,
    "start_time": "2023-10-20T06:22:22.491Z"
   },
   {
    "duration": 51,
    "start_time": "2023-10-20T06:22:22.514Z"
   },
   {
    "duration": 16,
    "start_time": "2023-10-20T06:22:22.567Z"
   },
   {
    "duration": 40,
    "start_time": "2023-10-20T06:22:22.585Z"
   },
   {
    "duration": 31,
    "start_time": "2023-10-20T06:22:22.626Z"
   },
   {
    "duration": 27,
    "start_time": "2023-10-20T06:22:22.659Z"
   },
   {
    "duration": 4,
    "start_time": "2023-10-20T06:22:22.688Z"
   },
   {
    "duration": 15,
    "start_time": "2023-10-20T06:22:22.695Z"
   },
   {
    "duration": 14,
    "start_time": "2023-10-20T06:22:22.711Z"
   },
   {
    "duration": 21,
    "start_time": "2023-10-20T06:22:22.726Z"
   },
   {
    "duration": 305,
    "start_time": "2023-10-20T06:22:22.754Z"
   },
   {
    "duration": 302,
    "start_time": "2023-10-20T06:22:23.061Z"
   },
   {
    "duration": 7,
    "start_time": "2023-10-20T06:22:23.365Z"
   },
   {
    "duration": 25,
    "start_time": "2023-10-20T06:22:23.373Z"
   },
   {
    "duration": 302,
    "start_time": "2023-10-20T06:22:23.399Z"
   },
   {
    "duration": 5,
    "start_time": "2023-10-20T06:22:23.703Z"
   },
   {
    "duration": 303,
    "start_time": "2023-10-20T06:22:23.709Z"
   },
   {
    "duration": 235,
    "start_time": "2023-10-20T06:22:24.013Z"
   },
   {
    "duration": 99,
    "start_time": "2023-10-20T06:23:45.060Z"
   },
   {
    "duration": 183,
    "start_time": "2023-10-20T06:24:07.716Z"
   },
   {
    "duration": 195,
    "start_time": "2023-10-20T06:24:22.092Z"
   },
   {
    "duration": 164,
    "start_time": "2023-10-20T06:24:25.988Z"
   },
   {
    "duration": 161,
    "start_time": "2023-10-20T06:25:07.276Z"
   },
   {
    "duration": 164,
    "start_time": "2023-10-20T06:25:34.508Z"
   },
   {
    "duration": 7,
    "start_time": "2023-10-20T06:27:27.068Z"
   },
   {
    "duration": 7,
    "start_time": "2023-10-20T06:28:50.668Z"
   },
   {
    "duration": 8,
    "start_time": "2023-10-20T06:29:03.763Z"
   },
   {
    "duration": 9,
    "start_time": "2023-10-20T06:29:12.661Z"
   },
   {
    "duration": 13,
    "start_time": "2023-10-20T06:29:22.262Z"
   },
   {
    "duration": 99,
    "start_time": "2023-10-20T06:32:06.945Z"
   },
   {
    "duration": 164,
    "start_time": "2023-10-20T06:32:13.028Z"
   },
   {
    "duration": 7,
    "start_time": "2023-10-20T06:33:02.884Z"
   },
   {
    "duration": 179,
    "start_time": "2023-10-20T06:37:27.796Z"
   },
   {
    "duration": 180,
    "start_time": "2023-10-20T06:37:33.124Z"
   },
   {
    "duration": 182,
    "start_time": "2023-10-20T06:38:37.292Z"
   },
   {
    "duration": 10,
    "start_time": "2023-10-20T07:34:17.101Z"
   },
   {
    "duration": 2256,
    "start_time": "2023-10-20T07:35:08.175Z"
   },
   {
    "duration": 191,
    "start_time": "2023-10-20T07:35:16.773Z"
   },
   {
    "duration": 8,
    "start_time": "2023-10-20T07:37:49.579Z"
   },
   {
    "duration": 177,
    "start_time": "2023-10-20T07:39:41.515Z"
   },
   {
    "duration": 189,
    "start_time": "2023-10-20T07:39:45.076Z"
   },
   {
    "duration": 7,
    "start_time": "2023-10-20T07:40:26.188Z"
   },
   {
    "duration": 226,
    "start_time": "2023-10-20T07:44:57.586Z"
   },
   {
    "duration": 8,
    "start_time": "2023-10-20T07:46:54.671Z"
   },
   {
    "duration": 184,
    "start_time": "2023-10-20T07:53:15.873Z"
   },
   {
    "duration": 209,
    "start_time": "2023-10-20T07:53:26.373Z"
   },
   {
    "duration": 207,
    "start_time": "2023-10-20T07:55:15.470Z"
   },
   {
    "duration": 139,
    "start_time": "2023-10-20T07:55:50.838Z"
   },
   {
    "duration": 213,
    "start_time": "2023-10-20T07:56:01.998Z"
   },
   {
    "duration": 216,
    "start_time": "2023-10-20T07:59:41.709Z"
   },
   {
    "duration": 10,
    "start_time": "2023-10-20T08:01:21.606Z"
   },
   {
    "duration": 42,
    "start_time": "2023-10-20T08:05:17.421Z"
   },
   {
    "duration": 25,
    "start_time": "2023-10-20T08:06:58.500Z"
   },
   {
    "duration": 24,
    "start_time": "2023-10-20T08:07:12.913Z"
   },
   {
    "duration": 26,
    "start_time": "2023-10-20T08:07:16.471Z"
   },
   {
    "duration": 26,
    "start_time": "2023-10-20T08:07:46.093Z"
   },
   {
    "duration": 26,
    "start_time": "2023-10-20T08:09:33.377Z"
   },
   {
    "duration": 10,
    "start_time": "2023-10-20T08:09:52.476Z"
   },
   {
    "duration": 8,
    "start_time": "2023-10-20T08:16:46.770Z"
   },
   {
    "duration": 9,
    "start_time": "2023-10-20T08:24:47.796Z"
   },
   {
    "duration": 8,
    "start_time": "2023-10-20T08:25:44.957Z"
   },
   {
    "duration": 15,
    "start_time": "2023-10-20T08:28:38.636Z"
   },
   {
    "duration": 5,
    "start_time": "2023-10-20T08:28:47.100Z"
   },
   {
    "duration": 1059,
    "start_time": "2023-10-20T08:39:50.764Z"
   },
   {
    "duration": 77,
    "start_time": "2023-10-20T08:39:51.825Z"
   },
   {
    "duration": 17,
    "start_time": "2023-10-20T08:39:51.904Z"
   },
   {
    "duration": 16,
    "start_time": "2023-10-20T08:39:51.922Z"
   },
   {
    "duration": 23,
    "start_time": "2023-10-20T08:39:51.939Z"
   },
   {
    "duration": 16,
    "start_time": "2023-10-20T08:39:51.963Z"
   },
   {
    "duration": 5,
    "start_time": "2023-10-20T08:39:51.981Z"
   },
   {
    "duration": 16,
    "start_time": "2023-10-20T08:39:51.987Z"
   },
   {
    "duration": 20,
    "start_time": "2023-10-20T08:39:52.004Z"
   },
   {
    "duration": 45,
    "start_time": "2023-10-20T08:39:52.027Z"
   },
   {
    "duration": 13,
    "start_time": "2023-10-20T08:39:52.074Z"
   },
   {
    "duration": 10,
    "start_time": "2023-10-20T08:39:52.089Z"
   },
   {
    "duration": 32,
    "start_time": "2023-10-20T08:39:52.101Z"
   },
   {
    "duration": 43,
    "start_time": "2023-10-20T08:39:52.134Z"
   },
   {
    "duration": 12,
    "start_time": "2023-10-20T08:39:52.179Z"
   },
   {
    "duration": 20,
    "start_time": "2023-10-20T08:39:52.192Z"
   },
   {
    "duration": 39,
    "start_time": "2023-10-20T08:39:52.213Z"
   },
   {
    "duration": 13,
    "start_time": "2023-10-20T08:39:52.254Z"
   },
   {
    "duration": 11,
    "start_time": "2023-10-20T08:39:52.269Z"
   },
   {
    "duration": 10,
    "start_time": "2023-10-20T08:39:52.281Z"
   },
   {
    "duration": 11,
    "start_time": "2023-10-20T08:39:52.293Z"
   },
   {
    "duration": 39,
    "start_time": "2023-10-20T08:39:52.305Z"
   },
   {
    "duration": 30,
    "start_time": "2023-10-20T08:39:52.347Z"
   },
   {
    "duration": 18,
    "start_time": "2023-10-20T08:39:52.378Z"
   },
   {
    "duration": 18,
    "start_time": "2023-10-20T08:39:52.398Z"
   },
   {
    "duration": 28,
    "start_time": "2023-10-20T08:39:52.418Z"
   },
   {
    "duration": 9,
    "start_time": "2023-10-20T08:39:52.447Z"
   },
   {
    "duration": 7,
    "start_time": "2023-10-20T08:39:52.460Z"
   },
   {
    "duration": 17,
    "start_time": "2023-10-20T08:39:52.469Z"
   },
   {
    "duration": 14,
    "start_time": "2023-10-20T08:39:52.488Z"
   },
   {
    "duration": 384,
    "start_time": "2023-10-20T08:39:52.504Z"
   },
   {
    "duration": 294,
    "start_time": "2023-10-20T08:39:52.890Z"
   },
   {
    "duration": 8,
    "start_time": "2023-10-20T08:39:53.186Z"
   },
   {
    "duration": 20,
    "start_time": "2023-10-20T08:39:53.195Z"
   },
   {
    "duration": 285,
    "start_time": "2023-10-20T08:39:53.216Z"
   },
   {
    "duration": 5,
    "start_time": "2023-10-20T08:39:53.503Z"
   },
   {
    "duration": 287,
    "start_time": "2023-10-20T08:39:53.509Z"
   },
   {
    "duration": 250,
    "start_time": "2023-10-20T08:39:53.798Z"
   },
   {
    "duration": 232,
    "start_time": "2023-10-20T08:39:54.049Z"
   },
   {
    "duration": 8,
    "start_time": "2023-10-20T08:39:54.283Z"
   },
   {
    "duration": 190,
    "start_time": "2023-10-20T08:39:54.292Z"
   },
   {
    "duration": 8,
    "start_time": "2023-10-20T08:39:54.483Z"
   },
   {
    "duration": 195,
    "start_time": "2023-10-20T08:39:54.492Z"
   },
   {
    "duration": 8,
    "start_time": "2023-10-20T08:39:54.688Z"
   },
   {
    "duration": 214,
    "start_time": "2023-10-20T08:39:54.697Z"
   },
   {
    "duration": 8,
    "start_time": "2023-10-20T08:39:54.913Z"
   },
   {
    "duration": 186,
    "start_time": "2023-10-20T08:39:54.923Z"
   },
   {
    "duration": 8,
    "start_time": "2023-10-20T08:39:55.110Z"
   },
   {
    "duration": 189,
    "start_time": "2023-10-20T08:39:55.119Z"
   },
   {
    "duration": 7,
    "start_time": "2023-10-20T08:39:55.309Z"
   },
   {
    "duration": 241,
    "start_time": "2023-10-20T08:39:55.317Z"
   },
   {
    "duration": 225,
    "start_time": "2023-10-20T08:39:55.559Z"
   },
   {
    "duration": 10,
    "start_time": "2023-10-20T08:39:55.786Z"
   },
   {
    "duration": 62,
    "start_time": "2023-10-20T08:39:55.798Z"
   },
   {
    "duration": 28,
    "start_time": "2023-10-20T08:39:55.862Z"
   },
   {
    "duration": 65,
    "start_time": "2023-10-20T08:39:55.891Z"
   },
   {
    "duration": 9,
    "start_time": "2023-10-20T08:39:55.957Z"
   },
   {
    "duration": 9,
    "start_time": "2023-10-20T08:39:55.967Z"
   }
  ],
  "kernelspec": {
   "display_name": "Python 3 (ipykernel)",
   "language": "python",
   "name": "python3"
  },
  "language_info": {
   "codemirror_mode": {
    "name": "ipython",
    "version": 3
   },
   "file_extension": ".py",
   "mimetype": "text/x-python",
   "name": "python",
   "nbconvert_exporter": "python",
   "pygments_lexer": "ipython3",
   "version": "3.9.5"
  },
  "toc": {
   "base_numbering": 1,
   "nav_menu": {},
   "number_sections": true,
   "sideBar": true,
   "skip_h1_title": true,
   "title_cell": "Table of Contents",
   "title_sidebar": "Contents",
   "toc_cell": false,
   "toc_position": {
    "height": "calc(100% - 180px)",
    "left": "10px",
    "top": "150px",
    "width": "366.188px"
   },
   "toc_section_display": true,
   "toc_window_display": true
  }
 },
 "nbformat": 4,
 "nbformat_minor": 2
}
